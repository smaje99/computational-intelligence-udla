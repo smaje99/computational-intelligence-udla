{
  "nbformat": 4,
  "nbformat_minor": 0,
  "metadata": {
    "colab": {
      "provenance": [],
      "toc_visible": true
    },
    "kernelspec": {
      "name": "python3",
      "display_name": "Python 3"
    },
    "language_info": {
      "name": "python"
    }
  },
  "cells": [
    {
      "cell_type": "markdown",
      "source": [
        "<div align=\"center\">\n",
        "  <h1>Árboles de Decisión, Random Forest y KNN(K-Nearest Neighbors)</h1>\n",
        "  <p>\n",
        "    Autores:<br />\n",
        "    Sergio Andrés Majé Franco<br />\n",
        "  </p> \n",
        "  <p>\n",
        "    Docente:<br />\n",
        "    Dr. Jesús Emilio Pinto Lopera \n",
        "  </p>\n",
        "  <p>\n",
        "    Universidad de la Amazonia<br />\n",
        "    Facultad de Ingeniería<br />\n",
        "    Programa Ingeniería de Sistemas<br />\n",
        "    Florencia - Caquetá<br />\n",
        "    2023\n",
        "  </p>\n",
        "</div>"
      ],
      "metadata": {
        "id": "vXCjwu4YSe22"
      }
    },
    {
      "cell_type": "markdown",
      "source": [
        "## Tabla de Contenido\n",
        "\n",
        "1. Introducción\n",
        "2. Desarrollo Metodológico\n",
        "    1. Desarrollo Teórico\n",
        "      1. Árboles de decisión\n",
        "        2. Estructura de un Árbol de Decisón \n",
        "        3. Creación de un Árbol de Decisión\n",
        "      2. Random Forest\n",
        "      3. KNN (k-Nearest Neighbors)\n",
        "    2. Desarrollo Computacional\n",
        "      1. Preprocesamiento del dataset\n",
        "      2. Árboles de decisión\n",
        "      3. Random Forest\n",
        "      4. KNN (k-Nearest Neighbors)\n",
        "3. Problemas\n",
        "4. Resultados\n",
        "  1. Dataset\n",
        "  2. Árbol de decisión\n",
        "  3. Random Forest\n",
        "  4. KNN (K-Nearest Neighbors)\n",
        "  5. Benchmarking\n",
        "5. Conclusiones\n",
        "6. Referencias"
      ],
      "metadata": {
        "id": "m7WpI61HSyLc"
      }
    },
    {
      "cell_type": "markdown",
      "source": [
        "## Tabla de Fórmulas\n",
        "\n",
        "1. Fórmula 1. Índice de Gini\n",
        "2. Fórmula 2. Entropía\n",
        "3. Fórmula 3. RSS\n",
        "4. Fórmula 4. Distancia Euclidiana\n",
        "5. Fórmula 5. Distancia Manhattan\n",
        "6. Fórmula 6. Distancia Minkowski "
      ],
      "metadata": {
        "id": "WH_iU4V0S5ZO"
      }
    },
    {
      "cell_type": "markdown",
      "source": [
        "## Tabla de Tablas\n",
        "\n",
        "1. Tabla 1. Dataset Titanic\n",
        "2. Tabla 2. Datos dependientes de entrenamiento\n",
        "\n"
      ],
      "metadata": {
        "id": "-9UYv9r8S-Fs"
      }
    },
    {
      "cell_type": "markdown",
      "source": [
        "## Tabla de Imágenes\n",
        "\n",
        "1. Imagen 1. Random Forest\n",
        "2. Imagen 2. K vecinos mas Cercanos\n",
        "3. Imagen 3. Árbol de decisión\n",
        "4. Imagen 4. Feature importance del modelo de árbol de decisión\n",
        "5. Imagen 5. Primer árbol de decisión del modelo random forest\n",
        "6. Imagen 6. Feature importance del modelo de Random Forest\n",
        "7. Imagen 7. Benchmarking de las métricas\n"
      ],
      "metadata": {
        "id": "BMKN44nyzE3y"
      }
    },
    {
      "cell_type": "markdown",
      "source": [
        "## 1. Introducción\n"
      ],
      "metadata": {
        "id": "FtQeNRDrTBmr"
      }
    },
    {
      "cell_type": "markdown",
      "source": [
        "El apoyo que hoy en día todo ser humano necesita para la toma de decisiones, comprende en saber utilizar y escoger una herramienta optima para resolver o modelar el resultado de un problema, las posibles consecuencias que incluyen estos recursos se emplean para poder convertir estos métodos en uno de los más alusivos al obtener resultados óptimos que se generan de problemas muy extensos.En el siguiente cuerpo de trabajo lo que se quiere dar a explorar son las diferentes maneras de construir y predecir los árboles de decisión divididos en clasificación y regresión, los destacados elementos de los modelos predictivos; entre ellos, Random Forest y Knn(k-Nearest Neighbors).\n",
        "\n",
        "Según lo relatado en (Stanford CS109).\n",
        "\n",
        "\"El 15 de abril de 1912, el transatlántico de pasajeros más grande jamás construido chocó con un iceberg durante su viaje inaugural. Cuando el Titanic se hundió, mató a 1502 de los 2224 pasajeros y tripulantes. Esta sensacional tragedia conmocionó a la comunidad internacional y dio lugar a mejores normas de seguridad para los buques.\n",
        "Una de las razones por las que el naufragio resultó en tal pérdida de vidas fue que no había suficientes botes salvavidas para los pasajeros y la tripulación. Aunque hubo algún elemento de suerte involucrado en sobrevivir al hundimiento, algunos grupos de personas tenían más probabilidades de sobrevivir que otros.\"\n",
        "\n",
        "Con el relato anterior se entiende que los datos a trabajar y clasificar en este informe están relacionados con los pasajeros que abordaron el *Titanic*.\n",
        "\n",
        "Estos datos están compuestos del indicador de sobrevivenvia, la clase de pasaje. el nombre, sexo, edad, familiares a bordo y costos en el viaje de cada uno de los pasajeros."
      ],
      "metadata": {
        "id": "huFYkln5OI4G"
      }
    },
    {
      "cell_type": "markdown",
      "source": [
        "## 2. Desarrollo Metodológico"
      ],
      "metadata": {
        "id": "5Qf3jDNjTGpX"
      }
    },
    {
      "cell_type": "markdown",
      "source": [
        "### 2.1. Desarrollo Teoríco"
      ],
      "metadata": {
        "id": "HikGoHWYTJu3"
      }
    },
    {
      "cell_type": "markdown",
      "source": [
        "#### 2.1.1. Árboles de Decisión"
      ],
      "metadata": {
        "id": "JfJcfsGbQBfD"
      }
    },
    {
      "cell_type": "markdown",
      "source": [
        "Un arbol de desición, es un modelo predictivo que logra generar aprendizaje en poder agrupar las observaciones por medio de pautas mas eficientes con valores similares ya sea para la variable respuesta o dependiente. Este espacio muestral lo que conlleva es a representarla por subregiones, donde se requiere aplicar ciertas decisiones para poder obtener una alta proporción de individuos en la población. Dicho lo anteriormente, si una subregión se integran datos de diferentes clases, lo que lleva a tomar es que las regiones mas pequeñas se subdividan hasta poder lograr fragmentar el espacio en todas las subregiones que pertenecen a la categoría menos, integrando toda información de la misma clase.\n",
        "\n",
        "Cabe resaltar la importancia que presenta el resolver un tipo de problema y el cual dependerá de la variable a predecir, para ellos se despliega las principales:\n",
        "\n",
        "* **Variable Dependiente**: Presenta un problema de regresión\n",
        "* **Variable Categórica**: Se enfrentaría a un problema de clasificación \n",
        "\n",
        "Un árbol de decisión se representa como un algoritmo de aprendizaje mencionado anteriormente y el cual contiene dos diferentes tipos, entre ellos: están los supervisados y los no supervisados. Este modelo es un algoritmo supervisado de aprendizaje automático, ya que para poder que el aprenda, se necesita de una variable dependiente en el entrenamiento del conjunto.\n"
      ],
      "metadata": {
        "id": "jytSFyLQUJ3R"
      }
    },
    {
      "cell_type": "markdown",
      "source": [
        "#### 2.1.1.1. Estructura de un Árbol de Decisón "
      ],
      "metadata": {
        "id": "0PRU1pjGhkQu"
      }
    },
    {
      "cell_type": "markdown",
      "source": [
        "Se distinguen los siguientes tipos de nodos, teniendo en cuenta que la lectura corresponde de arriba hacia abajo: \n",
        "\n",
        "* **Nodo Raíz**: En el modo en el que se produce la operación división por primera vez, en función de la variable mas relevante.\n",
        "* **Nodos intermedio**s: Estos nuevamente dividen el conjunto de datos en función a las variables establecidas.\n",
        "* **Nodos terminales u hojas**: corresponden en la parte inferior del diagrama y la función que le otorgan es indicar el resultado de su clasificación.\n"
      ],
      "metadata": {
        "id": "sgE7CO3_h2-b"
      }
    },
    {
      "cell_type": "markdown",
      "source": [
        "#### 2.1.1.2. Creación de un Árbol de Decisión"
      ],
      "metadata": {
        "id": "7CTO-xuGiLDk"
      }
    },
    {
      "cell_type": "markdown",
      "source": [
        "Se lleva a cabo, al aplicar el algoritmo de Hunt, el cual divide en sub conjuntos con el fin de separarlos eficazmente. Si pertenecen a la misma clase una vez entrenados, se establece que es un nodo terminal, sin embargo, si pertenecen a varias clases, esos datos se dividen en subconjuntos pequeños claramente en función de una respectiva variable y así continuamente se repite el proceso.\n",
        "\n",
        "A continuación se dará a conocer el proceso del error de clasificación, por el cual seleccionar la mejor variable y así poder tener mejores resultados.\n",
        "\n",
        "**Índice de Gini**\n",
        "\n",
        "Este índice, mide el grado de pureza de un nodo, obteniendo la probabilidad de no retirar dos registros que correspondan a la misma clase del nodo. Para tener en cuenta: que a mayor indicie de Gini es menos su pureza y se define de la siguiente manera:  \n",
        "\n",
        "$$ GINI\\ (t)\\ =\\ 1\\ -\\sum_{i\\ =\\ 1}^{n}{(pi)}^2 $$\n",
        "\n",
        "<div align=\"center\">\n",
        "    Fórmula 1. Índice de Gini\n",
        "</div>\n",
        "\n",
        "Siendo $Pi$: Probabilidad de que un ejemplo sea de la clase $i$\n",
        "\n",
        "**Entropía**\n",
        "\n",
        "Es la medida por la cual se aplica para crear nodos balanceados en el numero de observaciones dadas, cuantifica el desorden de un sistema y establece que si un nodo en de entropía 0 y solo presenta observaciones de una clase, este tendrá la entropía igual a 1 y así para las demás observaciones. Se define así:\n",
        "\n",
        "$$ H=\\ \\ -\\sum_{i\\ =\\ 1}^{n}{Pi\\ *\\ \\log_2P_i} $$\n",
        "\n",
        "<div align=\"center\">\n",
        "    Fórmula 2. Entropía\n",
        "</div>\n",
        "\n",
        "Siendo $Pi$: Probabilidad de que un ejemplo sea de la clase $i$ \n",
        "\n",
        "Para el caso de que un problema sea de regresión, los árboles de decisión utiliza el llamado RSS (Residual Sum of Squares) el cual representa la medida de la discrepancia en relacionar los datos reales con el modelo, lo que se busca es minimizar el RSS. Se define de la siguiente forma: \n",
        "\n",
        "\n",
        "$$\\sum_{i\\ =\\ 1}^{n}Pi*\\ \\log_2P_i$$\n",
        "\n",
        "<div align=\"center\">\n",
        "    Fórmula 3. RSS\n",
        "</div>\n",
        "\n",
        "\n"
      ],
      "metadata": {
        "id": "2aojeT-niO5S"
      }
    },
    {
      "cell_type": "markdown",
      "source": [
        "#### 2.1.2. Random Forest"
      ],
      "metadata": {
        "id": "flNKU8C9QH0s"
      }
    },
    {
      "cell_type": "markdown",
      "source": [
        "Es un algoritmo en el que se combinan una variedad de árboles de decisión, que, al obtener un proceso de entrenamiento, donde se hace uso de una muestra aleatoria para cada uno de ellos. Se obtiene la predicción diferente dada en cada uno de los árboles, para poder conocer la predicción final es importante realizar una votación en el cual se escoge la que sea reportada con gran cantidad de árboles, logrando generar un modelo con una menor varianza. Ahí es donde se destaca este modelo, al tener la posibilidad de producir múltiples arboles que al combinarlos logran generar una mejor predicción, crea conjuntos de muestras aleatorias para obtener óptimos resultados en cada uno de los modelos generados. \n",
        "\n",
        "![image.png](data:image/png;base64,iVBORw0KGgoAAAANSUhEUgAAAqcAAAGdCAYAAAAv7NpSAAAAAXNSR0IArs4c6QAAAARnQU1BAACxjwv8YQUAAAAJcEhZcwAADsMAAA7DAcdvqGQAALuHSURBVHhe7J0FgBxF1sffuibZjbsr8YQES4IHd9fD3d0OOzicQw7n0MM+XA4ngZBAsBjxEHfZrLvMV/83+5bOsNmsze7szv8Xhu2u7q6urq736tUr6QifQwghhBBCCAkBIsv/EkIIIYQQ0ujQOCWEEEIIISEDjVNCCCGEEBIy0DglhBBCCCEhA41TQgghhBASMtA4JYQQQgghIQONU0IIIYQQEjLQOCWEEEIIISEDjVNCCCGEEBIy0DglhBBCCCEhA41TQgghhBASMtA4JYQQQgghIQONU0IIIYQQEjLQOCWEEEIIISEDjVNCCCGEEBIy0DglhBBCCCEhA41TQgghhBASMtA4JYQQQgghIQONU0IIIYQQEjJE+Bzl24QQQhxQi17VGBERoT9CCCHBh8YpIYRUg9LSUomMjKy2kVpSUqLnRkVFlYfUP1DfuE90dDSNZ0JIs4HGKSGEBLBx40ZJT0+vMEg7d+4srVq1qvCm0hAkhJDgwTGnhBBSDoxRcMYZZ8jQoUPltNNOkwMPPFAGDRok11xzjWRmZqphakYqzi8uLtZfWVmZhtmxl156Sb766ivdtnhxDJ5OnI+/Xt9AVccC72PH1q9fLw899JCsXbtW973XEEJIU4XGKSGEBJCXlyfnnHOOzJgxQ2bPni3vvfeevPbaa3LKKafocTNQ0WUfExOjP3hYvcbh888/L1OnTi3f84Pr0AWP8/E3EO8x885Wdh8zhOHdvffeeyU3N1f3CSGkOUDjlBBCAoDxFxcXp9uJiYmy6667yhdffCGffvpphTe0qKhIvaPHHnusHHfccfLZZ5+pQYnw22+/XRYuXCgfffSRHv/f//6n1yxYsEAuvfRSOfzww+WGG26QjIwMDQcwMO+880456qij5NRTT5W5c+eWHxF54YUX5Oijj9bfN998o8bq/Pnz5brrrpOCggK57LLL5Nxzz1VPKqAHlRDSlKFxSgghAcDINO8kgLG30047yejRo+XLL7/UsEceeUQee+wx2XnnnaVjx45y4oknytdff61GLc6Fl7Ndu3YyZswY6d69u2zevFnOOussycrKkn322Uc++eQTOf300zUuAAPz448/lvHjx0tycrIOIQC33nqrekd333136dSpU8V9evbsKf369dMufww7GDFihCQkJOg1hBDSlOGEKEIIKQeGHrySMBBHjhypxqfNhgcTJ07UyVHwmGLSVEpKSoWH9YADDpBRo0bJPffcU7G/xx57qHEJNZufn69eztatW+vx7777TocJ/P7775KamqoG5vnnny9XXHGFji2Fcbto0SKN57///a+MGzdOr7v++uv1GnhxcRxpgje3f//+eh8bDkAIIU0Vek4JISQAr4EHgw8/eFKzs7PVkAQwYm+77Tb1jMJT+u2330qbNm30GICBibGrto3hAT/99JMcdthhMnjwYDVMEWb+gYcffljuv/9+NUJfffVVDVu9erV6XM877zw1PjFJC2NZN23apMdtkpSNObW4CCGkKUPjlBBCAgj0QGJ7xYoV8vPPP8uhhx6qYWeeeaZ28T/55JMyadIk2Xvvvf8yMSk2Nrbi7+TJk+WEE06QCRMmaLf8o48+us26qQcddJB6QuE9hXf06aeflhYtWugSVjBI4Sl944035JdfftHxrwDXIg7z3nrTTAghTRUap4QQEgC8ol7mzZsnhxxyiOy77776gxcVE5Iuvvhi9ZzC+Fy1alWFMQowbtQ8nADnd+3aVa688kodO4rlnwoLC/UaGLWY9IRtLF91xBFH6EoBw4YN0+79xYsXS9++fWXIkCE6rjQtLU3jNM/rli1bdB9DEAghpKlD45QQQgKAQYjxpn369NGu+v3220+N0LfeekuPw1uJsaGXXHKJDB8+XMd9rlu3TrvYjZNOOknHpsKofOWVV3QGPjyc3bp107Gp8IzCsISBCoPz3XfflYEDB+oQgSlTpqgHFeFYx/Smm26S3r17axowMQoeVtCjRw8d14pxqfDcrly5UsO9k7kIIaSpwQlRhBBSjnXnw1OKZZmwjx+MRsy4h9GH49Z9PnPmTPWYwsNpYZhFD3DurFmz1EM6duxY6dChg3o8MTQARidm18OYxEQoeEwxWQrHMK4Vx7p06aJxwBDesGGDxoW0wHsKA9fSiln9uA5xwFCtbP1UQghpStA4JYSQaoCZ/N4xomYcbo/A4zU5H9v44X5moHqxc/EXVBUvIYQ0NWicEkJIADAIvaoRxl+ggQjss6Re49B7nh03oxZxIm4Lw7aNb/UeC7yfNz2Bx7zXBY6VJYSQpgiNU0IIIYQQEjL81RVACCGEEEJII0HjlBBCCCGEhAw0TgkhhBBCSMhA45QQQgghhIQMNE4JISRIYL4p55wSQkjN4Gx9QgghhBASMtBzSgghQQDtfnyalN+7J4SQmkHjlBBC6hFbEB+fQMWnSR988EHdp5FKCCHVg8YpIYTUIzZSKisrS5YvXy6LFy/WfY6gIoSQ6kHjlBBCgoB90tT7qVFCCCE7hlqTEEKCgHlKrZufEEJI9aBxSgghhBBCQgYap4QQQgghJGSgcUoIIYQQQkIGGqeEEEIIISRkoHFKCCGEEEJCBhqnhBBCCCEkZKBxSgghhBBCQgYap4QQQgghJGSgcUoIIYQQQkIGGqeEEEIIISRkoHFKCCGEEEJCBhqnhJCgY9+ZDwfC6VkJqQ2UEbIjaJySegeKx5SPbfMXvj8QERGhf8OBcHpWQmoDZMR0AyGVEeEKCEsIISRoeI3UcKC0tFRiYmJk6tSpMn78eDnzzDPlhRdekMLCQg0nJNwpKyuT6Ojo8j1C/gqNU1JvoCihRbxx40Z56qmnZNasWRIbG8sWchgTFRUlq1atkoyMDN0OB1De8aw5OTmybNkySU1Nle7du0tJSQm9qiSsMdmALNxzzz1y+OGHq6EaGclOXLItNE5JvVFcXKyeoYsvvliefPJJbRlDCZHwJj4+XstFOKkaGKEo+/n5+frsyAOqWhLuQC7wy8rKkokTJ8oXX3yhckIvKgmEximpN8w4RTfmSy+9JM8++6yMHTtWFVG4eM3ItsAr0rFjR0lOTtbtcADd+ikpKTJ58mQ54ogj5IQTTpCXX35ZexRYCZNwBfKfmJgoS5cu1Xphzz33lG+//ZbGKakUGqek3jDj9Oyzz9YxdtOmTZPdd99dK2sapyRcsPL+ww8/yB577FEx5tTkg5BwxLrvV65cKT179pS99tpLG3A0TkllcKAHqXesvWOeMlTW/IXvD+UAZSJcflbuse0l8Dz++Au3n8mB9y8hlUHjlAQNG+QOLxJ/4ftDObCxZuHws3KPbS+B5/HHX7j9TA4I2RE0TgkhhBBCSMhA45QQQgghhIQMNE4JIYQQQkjIQOOUEEIIIYSEDDROCSGEEEJIyEDjlBBCCCGEhAw0TgkhhBBCSMhA45QQQgghhIQMNE4JIYQQQkjIQOOUEEIIIYSEDDROCSGEEEJIyEDjlBBCCCGEhAw0Tkm94/P59G9ZWZn+JSQcsfJv8kAIoVyQ6kHjlNQ7ERER+jcyksWLhC9W/k0eCCGUC1I9om53lG8TUivQEoaimTNnjjz//PMyefJk2bBhg5SUlMgff/whQ4cOlfj4eG0pUyGR5oqV7/z8fHnmmWfkww8/VJlA2Pr16yUhIUG6detWIS+EhBOQj//85z/y9ttvy6+//qoykJaWJsXFxdKvXz/KBdmGCFdg6FsndcIqZVTAw4cPl82bN0tMTIwqnWOPPVaVkRUzKh/SnEEFC8/QWWedJS+++GKFHKSkpMhPP/0k/fv3rziHkHChtLRUoqKiBL6wO+64Q6Kjo9V5gfpgypQpMm7cOMoF2QaWBFJnoGCgfDp16iS33HKLhkHxJCUlyY033qj7ZsASEg7cfPPN0rp1azVMwWWXXUbDlIQtVuYvv/xy9ZKifgBnnnmmGqaoHygXxAtLA6kXTLGcdNJJMmjQIFU2xx13nIwaNYoVMgkbUM5R3vv06SNnnHGGhnXt2lU9qYSEK+bASE1NlQsuuEDDWrRoUbENmSHECy0GUi9A+aA13K5dO20NgyuuuEL/EhKOXHzxxdqtf/LJJ0uPHj1UPthII+GKlf2zzz5bOnToIAcffLCMGTOmosufEC+cEEXqDRio+KEiRgv5+OOPZ3cNCTsgA/AEoVs/NjZWexPatm1bIR+EhCMo+zBEMTEwMTFRDj/8cOnevXvFMUK8cEIUqXdQpGiUEvLnShasfAn5EzM7KBdke9B6IPUOK2NC/LCBRshfYf1AdgQ1JyGEBAl4iFgRE/JXKBekKtitTwghhBBCQgZ6TgkhhBBCSMhA45QQQgghhIQMNE4JIYQQQkjIQOOUEEIIIYSEDDROCSGEEEJIyMDZ+qRe8fnKxOf+GRERkRLh/hESblAWCPkr28qFf01sygUJhMYpqTN+ReNz6mV7jnicgeNQQFRCpPlCWSDkr+xILnYsNyTcoHFK6sSfFa1Iqa9Y1uculIzCdW7PqZmISOmQ2F/axHfTfb8CwhYrZdLw4FOi+EVHR5eHbJ+SkhKJioqq0ULhlAVC/oq3rBeXFci63AWSXbRJw2KjEqVz0iBJjmnr9nAmDVTih8YpqTU+KVNFUlCaIzM3fyR/ZEx1Smez7gMoo+SYNtIitr2MaHeY9E8Z7yrpqHIFxEp5e5SWllZ8kx3iiU9g4lcfX1RB3ACG1/bAPXFeTY2zHeF9Li+4H+7V0J/6NGPV8riqPNkRlAXS1IA8QhZ3JHcmI7WRD3ThYzgL5GD25k9kYcZkySlKk8LSXD0eFREjSTGtpVPSQNml40nSNr5HhSyR8IbGaTPHXm91jAycW11jxJTOutz58s3qJ2RT/lKnaKJdhet+YkrMGTk+Z5D4SnS7f+oE2avreZIU3ZoKqIagggANbcA1B5B3yLepU6fK119/LbfffnulZd0M8vT0dHnggQfkwgsvlG7duu1QLigLwcXKvoF3UV09tSMQ947iw/vHr75lL/C5vARbzisr0/acoD7y2ORiY94f8vXqx2RD7iKJiox1suEaveVygcYZZKLEVySJ0SmyR+e/ybA2B1VcS8IXGqfNnMqUUF0xb88fmT+q0ikoyZaYyDi/cis/409wpv/+RWV50j6xrxza8yZJietUEQ/xY+/ql19+kRkzZug+DKaePXvK3nvvLYmJibV+n3bdxx9/LJmZmXLqqaf+JS7bX7lypfzf//2fnH322dK6tTOeanlPw67/4osvZPHixRITEyPx8fH6bEVFRXp84sSJ0rdv3zrfqzIszsMPP1xGjhwpd9xxh4YvXbpUJk2apOnYY489ZOjQoRWG7P777y/77ruv3HDDDRVGa2VQFhqHqt4JqRqTBzTU2rRpozKBYSze4S5aft0PsvD777/Lli1bVAfZtTvCyjMabJ+uuF97EWKjEtz1mAzlP8NQqXBxljojFQ24PbucK6PaHVERBwlPQsY4tWRYwce+VRTVEYamQOAzNgR5eXmyadMmNXCMyrwFBQUFel6XLl2qVPqmMDbnL5f3l/5d8ksytTUMpbMj0I1ZUJIj3VuOkKN63yHRrhL3KykqIGAVxGmnnabG4RFHHCFbt25VIwqG6VNPPSUTJkyokAvve8Q2MI+Ldx/lDpU54j799NMlLS1N/ve//1WcY3FYhf/ll1/KSSedJL/99puWm8DzEB9+di/gDQs8jm1cd+2118onn3wiSUlJMmfOHElNTdX48/Pz5eGHH5b99tuvYqwnqOxe3mcO3Pc+s2H3Xr16tRqb77//vgwePFjTcdlll2mewFOalZUlb731lhx55JF63bvvvisPPfSQfP/995oei8cLZSH44J2uWbNG9RjKRlxcnHqz0bip7J3UBJT3+fPnq86rrBFm+2isoRHVr1+/8iN1B/GtWrVK04DyijKG58Pz4hm7d+9epR6uLfZMmzdvlr322kv+9a9/acMQ4ZCDdevWSYsWLTSPAdL23XffaUP1119/lZSUlB3mu8lFbvFWeWfpzbI1f5UapmXO8KwKXINrcd7BPa+Tfinj3L3oQQ1XQt5zasmrixKqThz1cZ9QwgyNW2+9VebOnSvvvfeeKj48p1fpYR/PDAMBhs+dd94pBx10UMX12+KvPEvKCuU9VxmvzZ0nMZGoJHZcGRuolDHeaGyH42Vc5zP1WiofP2ac/u1vf9P3AQPV3sO5556rXk94VDt37qzv0muEBRMrI/WBxTVu3Dg5/vjj1UC0564uFsf20uUNt/x74okn5M0335QpU6boMfNMjx49Ws9DRb1+/XpZtGiR7qOSHjt2rHzwwQey8847V5LflIVgYu8wOzu7wijs2LGjbNy4UVq2bClXXnmlnHfeedu8E7wjvG9gBp+B+HAMfwG89xs2bJAePXrIv//9b5UvlEPcE/EAbKNcHnPMMWqgwjjDMTvHzgu8F+6Dc3AvO9/KN/Zx/h9//CEHHnigNj5xXkZGhnoxCwsLZciQIdp4wj7ismtwD+9zIF6E4a+Bc7eXBwDHEPbKK6/Ik08+KdOnT9dwyAcaiMgXNOQgm48//rgkJyfr8QMOOECOPvpoOf/88yvSs338svHV6sfk9y2fSlxU8g4NUwMGKjyoGId6fL/7pWVsezVYEU7Ci0bXhCZIGAeGShcVwaBBg7RieO2111QQvEAooUSKi4srrvWC83EM59hxeIFgeAEc98aBH4C3KDY2VpUGCDwPf7Fv4Djit3MCj9s2xq116NBB+vTpI7169dJf7969tWUK7xXAtYgLfw3EX1m8wO65vTzAcSggnAMPEBQvQJwIR4Xbv39/VYBQbGjFJyQkaAv6v//9r57rVXgGlAT4I/MHWZvjKuOImlXGAOdjEPyC9MmSXrjW3SfSxVqzOJo7eE/wFNk2gNcUvPzyy/oXlcNHH30kI0aM0DKFbml0vxnwgsNLOmDAAJWnBx98UMNvu+029WAakLGddtpJzzvssMM0bNasWeplRPc/QFlAZTZs2DA9F/eEN8VAOi644AJ5+umnZfjw4VrW3377bT1m6QfYtrKMShgGOEAYjp1zzjny/PPPa/ch7oMKG/lwxhlnaHnt2rWr3H333RXxIF2V5QHC7T7GDz/8IG3bttVjkJlRo0apYWryD32D9Jg8wZPWrl07NWIrg7LQMJgeg6GEcglP59///nfVq/fee6+eY+UBMgHjCj9cZ2XAygoMRDsO2rdvr70IZ511lu7jGvzsHDMoX331VR2vDBAP8J7nvRfAvhmGFo8dN6MO5fXHH39U7yk89iib6GaHlxj1AsofsDi897DnwF9vWcff7eWBYfdHQxdDVwD0P+Ts2WeflXnz5unwG+gF1A8GGpNwcOwIv1xE6DjTJenfa4OtuoYpwPXRkTGSWbRBFjq5sFASfjS6cWrCs2TJEjXiXnrpJW3RYUwcvCroTjCFYBWdCSeEz8IAtk04cQ6Og8svv1zuuece3ba4vAIOMN4MFSoMZC+B51l6TfmY0gs8bvdB+lFpQ7miItxtt93khRdekMcee0wrSIB48LM47Dkqi9f+IryyPAB2DrokcQ4qXoCuexiq1113nXqJ0I0DLK3HHXectqThncD9LZ5AFm791qkLd0//ZTXCr3xiJbNwg6zKnmWBJAB7J3gPeL9433vuuadWaADvFvJx0003acMK7xgeVzNq4e2B9+/111+XW265RY1BAKMVFSD46aef5Prrr9cxmDA+YQQCxIFGmhlu//nPf9T4vPrqq7XSwnCDQw45RMfGAlRuzzzzjFauqOBQxi6++GL12Fv6AZ4J+4Y9o4UvXLhQZfXQQw9VDz6GMkB+0OUOIxS6AcY57oFr4AUNzAM8Q25urh43OQLwkg0cOFC3AY7BEIV8YBtx4ZkgTzCG0G2MIQcwiABlofHA+0FZABgSgroB+hQ6Hd3TeMd43zCe4PHD2GI0yq0M4C/eP8rWUUcdpfoP+3inGLqBusdAGTv22GPVS4ghIODDDz/UXgyAaxAfGvG4F4aBoOwjzMoI6q9vv/1WjVr0QkG+TP7sHJQzeEbhmcRfyDeM5VatWqlhCll45JFHdGgNGo1onNpzQA4hI5dcconKs/c5K8sDu6elHWmB/kBDEiAtaLDus88+uo06CkNucnJy9DhAY3HFihVaZyC/Lc5ArIG2YOs3kleSqZMCawrixoTCRenfaXycLBiehMxbR4GHxwVdGvCAoNJBhYNK0zyMAIIFocNYma+++qqi8kGBxjbGskFx4bq1a9fqMYyTwQ9AOFHZoZJ99NFH5bPPPtNwKAm0XuE9BYgLldwbb7yhSgLeRi/Lli1TbwzigrcHlaZVil7BhScYCuzggw/Wym6XXXbRLkQonE6dOmmFjtY7nhUKD8+He6MFi64WVMQwJC1eUy6V5YEBRQXQOob3B8oPYOwixhPBAEVaAr2u8OjiHtbV430OVKRQEllFGyW9aJ0qD3dC+dGaYR6jldkzdZ9dmdUDFTPKG0DjBh7DMWPGaHk4+eSTtfL4+eefZcGCBVo+UaHBO4ieA0zsAagEMabNsDKFcomKG2AfnnRrGKF833zzzWr8wnuKynb8+PEVFTbKG2QXMoV4cC+UOcgi8JajqoBRfNVVV2nlCwMB16OSP/NMdHn71HsKb8+LL76o50POA/MAnqjJk/0eF6uw8RdeYDwTQFyQGZMT5CUmasGrDHANgOEKmQ6EstDwBOoqlAMYrNDBAGUdXf0on+gpuOiii7Tc4j2jTKC8wgjF39mzZ8s333yj5QCOA+hFAKMSPXiQGfRswXMPPv/8c9WlAPHBkMO94NDA/eDJRYPMyg3iRuMQ10DXw3jF+YGYXKARiLJojUGAOgHlEWUf8orjaDShLkHDEb1caPzBCMXQB6QLdUVgHsARgnR58w/d9rg3ZBbgOBqYaKwiP/EsaOjhGQzEBxmDXgEmO9vi5CrCNe7KiiStYKXKhT1jTcAVMGpzi9Nlfd7C8rDK7keaMyGlCeHZMyCIUBIwVM0wREUBgUFFCWMOFRg8PwACBgWFSRWffvqp3H///RUKAcvCQIEAVFJoWf7zn//U81DBQYDQHQjBN28ivEsYCnDXXXdpFybGN8FjZJUVhBiVPsLeeecd9d4gbXgGpMWEEkrBFAOOWVemhSN+eGzQCkaaoaDQYke3KpQbDGOkA91ZiBeKaHt5AIWB+5qxCmWM7iOAe0FpYVwRKmkoIwPxAozl2p63yLaxqHhW4UanPGK0kq4NfuUTJZvzl6kiI3/FW35sG5WKVSgoh+hqRPlDeUYlhvcKAxYVCN4pegFwPcoU5Al4ywcMSXSNouyiUYjKDeAclCWch+sx3g6eE4AKCqDyRpkEOBfeHjTscD5AWuCFqQ5W/mBswAA1YBzAewNjF2UecoKuRowTBJClyvLAGpgG4rd7GMgPGJ/oLbnmmmvUy4UxjQj3nmt578XCKAsNh70TK7twNqDxBH2I9wEP6H333ae9BPgLw86GwsBRAa8knBxo/MDYhO6GPka4Ndag01Hn3Hjjjdrwx7AYgHuhUQ/gNIDDAg0z1Cnw8MNbibjNAwt5QC8HzoFuRh2DchtYN9gzBf4FkGPIOOou1C/oiUD9AJnC/eC8gWMF8oG/kDsc314e4Dq7L7zNwJ4JeYp6EXKGIQ5o/GFClnmrATypqDNsqE9lmAxkFW/SSYJRkbWVC7+Rm1OcpnKhIZXIIWnehJRxasIJQTIlhOVlrGWLcXMQWHR5QCDhJYIhB68HjEqMR4MXBMdmzpxZMSYJXSXmOUX3HQxRdGtgbI2Nu8Q9MazAKlRU2DDWoIxwD7RSobzQTQrgaUUXCxQZlB1aneiCgScTWMsSz2EeKNzHngv3wQ8KC4KHih6eIjwfup1gKCBehMNLAMUDKssDGO/eLlS7B1rfGKcHvMJdmaBbeuFptdbxtvivKSzNk+KyQqc8/lSkNQeepwgpLs13W2wRB4L3YxWmlU1UfPCym3cT7wueTJQZlGe8f3iI4EVEpYNrMNkCf2GEecuggQoNXaSQHzSS0OCB3KBiRBpwD1wPuUDcwNIFg9UMZWBGKc4HVp6qg5VH/PV6j3AvVIqQU5MP3Bdj9ADOrywP4FUCSAvOwTND/mHIAKQN+QEPFxqw6LaF4WvPa3kE2cT9/wplobGwcgWjDA0J6Cv0kGGpI0z+xNANrMaAusCMMPQEoQsb7xWNK1xnOtIabQA9Auh9QBxwXpghhrJt56GcoezsuuuuFWUeDSoYcpAdgHAsz2SgRw7H7fzqgIYX4oUH065D2nB/xI1JYmhcon6CnsdQLDxvZXlg3fMmZ+aptX3Ej8YlehxQr0CeUM+hDjRwPvLPqz/+gj86V5YLVDb8a5mWB9YQyATGqhY5uSDhSUgZp15McNBaswoRhhg8mvAWopscwoNKGz8ILUAlA1DJmIfFW+GhWwdeIgzwRle8t8KCArLKddq0aTrODiANaGGjKx7rIgJUXOjWsYoQRiC8Sd5xOtUBwo5uFDMeoGxg9MI4xbPgWeG5tfF9+BuYBzAuoFCAKW88CxSc5aOXqhQMrjfFXRn4DCOur53K+RNc7+/CrEvF3jxB/qPCXb58uXZBYrjH7rvvrt3WeOcAnh+Mj4OBhfIC2YCXBN3+Npb5H//4h1ZOGKeKcw3zmsMog5cFFRu8rOYpQZlBhWUVMryWaITBS4mKEGUT5RCeSoDzrfIycH1lZc/AcSurhlXCAMdgAKDSRIULoxSeY3jB0GMA4C0NzAMMhYFRblicWC7IZuLDs4qKGF2i8BShRwETn6BDoA/wHJBvGANmZFQmM5SFhsPy38oUyiIa6ehVwruCxxwNdzTYsSoDdCZm1wM4J3AOgJ41XWtY3DZJCd3w8FZigl4gNnsdRq7VFRiOAlkxTyTw1jkoy0h3ZWVoe+BckxG7D+4Bjyx6/OAwwXNCLlBPod5BozIwD+AwMbm2+6PBhTww2UC4NcpwP9Rr8NTCG2wyiueBXgrMu8pw2sMZliX1UJrhd2WDLVwJKePUFI8ZidiHtxLjdiwcLUZU0FiGA+GYrAGBRaViAobrTKgME0woKigeeCfhZYVxCSUHobP74y/uZYJoceGvtzs88D7Yr8qw82LpwfmmfADigzLBM8E4hfJFlz/SascD8wBGNs4HFhfSDmVl2P2AKSVLuz03sPwLBC1ZgGVBYiP9iykjtDb44ypzcSVqBU+2Bd4geOJhkKIxBSMTXYjobrPyhbVQEXbiiSfqRAYYajAcMZEHFSi6q1HRwlDFMTRgAAwzq6zQSINXycZFo5zBGENFDjmxsoRu7yuuuELjwTAbVIAYy2aGGxqP3rIGkAZ4bLcHjnu9wwBx2DUoo9iGlxSefHiQMGQHYwThyQXw+sK49uYBPGjo8TAsbuQjjpnRgK5ZGBXozsdzmCzZhDP01mCyCfImEMpCw4JyaLoK7xPDnTCeEl30MErhFMD4fXguYWDCuEKjBu8PwBGBXiiM3Udc8K7DoYFtK+MAZQGNHOhSlHc0TgDKoZ1nHlN0+xtorEEurZ7yng9wrKp6Ac8EfW1lFWAbcXivQ/xoQOGZIbsYaoN6Dw1S9DBCLirLA4vD4ocjBfWYPR/KOupRyD3OhVxgSAIabXYtzrFJgsCb1grKg7Bmry64r4ZlJedVk4iIKImO2HaIDgkfQkYborBby9MEGx4TeP9Q6QAYZRBMeDsuvfRS/WF2Lio6TOZBxYPKFnHhZ5NHvIKPig7GKK5DNym2YQigwsZ9oXhwLiolCCiAUEIJwGNjnlKcg3i9yiNQwQQSeD4IVEDw9qKSxoxJKGAYDPiL5XUAlFBgHmBsFDxDAHGZ8YlJKaaAvOB6PK+NzUOaLQ1QzlhW6C+UP1fr+O6SEtdZSn3FdVE72mXTOWknwWQQ4gflA6BLEeUNBiUMKnS1YYwZKj1rOOCdoQLFjHwYVDgHY8zwTnEOjDmMHUZlhgkUGIMGEDfGwAF0G0IG7Bwbu4yhAeg5sKEwMCJxHSooyAq62GHMWlrggbThLAZ6GDAWFJg8e2UDXfUo28COY4gNPMLAnhVlEZOikD54RpEuM4pRZtEtH5gHlo/eco0x3OhxwGQxgDyAtwl5BA81ng1GixkY8Ayj8ocRALaRa8pCgwEnAQxT9BrA6ILXD7PuUVYx3hO6DuUTk1vRwwDDC7oThhXKKoB+ROMEZQnGJXQ7eiRQxtCgM4cDyjW6ylG+ED90K7AlzQC66HEveFdxD5QPNHTQcIReBah37HyAegnDzipr9AM8I9JhehtUdg3yAL13MBAxNhb1IQx03AvlvLI8sMaWNx7kIWTfGqyQc9Rtlj+IH8Y+GqEGjF40WNEQANvIQwX+sISoltIitr2W69rKRZlr8MVGJkpybNvykNpLGGmaNPoi/OahhCcIQo5KD4KKFh+EE8IGrwiAYQmPIYxFCBEqFBhZUAxoJaJ7AwYllkTCuVAkiBPL0SBOjM3ELHfMtkQlhMoI90AXEYQPlSkUlHmu4Lm0GZkQXgwSRxxQQmhlY2Yn0mDgOLxcGAdnz4XsNUGGMjnllFP0OjsO5YYuFKzbByUJ4wJGObonkUYoEqQFaYaSxf2Qru3lAe4HJYe4MYYQ18IAAei+hcJB3iIf4FXDbGd0X+EZzVMETwA8SagUrHIHuqxHRKR8svweWZwxxbWO8TlNv0ejJmCwOz7zeEjP62Vg631UiSGMbB+8U7wLK0t4z/h53w/eF47j590G3nJoIAxYeOD7NrZ3r8rOrW8qew5Ly/bS5T0f4BzsQ/YwPAder8rSb+fhL2QDcgHZRN6bAW1QFhoG5D2659FYwzuDQQmdBb1o79DeG4xINCqgR2F8Qd/aMehbHEM9ACMXDQ9cD72PBj8MNJyLxgqGjyDMJgGiYYR0wHize0KXYigItmHMolzZMQzNgsPEhpUhXfDUokwFliOAZ8N4aRy33gQYuBiGgritsWXPAsMaacQ9YEyjPrJ7V5UHwMoyJj8hnfBC27UYAoCGHupNGL+oi+wYGo2o39DIrUweDHhLsZIFPlk6f+vXkhDdUst0TXDSqw2+FrHt5MT+D+s399HBj3ASPjS6cWqFH+NkMHYM2xAsGIVoKULwLIkQMBhQWCIEY+lgjMEQhNCYAGI5GxhkOIbJIxgIj7EzUE7myUEXD8btQCFhFj5amjBUsZYiKiQYfgDjeWD0wYCFooJxiGO4DwQbXhxcb6DLEV1IMDjtubzA6MNAdXSN2nF0p0ApQQkhDHHjh/ywZaLQvYt19+wZd5QHFjc8TjB6Mb7Ovq6C5VLgLYZiQz6jKwdeWKQZ+Y/ngZIyZY34DFM8WJMRn2uEpwdKoybg+hJfoaTGdZXj+93nlFcrKp5KsDIPvO8gkB2dZ8erE8c27zrg3YOq4go8v7LrvWwv/u1ds6N7G5UdN3mAhxgNUcgE8F4HsI/zIO+YEHLCCSdoRV1ZuigLjUuggVSZvrX3hr/2bo1K32lAWGVxgsBwXAcqK3v1yfaeA+DeVeWBYefAKEf5htMFntLKnglhyGMYyXBWoGcD9Vdl9zGs0QbD9KtVj9ZaLorK8qVfyu5yWK9bKBNhSsh/vtQrCF5BrIxAQawulV1X2b12dP/6oqrnqE4a7HoY5PAywBOLoRHba/FaHsNLhO4kGNFVKiD377MVD8jC9G91rFxNWsZQXEWlebJPt4tlRNtDXVr9yoyQpghlIfhAb3mBXqpM/0HvQW8BHPfqr+0dQ9ze+Oxe3nPsOm98CPPq4sBjwMLs3tv1NlZyvKprvPnhTTvY3nN6wTk4hiExcJRgcm1leYzz8Be9hZhc5R1nuyMgB28uvko25S+V6Ig4JyX+NFUHl2rXaCuSY/reJd2Sh+u1CCPhRcgYpxAOEyoA4YFgegUPILk41wQs8BxvPDgG4TLBM0H3noMuE1xv8VoXCkAYDDwQeC9cj5/3fJyL+1WmEEBlx7d3jTeNOGZpBzvKA4DjCIdCgYcXk8AQH8K9IA5038BbhNYxuv0xPgvnBqYJWCsWCyS/u/Rm2ZK/TCeG7KhSxjWoePHVkOFtD5aJ3f+6KDUhwaQyma0Mk6/K5MpLtWUBGtYTDWWBNEWsvtkRZkwuy/pZPl52lw5TQZmHvOwInJvv5GJY20OcXFxRHkrCkZD3nJK6gUoWA+bRjV+VYoGRDK+pDeqvCquUtxaslk+W/1MXSo6LStIK12/8uiKFe0GZwfBGuM/FX5ong9scIPt2u0RiIjG2KqDWJqSJUZUswEgtK/VJZJSrmMsoCyS0gK6GA2JHBidMBDTqvA6SHWEG6g/rX3W/VyQ+yj/Z2QxUszr+vLU728kGxl93bzlSDu/1d5UjykX4QuO0mYPXW53Wbk0x5ZNVtEm+X/eCLE7/XopLCqVly1YaXlZaJpHREZKfVyiFxXnSMr6djGx3uIztcLxTQtGqpFCpE9LUCZSFJRnTpKgkX+KiEyUxOV6KCkokOjaSskDCCivX0ze85gzU/wo+Zxop0a7R5pPoGGcUR0ZIcSEmALqy7/4rKM2Rvq12lYN6XqfGLOUivKFxGgZU10CtqSHrVx7oLvXJqrwZsqF0lnz0vw/kh08WSJuuSc5AFTn5kv21Jdw9dqx0atHfXYGKHFdR6ZDmA2QBoGwv3jpNNpXNlaVpv8oXb/wmcydvkoG7t5Vjz91HerQaRVkgYYM13P7I/EGmrXlVMkrWuAZbgmxemeMabaXSuV9LycvLdyZrgozucKSMbnd0+RqpNEzDHRqnpNagqwdKJCoySgpyiuXeB+6Re+6/S0qKSqVFy2TJzMiSAw7eV5598iXp3qOrlJbiu+XbH5NLSFOmxJVvlG10T86fu0AuuPxM+X7STy4Mi8iXysSD9pXnnqIskPACZV+cgRoZGSEL076Vfzx4s3zw1M8uXOTQ84fLdddcJyM6HCTRZcniRMLVKP5GHglvqBlJjUF7xiZWwTDFciS7jh8jd9x5m8TFxMtDDz8on3z8P9l9993ki0+/kbG7jpY333pToqL8E1Fg1BLSXEB5hjxEu/JdVFgkd955h4ybsLsaprvsuou8/MqLMmHCePnyM8oCCR/+rCci1DD95Zdf5fwj7pTX7/1BfEWxElEcK+88+Jvcdfabsm55unbzl5Y6eaC7jAB4TgmpLiUlJT6ncHR71apVvrPOOguqxBcREeE76qijfIsWLdJjoLCw0HfDjTf4IiMj9ZwzzzzTl5aWpseKi4t9rmLWbUKaKpAHgLL89ddf+4YNG6ZlvXXr1r5/3vNPX15enh4vKCigLJCwAXWEycaWzVt811xzjS8uLk7L/h7jdvfNnj3LN3/+fN+ee+2pYW3btvW9+uorej6wa0n4QuOUVAtUnqYwoHhefPFFX9euXVWx9OjRw/fGG29oJQtwHn5mxE6ePNk3YMAAPXfQoEG+r776SsO9CoyQpgTKrpXvjRs3+s4//3xfTEyMlvFDDjnEN2/ePD0GuYFcUBZIOGD1hDW23nvvPV+/fv0qDNAnn3xym3KOxtsdd9zhi42N1XNOPvlk3+bNm/WYtw4h4QeNU7JDvEpizpw5voMOOkgVCVrCl1xyiW/Dhg16LFCZeA3arVu3+s477zy9Ljo62nf99df7srOz9RjOMWVGSCjjLdMo66+++qqve/fuWq579uzpe/nllyuOez2ilAXS3PE2sJYtW+Y76aSTKnoKTjzxRN+KFSv0GM6zn53/3Xff+YYMGaLnwpj97LPPNBzHcR4JP2icku1iCgTk5ub67rzzTl9ycrIqkJ133lkVCrCKd3uVqvfY22+/7evcubPGMWbMGN/MmTM13HsvQkIRb0W5YMEC38EHH6zlGF4fGJvWSKuqLFMWSHMDZRXlGuTn5/v+/e9/+9q0aaPlGr0EH374oR4DgfWE1R0gKyvLd+GFF/qioqLUqL3iiit8mZmZeizwOtL8oXFK/oIpDFMG33zzjW/UqFGqbFq1auW77777tvH0VKciRVzW7b969WrfkUceqfG1aNHC969//UvjCLwvIaGA11jE2NF77rnHl5qaquUXcgH5MKyirQrKAmkuoIxamf/tt998e+7pH0OKIS7oEcjIyNBjXhmqDG9Zf//9933dunXTeEaOHOn78ccfNRznVBUHaV7QOCXb4FUiGEt37rnnqpLA79BDD9VB7KA2isIqXIBrH3/8cZ04grgxVGDp0qV6jEqIhAreSnPKlCm+ESNGaHlNSUnRsXLoUQDeLvzqQFkgTRmUSSu/W7Zs8d10000VE57Gjx/v++WXX/SYnVcd2cA51mhDL8TRRx+t8SUmJqpDpKioSI/ZfUnzhsYpUQIry1deeaViwhP+vvbaa9soh5pUxIEgfqtwZ8+e7Rs3bpzep2PHjnpf4E0PIQ2Nt4xu2rTJd9FFF+n4UJTTAw880Pf777/rsbqWU8oCaUpYWTT9/9FHH/l22mknLbPoyn/ssce0dwHgPCvbNcFb1p999tmKRtsBBxxQsRpMbeMmTQcap2SbChKeUcw2hjJAS/iCCy5QDyqob4VgSghLTt1yyy0Vs51PO+00bY2DmnqkCKkLKGso41bmsAqFTXjCX6xSYcdQfuurbFIWSKgDubByimUEUTa9E57M2++tT2qLySHA+O699tpL7wND9fnnn9dwYOkhzQ8ap2GMV9lgIPvdd9/ta9mypSqB4cOH+yZNmqTHoCjqsyL24lVkuN/gwYP1/pix+emnn2q43Z+QYIIyZmURHprDDjtMyyImaGBd0nXr1ukxb5mtTygLJBRBmbQyB6/oM8884+vQoYOWTUx4wnJRoL7rCW9ZR/101113VQwdOOGEE7ZxmtTXPUnoQOM0DDGht4rQO5YOkzKgBBpyaRuvEsIad+ecc06FUXDVVVdVjOujEiLBwFv+MHTlgQce2KaR9sUXX+gx73nBgrJAQgmUM6snMOFp3333rSiPV199tQ55Ad6GVX3jNY5/+OGHiiWnevfuXbESQDDvTxoHGqdhhlfQ0fLEWDrrmsFYOls83KuUGgrvPd99992KMa+jR4+uGGDfGOkizRdvefr+++91SSeUOSyZdtttt/lycnL0WEOXO8oCaUxQrqxsYTknyIItlI9x0TASAc5BOQw2aIhZetLT03V9bRv6cumll2oYQFrYaGse0DgNE7weGWxjgpMt14G1FjH5wo43poB7ld3atWsrltlJSkpSj5bN5qQSInXBW/nCQ4kKziY87b///vqxCdBQlW9lUBZIQ2P1hJUnLIY/dOhQLXcY74mlzuyTvDjPZKih8KYNXlMbD44ejqlTp2q4V7ZJ04XGaRjgreS8Y+ngMT377LMrumYaQ9lsD0sv0vPEE0/o+qpI83777ccZm6TWBFa+b731lnYPomxhhnzgZAs7rzGhLJCGAOXHytCaNWt8Z5xxhpaziIgI3/HHH+9bvHixHmvssgaZtIbZ+vXrNW1IJ5acwpA072oBpOlC47QZAwViAoqxaoFj6ey73oEVdqjgTT+W7sH6eUg7lizBrGlgaSdkR6CcWKWKitbWUUQjDRUxKmSAcxqz8q0MygIJFt5yg3L2wgsvVEx46tOnj+///u//9Bw7D39DAW9annvuOf12P9K8zz77VCz1FoqyTKoHjdNmiCkRE0pMeBo7dqwKLlqX+Aypd2JFqAuvKU7M2Lz99tsrul/x7Wa0nAGX2SHbw+QBYMLTQw89VFGRYUa8d8ITZCGUyxFlgdQnXuMNQ1kmTpyo5Qnl6vLLL6/4JG+o1hPe9M+dO9e39957a/rxBTcYrIbJDWk60DhtZkBQTRChWKBgvIuHQ4CBV6ibAt704pv+tvCzd8am1wghBKA8mKGGSRy77767lhs00m699daKVSmakjxQFkhdQfmx8gFHBRo6kAmUo1133dU3bdo0PWbnhXJjx1vW0TDDkogJCQn6LOgdsSXgQv05yLbQOA1RSkvhxUFXCoTP/yt1/7OwQExA8Rc/dMWgSwYCirF0L730koaDpiqk9owAk1guvPBCHQ9lrfztLX/lcsTtl/r/bvMPYU3HQA9nvO/L/6u6/Hor37S0NF2GySoseFdCYcJTXaitLBgIMx3j1ylNTx+Qmr9HHPeWCQztwhAvyAU+yYtehcac8FQXvLKM7/HbRC6sdIHv9YMdyXugnkEIaRxonIYYpmyqQs/xKCGvwGGCxDHHHKMVFQTzrLPOCvri4Q2N93mxALStOjBq1KiKJU5MsfoVTNXAcKUSCk20ktD381dKy1wlG/DerPI13nnnHd/AgQO1fLRv3167+uy4lg+PHDVFaiILwJ8/lednCY3UJgPqCLyvykB4ZXWIt6xgCAgmw9oygkcccUSzmFznlf+MjAxtqKEuxA9fO0QYwDnesu53XlRfz5DgE4H/ucJJQgBX/CUyIkL/Llu9WX6YtUZ+W7RFCgpLJDIyQvp1ayW7D+0swwd2loT4WHEKSNzp7lik5Ofny7PPPit33nmnbN26VVxrWB544AHZf//90QARJ4h6nhPS8rs1bfA8eK6oqChZu3atXHbZZeIqZ4mNjZU77rhDrrjiComPj9dzc4q3ysa8RfJH5o+S67ZBXGSS9Gy5s3RJHiwpcZ1cSIS4ppr7f/PIn6YO3gWw95FXkiF5xen+EFeGW8V2lOjIOD3mSrcLjdQyAVDOly1bJjfddJO89dZbWkZOOeUU+ec//yldunTZ5rzmQHVlAeeY/Gdm58nGtBx3rU+ioyOlU9uWkpToz0/TQyT0sOra3mNGFt5jtm6Dzu1bSoukBN32n4vz/Pof5cMZnfL666/L9ddfL85AlR49esh9990nxx9/vMaJ482hnsBz4BnwLB9//LE4I1WWL18ugwcPlieffFImTJhQfo7pAf/z5hSnSUFJlu5HRkRJK1c3REVE6zHTM6RhoHEaIqCSgAGalpEjz707Qz6dvkkKffESHZvgBChSFU1ZaZGUFOXKqD6JctGxw5yR2kWv/fHHH+W6666TqVOnSlxcnFbKV155pbRo0aLZVcSBQMFA6eI5YZxD6WZlZcmE8XvKv5/4t0R3Xyc/rHlTMovWu7P/ND39hd4nidGtZGibA2VMxxMkNjKBCigE8Bqmq7Jny6KM72RD7kL3DjdqGN5Pu4Re0jFpgHt3B2njosznKlVXmZSUlMhTTz2lhuiGDRtk4MCB8q9//UsOPPBAjbO5VL6VsT1Z2GeffeSJJ57QvFi8fKO8/fUCmb8iR9ZsKXR6RSQ6KkJ6doiTIb1T5KQDh0in9q0q9BEJHVAHQDLQcPht3mr55Pslsmh1nqzZXKhGFt5lz47x0rdLohw+ob+MGISGGK7Au4yU+fPny9VXXy2ff/65a5BEywUXXCC33nqrtGvXbhtjrrmA/MJz4Vk3btwoV111lRrmCQkJWl/ecMMN5Y22MlmcMVWWZf3k9MxiyS3Z6tcyzijtkNBXOiT1Uz3TMra9nov6mAQfGqchgHkqlq9Jk1ue+lGWbIqWlFYpEukqDZ8al/5XpELhzsvOyZNYX6ZcenQv+emLl+SBhx5ToYGX9OGHH5YhQ4Y0e6PUC54VxRgVMxTwhRdeKFO+nyJn/nMXGX1ERynKL5GYKL9XyPISpg/+g1FTVJonPVqOkv26XSapcZ3dGfSgNhaW94WluTJt3Ysyb+vXbjtPoiNjJSoipuKc0rIifXdJMa1l1w4ny4j2h8nMGTPloosvlOnTf5KkpCT1GN5444263Rwr38oIlIWLL75Yvv32W+nQvqP87aqHZdbaZNmaGy2JLk9iY2KgTlT/FBUVS35errRPLpRzjxggR+6zU4VeIo2PvYvMnHx5+v9+lU+mb5YiSVbjKjbWLxeg0L3HgoICiZccOXJcB7ng+LGuki+Rh1y9cP9990l2drbsvPPO2mAbN25cRT0B2WiODTZgjTbw/PPPq/Nm8+bNsuuYcfKvZ++QrW2my6It01wel2hvDBq5AHqmpKxQ9UyKqxd27XiKDGmznwvVqqPi/yQ40DhtZEzprNuUKZc9+J1sKkiRpIRYKS0pVeH4qwD4W8GlZRFSlLtZfv/47xJXvFruvudBOe20U7UrL1wqYi8oxlC0UEJpaWnywvQrJb5nhkSUQHEjJysv5jCEYPTDAGqX0FuO7HO7tIhpq+fTQG1YLM8x9OKLVf+SFVm/SExkglYWaHx536D/vUU4OSh2jYtC2bvfGbJmUqIcedQR2mX3yCOPyMiRI7cpF+GC95nhSb711r/LC58slR67/E1atmotUU4t+MpcbrvzTMNERPr1RVFxmeRmbpaLj+oppx06nAZqCID3hLK+KS1bbnvmB5m5wufeY4prrPkbI3hHBrzdkU6flbj3m52VIaN7R8mcz+6VqVMmSyt3zY033qBd3DBqw6meQD4hHyETCxbOl0svvFJ+X/OdnPXgLtK5d0vxlUY7uahEz7j8wb8SNIbdv9Htj5Lxnc7UcL/kkGBB4zQk8Mk1D38t05ZESKsWyU5plLiwHRV8n0THJEjO5kVy+xkDZd/xo8LSKPWixo0vQn7d8pb8suVNKSl0eajzwnYMFDoM1H4pe8ghPW/SfdLwwHvx8fK7dXxwfFSyei2qAhUH/l9Ylivju54hObM6ydjdRklycguVB8iCvyIJP0pcAzc6Okpe+PB3efHLjdKiZSspLip0R7afH8iqiMhoydq6Qa45oY8csz96YdAgDs88bGxQO+OdFBQWydUPT5YZK6MkpVUL926L3dGq3gneWZQ2NlbPeluGt1ktd999tw7tCOd6osTVrdFR0bIha5m8s+RmiUrEUDnUEVXXE349495DaY7s0flvslvHU/z1TZXvgNQF1sCNSKlrzYH/TVkoU+bmSquWqFCrY5iCCCkrLZSy+E7yxW8ZFWFha5hiLJD7tzZvvkxd818pKnB5WwO9Ueauj4tKlMXp38vctC/Kw6o2jEh94q8cpq1/RZY6wzQuKqla+e/3/fl0vPBP696SQXullhumJeolCVfDFN40GKZTZyyTFz5ZLPEJSTs0TAGMIV9ZiSS1ai/PfviHzFuyXg1T/9hF0lg8/fZvMmNFWTUNU4B3VirxcdHSefAhMvHkm9UwLSlvsIVnPeFkwhmmxaUFMn3Ly1IanSMlhX79sSP8eka0wfzrxndlWeZPLocxidZfh5P6h8ZpI4FKIMopiPyCIvm/r5dKfFKqqxRQGVe/MkXXXGJ8vPy0IENmzF/tKmPMWA7PSsQGqc/a/KFTGBhjhBmWNcsLdCJgbOPsLZ/omEftTq5hHKTm+PM4QjbnL5PZmz+RmEj/zPLqoh4M9/6Lywpk0h//kZKy4lq9/+aEvyveJ//9bKH4YlpLlPYgVE+3IOtjoiNka2GCvDdpkT+w+mqJ1BOQAbzGpas3y4dT10lScmo1DVMjQkpLSiQ6Lkne+WaZLF+zxRln4TO8JRDT5Zj4tDTjJ2f8xLgsqpmewQspLsuXGZs/cA3AEpfDqHeqHwepPjROGwkTlJXr0mTRmnxJSIiXstKatcIQB5aByS2OlVmLNpSHhiP+vMRyQ2ty5urEGXhSawryE9duLVgtaQWrykNJ0Ck3RGdv+Z8UOcUfoRMSaqbw8b5joxJlU8ESWZn9m4bBGx6OWI/M978tk1nLCqRFcqILq1l+YqxqakormTRzi6zZsFWNXY4Aa1jsnX3gGgh5pUkSo3ZlzVoJiCEuJlLSC+Plq+lLNSx8veD+vJuz5VN1PNSmvWV6Zk3O77I+d2F5GOUiGNA4bSzKy/P039dLZEwiSri2ymqGf126xKRkmT5vS/kYu9qIXNPGlMNaZ5gWlcK4qVuxLpNSWZ71s3+HiifI+L2emHCwJX+5K9Gu/NYhyzFpYV3ufN2uazloqtg4uPnLnU6IiKu5WikHQyIKS2NlzuJNuk9RaDiQ19FRmKBWIotXZ0lMbHytG1swRuPjk2TOkgwpdvGhhy3c3iUcD5CLjMJ1klHk6tzyGfm1wuUdjNSV2TP9+7UVMFIlNE4bCdMNy9ZkOqWDJV1qqS2clomOjpE1m3JVkYUj5oXeUrBSisry6maUOEVTVlai3lMSfKxhsaVguaS7iiMqMrbifdYYFxcWzF7lKg1/l1t4Vhr+MaKl8tuCrc4oSdTtmuNyz1XAvsh4+WHOOg2p5VshtcDkYs2GDFm6vlDi45xc1NKixEz1+Pg4mb8qW7Zm5paHhtfbtJ60jXlLJLc4XfVErfVM+XVwhpDgQeO0kcnMLZSISNeKq6WcQMAwK7OgsFSVkD8sPCkszXFKqLRejBKMXwS1V2CkOlj+5pVk6ZdZIlUl1S7PcRXGgOUVZzjjNLwnsxWXlMrmjAIde1unbsfIaMnI9ssCaXhy8golO69EoqLr4u30L6GUm18Stg4MA0O/sHZp3XtVIiS/1P9lLvpNgwON00YmSrvh61B5KP6lXsLVU2RECrpq6icP/APd/Vsk+JS6CqMU3s46VRr+rjvEE66NCntqdOXm47PHmABTB6MG76OwKLwNmsYEDQsMEfXr9lq+yPLrYdzWqaHSDIAHtd50Q5jnZbChcdpImMnTJiVBl26pLRgXhmVzkuKjdSyRhun/w4+EmFb+GfZ1VhoRupSRf4s0BPgyi3a11XJcnR8s7eKf1BauDTV7ajRWE51OKCstrUMhhkFTJnGx/m+Lk4YnIT5WEuMinY73L5VXK1BHlJW69xipn/IMZ+Kik8v1TF3rCJ/ERMWXb5NgQOO0kRnWt617CUXiU49RzQUGng2sXziwRyuJi/vzM3bhhHnbOifu5IzKZJeLdejSdUorOjJGOicP9u/TOg0qVuEmRqdIQnQrndBU20zHVVh3MCm2jWukhHclHOOMkI5tEp1RU6wN2FpTVixtUxLLd0hDYa+sfetk6dYuToqKa/8ecV1RUZH07JgoLZPNoKpDmWiCWN61ie8uiTGpTktUdz3x7YMvCgL6T4MDjdNGwvTMyAEdJcpXWMuWHLrzI/Wb2GN2auv20UKui+epaWIGTvvEvhIf1aJ8VmvtFA/eAgybbsnD/AF1VGCkaqzSaJ/QR1LiuvjHg9U2z11cpb5i6dlipN+DHqbVBrr0oRdG9kt1uiFfx6TXvAp1uYdGX1mB7Dq0k4ZQEhoOyAWWkkppmSi9OiZIQSHmJtTuDaBHLdeVgxF9W0lyYrzGa/VPuGDDtDok9pekaGec6tyEWuIyDz0KvVuO9e830e59zFEpdo0e/Gy+ioGVf+xYoG1ix7DcXDCHidA4bSSgfPBau3ZqLXsObyNZWdk6aL0maIu4uFTatyyTMUO6VYSFIzBEYiLjZFDrvaXYGTi1+fyoeqHL8qWHM25ax5fnp/6fBA+/okfed3CNC83x2ma6Eyh06XdKGuTfrdMQgaaLVRdD+7WX+OgiNVZrnqmY8V8midHFMmJAB38IhaFBseyeuFsviS7DZE/otJoaAz5njIokRuXLuJHdNSRcXyN6VdDw7Z8yXlfzqE2BxvVY9q5NQk/pmDSgPLBp5igasDExMfoL/GIYbBE7FmhT2DEMEQmmvUHjtBHBF57AEXv1lbiIHCcweNHVVD6uxYJCkp2dKfuOaic9OrfWFrH/yzDhy+A2+0ub+K6qQP6c1FQdXL65PMXXiYa3PVSVkN+4Ce/8bBDKy+yIdod5vqdfs3y3hkXX5CHSq+XOGlantQybMJhkCYfGrsN7yqg+CZKdm6dfo6sJ+PRpVlaW7D2ynXRsl+Lig7eNstCQ2JrV40f3kp37JUpuXm65A6O6Bqr/c53Z2Tmy68Bk2WVYDy0X4bgWth//c6OOSI3r5urLYhdSM7mAnkHvzLC2B+lQJPTS1bqnp5EwL+nPP/8sl1xyiZx99tkyefJkDbNjH330kZx55ply6aWXyvz5/nWjoQNw/Nlnn5XTTjtNbrnlFtm4cWPFsfom6nZH+TZpYKDs4dXo2iFFcp2ROe33zdKqZSsXtqPK2SmdmGjJzC6QPu0K5M4Lxkus24eQhGv9ocakaxmjWz85po0szpiq+Vs9xeFUlFM6+aVZsnOHY53iOVjjsrGsJLj4351PEqJbqkcD65RGRWL8dHUVnv8d48tSe3W9wFU8Xfzvrzw8HEF+ovy3aRUrX/+0XKLiWkhENSsQ2C6YoJ8YkSHXnjZK2qQk6ZugcdrwlJU3Cob2aSNf/7hYcorjdYKaD0ZEVe/DXYcGRk5+sWusZ8o/LxkvyYlxOBC279HqCEx2TYnrJIvSp6jq8K/ysmPZQGM3vyRTBqROkD27nKdhTS0vYUTqUMD8fDnhhBPkgw8+kJkzZ6pxeuqpp0pycrIsXrxYjjrqKJk2bZoasEuXLpWTTz5Zr/v00091e+7cuTJliss/x8SJEzXe+s4L1r6NjL3Q844ZLQePTpZNm7dIZFSM39PhWmV+7x0Exy88qDiw6H5mdr50aZEt/7xod0lKxNdDUDj0lLAFrWBUyv1Sxsm4zmdqCxdeOCgVVUwuC/1dnH4Q5jdAfU7pZMnwtofI7p1OqzhGGg7L7zEdjpNercZIYWluxXsDge/OwDvHGVjjdiyubbmzloGaekSaG+hBQX6NHdpdTt2/q2zZvEminN7wO838+Qjdsu3QB/+SdGWuss7L2iSXHz9Q+vdsr/GEe49MY6Hv0RX+rh1T5bazR0mCL01y84olGl2x+k5caf9LHRGhx7NzC6Vl1Fa5+4Kx0rEtGn7ha5gaVkf0ajnGNWTPc3lXqvXENrpmGz3jryNwHeqInu66/bpdpkcQT1PDPJybNm2StWvXqsGZmJgoq1atkoyMDD2G7bS0NElISNDjMFbz8vL02B9//KF/k5L8q9ksWrRI/wajXNE4bWTwTlFcMIbjzosmyPHjW0n21rWSmeMKQ1S8UzIJaozGxMS6ghIlBUVlsjVtswxonyePXDVeenRuo0qHlYcfKBgo653bHy37d7tcYl0ruaA0W4rLipzRHyEJSfAwR6oyKnWKqbAkV6+BUTqx+xUabjGRhgXKHpPRDu5xvfRptatWBuoB9UVKdGykJCTHVLwWvDP/OyzS7/GP63yG7NrxZP/5fHeKGppON5x37Bg584AOsnnTOikudYaL0yfI7aiYeGewxrvNMj0XOggf88jNXC83ntJPDpkwyG+Y+i1a0khAt2PI1hjX0Hj0qt2ka8sMZzxskbxCrOcbtU0dAUMq371D1BF92uTI41ePk6H9O7OB4QH6AU4LDN86qOd1khjdytUROVLidAmMt9gEZ6i6fIR+wcovRaV5qmeGtjlQDu/1d+3h8TeAm15+mhGZmpoqbdu2deWiTA3Pdu3aqdcU2Da8qzjetWtXiYuD112kUyf/5EgzVrt3949jZrd+M8VfXNCqjZRxI7vJgC5xkpmZIetWLpCsjDTJKYyQ9PStIs6Q6tqqQE7ap4tcf8Zu0joliYZpJUAAoTzaJ/aRfql7OOVS6Ep6scvTLFkxJ12S2ol+5rRFTHvp3mKE7Nv9Etmp9X56jV7fBJVOcwD5jncQHRkrvVvtousRbshdIiVReZKxrlhWz8+QVu3j3BllrrIoce8wV1rHd5V9ul6k41X/rDD4/v7Enxe7DO0iKQnFMm/JatmwNU/i4ltI/tZlUpSXLtFJ7aXQVUTQMV1TCuT6U4bIQeMH0jANIaDjoevbpSbLQbv1kFjJlcyMdMnPzZKs9I2SmVPs3l+GxEiedHPv8Pi9/XVE+zZ+jynf47agroW+aBvfQ/qnYoJUqY5ZL4nIl43LcyQqsVgKy3IkKaaNdEoaKBO6nK29OtGR+Oxp060jUDfC4IyPj5eOHTvKunXr1Pi84YYbZPx4lw/uGAxQGKPp6ekyYMAAgYnYp08fvb53796Sk+MM+ZISGTt2rNx6663SunVrPVbf3tMIZ/HWv8lLagVeBJZpiI6Kkrlz58k+++wtGU7pPPrMG9KjR09pmRQrwwd2lhZJ8RUtlWC405sLMGLE59SIy6OC0nQ56sTD5PN3psnt/75Yzjrnb5JQ2kHaJpa3/NTjxo6EUMDfSPB3zacVrpA56ybJWYdfLyvmbpETbhwtB503WBILO0v/NuOkb6vdXAXSWr3lqHBI5cDzholSazZslUm/rJb3v/xVPn7+GlcJJciYo+6Ufr2dkT+6g0zcrZ+0cQYQDdPQBIamK+zu3UTK5i3pst+Bh8rCBQvk2Vc+lLbt2krblAQZMbCLxMXGaB0BSaLzYvtoHQFT09UTpc4wve3hq+Xuq5+S+56/Vk752/ESVdBKOib3Kz+3vM5tooZpU4PaPIRAkbdi/9hjj8nmzZulON+1hgtWyMETBspuI3roOnWoOFREqHSqBMaNf3KZyLRJs+Tr937R7anv/SHd4saoYarj7miYhhR+5R8hJaUl0iaup3z8yEI1TMF3L62RCRF/l+MG3CNDWx/kN0zx/miYVgkMU+iNLh1S5fTDhkvH4p+ktCBD8jLXyxFDs+S5vx8oxx8wTFqn0DANZWBommNiy+YNsn7VEvV+L/71Yx2GsfPgbmqYWh1Bw7RqVO+7/CyTUomSBFnyY7qGv/zA55KU3U8NU8zI99cR/n/NBXhJ4QHFD9te4CSr7BjKnvdYUH2bLnISIriXrX/ffPNNvHFfq1atfImJib7Onbv4Vq9eo8dKSkv1L9kxToj074YNG3wDBw7QPO3cubP+/c8Lz+ux4pJi/UtCiwpZeOsNfV8DBw30nXjiibp9wfkX6LHikiKfqzh0m+wYy9M33vDnqemXrl27+tatW6vHSkqoX0IdZyzo3yOOOELfY2RkpK9Fixa+GTNnari9Z1I9iov9dcArr7ys+RkbG6t/77jzdg1nHdE40DgNEcyQWrZsWYUB9dFHH/muvvpq3b7qqqv0uJ1Hdowp8TPPPFPz8Oyzz/Z98803ut2vXz/fpk2b9DjzNLSoTBbeffddX1ZWlq9jx466/9133+k5rIirR2V5+iH1S5PDDKmHH35Y39vee+/tu+GGG3T7+OOP12Om98iOsfK+cOFCX5s2bdQwffDBB32tW7fWxtuCBQv0OOWi4aFxGiIEtoYvueQS3V+zZo2vffv22jqeOnWqhlFQdowp8Zdeeknzs0+fPr7Vq1dr2FlnnaVh1157re7TwAktAmXh0ksv1X3wn//8R8P22msvX2FhoYaxMt4x1C9NH9NTP/74oy8hIUF/P/30k77bwYMH63t9++239RzqtOqBvCsqKvLtv//+mn8w9MFtt92m+yeffLLuU8c0PDROQwAzpO6//34ViF133VW9RKZgnn76aQ2fOHFixbkUlu1j+TZv3jxtAUdERPi++OILDQMrVqzQVnJMTIwqd8AKOTTYniwAlHm8p3333VePQS4AK+KqoX5p+tj72Lp1q2/UqFH6vuA9NT7++GMNGzp0qC89PV3D+A6rxsr/rbfeqnm35557+goKCjQsIyPDt9NOO2k4ejAB9UzDQuO0kbEC//3332uXQnJysu+XX37RMDuGlt24ceNUUOA5AhSUyjGFDCWDLi/kGVrBAHlm+fbII4/osUMOOaTCMKUyb1x2JAv2nqZNm6bvrkuXLr5Vq1ZpGBsXlbOjPAXUL6GPle8LLrhA39Mxxxyj+wi3YyeccIIeu/POO3Wf73D7WN58/vnnmmepqanqzADWI/POO+/oMTQGvA1k0jDQOG1ErKBv2bLFN2zYMBWExx9/XMPMg2GKZ/LkyXq8e/fu2hUHWCH/FVM6N954o+YXvGwWhvy2PM/Pz/eNGTNGz3n55Zc1jMq88aiOLAB7R+iWxjkXXXSR7lMW/gr1S/PAyvx///vfine0cuVKDcM7svcE4yo+Pl4nuc2ePVvD+A7/iuXJ2rVrde4B8jSwUWayc+SRR+rxf/7zn7rPOqLhoHHaiJiQnHPOOSoAaPkCEwzDzjvvvPP0PJu8QEHZFsuPTz75RPMJXfc2oN2bV5af1mrGeFSbHBWY96RhqK4s2D7GD3fq1EnPhVcQWBzED/VL08fewaJFi3zt2rXT9/P+++9rmPf92Da8pjiHk6O2j+XJSSedpHn1t7/9Tfe9eWUyMWvWLF90dLSuhoBJU4B6pmGgcdpImDJ55ZVXVEB69+5dMWEnsPDb/tKlSysUFMdKbovlA1rDyEvkESZDgcoqWTsfignnwtMKKjuXBJeayAKw85966ik9H8M3OFZyW6hfmj4oy/Y76KCD9L1cd911eixQT1m5x5hUmxz1wQcfaBh12p+Ynnj22Wc1j5BXGzdu1LBA3WH5dvPNN+u5p512mu5TJhoGGqeNgBX6+fPn64QdFHwMaAfbUyQW/u9//1vPx+QFE5JAoQpHLA+OO+44zR8sGwW2lzeWd3/88YcvJSVFZyv/9ttvGkbl03DURhbsnWKsJCYx4JrnnntOw7Z3TThRmzy1cOqX0MHeyd13363vZPz48b68vDwNq+yd2PnwrOJ8TI7KzMzUML7DP/MH3lDo/KioKB3OAiqTC8szGPz9+/fXPP3f//6nYawjgg+N0wbGCjxacAcccIAW+Op47ew6KCfMtsV1HCvpx1rDTz75ZIVS3rx5s4ZVpZQt32wW82GHHabn248EF8vjmsoCsMph0qRJeh0WkofXHITzu6ttntp11C+hgeU5yjdWG8GEHRtHWp33ePTRR+s7hGELwv0desv37rvvrnlTnXGkduy1117Ta3beeWdfTk6OhoWznmkIaJw2MFbY77jjDi3sWK8Rk3PAjgq7Vcg2VrJHjx5hP1bS8hNeT8xExozkKVOmaNiOFLLlGWZijh49WvMUX88BO7qW1J26yAIweTj//PP1+ssvv1z3w/nd1SVPqV9CA8vrdevWVSxnhG5oYA3x7WHvcObMmboOKiZHcSH5P5/dPjqBYRLIZ/ttDzuGv4ceeqhe+8ADD2gY64jgQuO0AbHCbMofE3bmzp2rYdVVHHYeuq0RB4QNhKOgmOKAcbnLLrtofsALCqqbH3aeTaLC5Ki0tDQNq0ppkbpRn7KAdWvtq0dYZgpUN47mBPVL88D0jo2HP+WUU3S/uvrI3pUtJG8T4cJRJoDlhw13wEcnlixZomHVyRM759dff/XFxcXp5Ci7nnVE8KBx2kBYIUZr2MavvPDCCxq2o9awFxMUjJWEkKHLZ8aMGRoWbsrHnveKK67Q/ES3PKipwrB4Tj/9dI0HizIDVsjBob5kAdg7euKJJzQefOkFhFulQf3SPLDybBN28C7Xr1+vYdXNfysLaGTb5KhPP/1Uw8JNp1meLV++XIf+IC9q0ztm5950000aBz6JDcItPxsSGqcNAJSFKYxTTz1VC3dly1dUFxMIdC8groMPPlj3axNXU8XywBZKxjfXMdsY1LQStfMxgQQD5TE0gOsEBof6lgW7Bl3Xe+yxh8b34osvali4VBz1nafUL42D5TvWK8UYU+S9fdmupnrI4nr99dc1nhEjRvhyc3M1LJzeoz0rPlqAfLj44ot1v7Z1xIYNG3x9+/bd5t2Ei55paGicNgBWeJ955hkt1BhHZGO5amP8mMBB2YwdO1bjxIBtEA6CYnmG1rB159b1m9J2HQbJIz4svgxq837I9qlvWQAW55dffqlxYpHycBorWd95Gu76pTGwPMfXiWwFCu+X7WqDxXnEEUdofPfdd5/uh8s7tB4DfOYVz48vPdXl066Wb5goiPggG/Y1qXDQMw0NjdMgYwV6zpw5vpYtW+qSRV9//bWG1cXwsXhtfBnGSmLJC9DcBSVQ6V522WW6X5f8tDgxE9O+XQ2vLAgXZR5sgiULwK63heTDZawk9UvzwPLb1tTESgsIq0teW5yYHIWJUSgfGK4B6ipvoY49+/Tp0/XZMTns559/1jA7Vhfw2Wu8J3wGG9R0OBLZMTROg4gpFixfYd+uvuuuuzSsPgTEFIwNnL/++ut1vz7iDlXs2Wz5J0yEqq/vHlvcH330kcY9cOBAX0ZGhoaxQq4bDSUL+Kxjhw4d1EizheSbqzxQvzQPLD9tUibG+i5evFjD6mpEWtxm9NrkquZsnJpcwEtqq7A8+uijGlZXI9Ly85dfftHhX5h0iB480JzztDGgcRpErCBDqUNA0NqC4NSXoWPCgNYwxijFxMToAsOgOVYg9kz4XCW+IY2lo2yyRn09r+UpZrjinVnXGlvGdSPYsgDsHcGbgXvA+wTq8x6hBPVL08fyeNWqVb6ePXvqe7QhFPWhc6wswFCz78h/9tlnGtZc36Hl6QUXXKDPe+yxx+p+fcmFvRdbluqss87SfcpE/ULjNEhYQf3www+1AHfp0iUoXSp2H/Mkoqsb1Oc9QgFTLOhaHDZsmD4rFt0H9Wk4Wr5hbUB0gyUlJXGdwDrSULJgZQRfjrKF5P/73/9qWHNrXFC/NH2svOIvDCjk77nnnlsRVl/YO7TJUWPGjKmQh/q8Tyhgz/rqq6/qs2L8OZaaA/VVZi3P8KGXXr166X2q+tIUqR00ToOACQHc/VjIGoUXigHUdyVpglJQUFAxVvLNN9/UsOYkKJanNqYQnykFwVCu9o7QRRrsezV3GlIWgJX5r776Su+FsZLV+VpYU4L6pXlg+WefjB0+fHjQxvVafLaQ/IMPPqj7zbGOQCMNQ3vwnBiiBer7OU3OXnrpJb0PVgpBoxiwnqgfaJzWM1YwIShHHXWUFtxLLrmkIiwYmODhu7+4X3MbK2nPZ7Mke/fuXfGpymDkqeUZJkfhU6i453vvvadhwTComiuNIQvAygvWIsQ9r7vuOt1vDu+O+qV5YHmKL9uhdwaLu2O4EgjGe7T7YRgUhmdgrOSyZcs0LJiy2FCgHNoPS5+hnNoY6WA9n5X9iRMn6v0ef/xx3WcdUT/QOK1nTAnYuDd8i7cuy1dUFxPAk046Se+LAfDA0tNUsfQvWrTI17ZtW302VJIgmM9mccMoxT2HDBlSbxOvwoXGlgVUvrZuLSYwgOYiD9QvTRd7T96luh566CENC2Z+WtzXXnut3tPWwm0OxqkZhHfffbc+24QJE3SiIAiWXFh+/vjjj3pPeGsxIRM0hzxtbGic1iNWWDFLGEtXYNIOCi4IdmG1+DE+Ep9Xw/IZWEIENNUKBEoFP6TfWqf4QgdoiGeyPLUFnO+8807db6r52ZA0piwAu78tJI/JQk2dxszT5qhfGgvLL/uyHfQLCPY7NCMNa+DaWMnmMDnK0o5xn1FRUTp57/fff9ewYD+XxY/lDJGfGHYGGkLHNXdonNYTJvjwrtnyFbYGWkMJvt3HWo9HH3207ger5Rhs7HnuuOMOfZ69995bx76BhngmUzD4Pjm63Vq1alXjb5WHI6EgC5YGfDnKxkpikgRoqDTUJ9QvzQPLw7feekvzsFu3bjpTHzSETrH72xCp3XbbLegexmBiacaXm/DxCTzTc889p2EN0b1u98cnZu2DMN98842GNUU9E0rQOK0nrCBi/BcKqC1f0ZBGjAkKxkrajHYoQdDUBMXSiwXF8X3v1q1b62f9QEM+i93r9ttv1/w88cQTdZ8V8vYJBVkAlg5bSB7fKa/r16gai1DI0+akXxoDe1dLlizxderUSfPPxrI3VP7hHdp7PPDAAzUN+IISaIrv0J7F1uI97bTTdL8h9bPl23/+8x9NA4YUNKQTpblC47QesMJpS3VgvbpgTtipCkvL+++/r2nBWMm0tDQNayqCYulEHmLyBZ4DsyJBQw82t7R41wlE3oKmqMyDTSjJArB7nnzyyZqehhwWUl9QvzR9LG/wvmzG/JVXXlkR1pDY/fD1JKQDYyWDsQxZsLGyaEYhGp/wYIKGfA68W/yQHhimSMsTTzyhx5qSngk1aJzWERMCtIaDvXxFdTBBAbZ2Xl2/0dzQWPrRCkb6MesaWHhDY/lmXXEjRozgbOVKCDVZAJamhQsX6lhJDM/49ddfNawpVMTUL80Dy5t7771X8wzd6Y05wdLKFQxkpOfss8/W/aYgE8DyE8OsMOkRz4Dl40BjlEPLtylTpmha0MVf3+urhhs0TuuAKRV482zCzjXXXKNhjVkg7d4QXEyawOQJm7wQ6oJiiuWpp57S/MQ4IownAo2Vdm+FbN/z/8c//qH7rJD9hKosAHtH99xzj6YLnitLr/0NRUI1T5uyfmkMrPxNnTpVG0f4sh2WkAKNqdMAPI0Y94qyheEvINTfoaW9sLDQt88++2jaQ2GyquXbxRdfrGnCF6oAZaJ20DitA9bFbJXe+PHjQ2ZwuQmpTSZqCpMXLM1z5szRyUcYa/rtt99qWGMLuN0flXB0dLRWMDYGlsontGXB7g9PFRY6R/rsE5GNWZntCOqXpo/lh/fLdmh4g8Yue3Z/6xbHV9WawuQoSzeG6CDdGDuLBfAbO812/9WrV/s6duyoaZs0aZKGsY6oOTROa0hpKcaWlLpWm/9rEN99950aK+haCCXvgQkKxoPZLEYbK1lcXOIrcWnEc+jPPVNjybW7s6+0rMT9UBGX+QoKCyrG7WBWMAgVAyJQKWIcI8D73iY/3S+UlXt9gUdE2flTFqY4WYgJOVkA9u4++OADfXcDBw3wpaf7v8ZTUlqs5TBUQNmxPEXjrKnpl6Ki4rCThe1h78q+bHfKKafofii9Qxh2++67r6YPX6sCoaJzA7F02Qch2rdvH1LjZS19GHOK9O255578clQtoXFaDVCoYJQaVsg2bljrGzSwvxbCZ59tuOUrqosJio2VHDJkaJWfx0NQaQMJkMvRPw0C96eszK9YLr3IPwbqkEMOdnleUmk6GwtLC2Z847OYSOeHH/rH/1WmGDU/YfiX7zcX9JnKH6pCFtav8Q3s78+ThlzKpSbYOzr++BM0nVdefq3u//nutKmkfxsab1mxPN2yxRl+gwdrWl/4z380zCq6UOCv+mXIdvWL9/maK/aM0KHYhmEO7BOXmFC5ceNGDQsFQwpYOmysZPv2HXxLy78chQY3nkOfy/3PK/eNgZWpVatW+3r17q3pfe214H0KuTZYGjFbH580RRqfevpPTzkkQP9pfdeImdkEiLrd4TKQbAdXfCTC/YuMjBAnnPL74nUy5bflsnx9tvzrqdfkm08/kHPPPVOQjU6A3XmREhERUX5142LpcJWGzJkzR6ZM+U4S42NkxM7j5YtpC2Tuko0y94+NsiU9R9q0SpC4uBhcJE5mgvgMrkHk/u9yVPM1q2izLMv6WbaWrJAZiyfLE88/KCmJHeT/Xn9PUlJTxAmx5mkogDxxylySk5Oldes28v7778mCeXPk6GOOkzlL0uTH2Stl/rJNsnRVmiTERUlKywS9xslZxfVNHcgDZAGPkpmdJ987WZi3bKs8+uyb8s2k6XLqqSfIXXfeps8cEYH35j+3sdFS5/7DO+g3oI/8uOAzyY5eJn1HdJD8yE0S4YuUxJhWWi79b0tTXr4VXKx8aL66v8tWb5Gffl8nt9xwuUz7fopMPPgo+ec9/5ToKOghl77y52hs/GnxqX6ZP3+ufPvtdxIdHSOpXYbId7/8IQuWN29Z8AK5AH7ZwHOWSVRUpMz9fY4ce8wxuv/G66/L0KHDVIdERUXp+Y0N0uoMKunZs6e4hoVMnjxJ8nIy5fDDj9SyiON4Vf6/7rn8kqTbDQnKDbIY+XzmGafL9OnT5corLpNrrr1W06+1dHlaGxOkAemJiYmR3r36yMsvvyQ//fiLnHjCSZLq6jNk3p95Cfz2BfkrEe6l+/OI/AXXCFJlk5dfKO98NV/+N22FbMmJkOyCyIoCKEXp0jE1Ro6fOEiO3HuAJMTHVVwXCpgi/PWXn+WIky6UTkMOk069R8nmTJ8TdJUVSYgVSU0slRF9U+Wco4ZLt06tg/IMfrXmCp37tybnd/ll4zuSVrBCcorT3P1KcUAifbESURgnQ7vvKaPaHC0p8Z3cVWXuUGgYqCouUEAlJXLUcSeLs81k9F7HS2ZBrOQVQdGgghJpneSTTqnRcvohg2TCzr1dKI4E0+gPLnhzaLSgTCxfs0Ve+HCOzP4jQ9LzoiWvsFRiY2MlLiZKWsQWSPf2cXLW4UNk9OBu/vxyNOZzW/kpLM2R3zZ9KCtypktW4SbxRRdLbm6uREVGSVJMa2kZ20FGtDtM+qeMl8iIKHdd8CsOK08uc2XST0vltc8Xyrq0EknPj5UN8z6R7NU/yKhDb5SWLRJl151S5awjRkjb1i1CRseUlJQ6gzRKPv1iklxw83PSse8eEt+qm+QX+0t8c5SFQOxdFBQWy6LlG+Wnuetl5qItEuXyZdGixTJ98gdy1MRR8vyT90uss0lxvt9AKY+gkUFdhobGxg1rZf8DD5O2XQbJQcddJH+syXJp9Dn5iJSdB7WT0YM6yoBeHSQuNrpByx8MUsgJ0vGtM5733u9Q6b/TUHnl1VelS6cO0qF1or8uLj83slEz1p9Wf8O8VC68/lRZlTdTjj/rAElJSXX1cYl0Tt5JurcYIe0SeklMZEKFfiLbQuN0O5Q64Ytywrdk5Wb554s/y9zVZZKUnOIUcbR6MKBg/RVLpBQVFUtOVpqM6h0j158xVnp3bRMSlYdfSKA0i+SZd2bKp79mSVlUsj5bjGvVmwwjrcWlZZLvKuqUuFy5+JiBctheg+r1GayiL/UVyw/rX5UZmz908Rc7RRItUe6niUFJdMpQIsqkoDhfWsV1kHGdz5RBqXu7Z3ECrALfuFi5mPTTH/L0h8uccZ3o0hvlnkM0HKBYlLj8LCwqktL8dDl4lzZyxSljpUVSfMU7aWpYWXjv63nyxHsLJa+shcQnJEtMtFOr7r3gufArcecV5BdIZEmGnLB3Z7nguJ1dxRGtedIYj23lZl3ufPlm9ROyKX+pqwai3LtylZkvQis8pLvUV+oqthJcIf1TJ8heXc+TpOjWQa04rCLNzMmXB1+eLl/+liFxSa21oo1xhk1EZLQUF+a4ghXvjMBiJ5/Z0rlloVx58jCZMLp3o+sYk4Vvpi+Rx99ZKNllqS7t8VJW6uS6GcuCF8uD+UvXy1PvzJZfFuWILwrGkns+9y82Nk5inYzk52ZK15QSueCYIWqgh0L9AKBy8R5QDqHTnv9ogazPjJVCJwqRkBGXRLzDUqeP3QuU3Qa1lIuOHyH9erRvkGewexS6OvbjbxfKlN9Wyqwl6RKbmOLKVakz7spkYLdEGdw7VY6fOERapyQ1at6avoHz5Yf1r0mGbxlMBMnPz3cyXKJ1IEC575Y8XHbvdLp0ShpYcR35ExqnlWCVxq/z1sgdz8+QjOKWkpyUoK0eSPOfGYYK2QmxOzfKGa3ZOXmSEpsp/7xgrAwb0LlRW3Gm+LNzC+TOZ3+QKfMKpEWrFFfN+lMf+NKRzMjIKCkuKZO8rM1y1kFd5Nxjdtbnq/sj4G4RUlSaJ1+tfkwWpX/nlEp8eaUPFe5JjdvEHlryZWUlzjQokz06nSZjOhyv5wXbk1UVlhf/98Xv8u/3nNKJay1xcIW4A54nUJDKCKcgI5zhmpGRIcO6l8m9l06Q1q2SKt5N08InT7/9q7zy5QZJbNlWG2hlrnL487nLX5x7LHgiXcl3z50mew6OkzsvHC/xcbEN/txWXv7I/FG+duWuoCTblbs4TYeqvW2SgjP9AUVledI+sa8c2vMm11iD577+y53lxYYtWXLrUz/I72sipVWrVuIrc3mK9PlPQiFyG6i4nI6JinINzRIpydssV57QX47ed3Cj6RhNmrstZOGJ9yELbSQ2xmmXsjL/AQ/Ya16y4MfyHkbTo28vlFzXYGvVMlkzB8YGnhx/kVfQrXkFheIrTJeT9ukkF50w1p9P5fnYGNg7hPf7ibd+kTcnrZeYxDaSEA8vJBKFZ/DjN5wiJCs7R1pEZckVJ+4kB40bEFRD0OL+ffF6eei132TB2jKJik2WpMRElROUGzxDfmGhFBXkSbfUYrnomMGy3279GslAdYlxeTRj8wfqgEF9Fy3+RgrqM78O8Z8DoGfiolrIHp1PlxFtD3VHgtcQbopwzGkAUJZQOOs3Z8pNT0yX9OJUSUqIda00eFUCCzsUrj8M3dIJcXGSXRQrv8xZKvvs3EWSE/0VYeMoX6RN5OFXp8sXM/OldZvWKtB/fYY/gSKNcrIRm9BSfpyzVjqnRkj/nm1V0OvyDH5xjJDv170gv6d9LvFRrlKqOBKAu43/VngPUXrfldkzJTWui7RN6KlpbIz8NGU3beYKuefVBRLXoqPEqF36p7IJBId8vlJJSkqS5RuLZPWatTJxt16Nkv7aYu/+w8kLnBGyUlq27uCettSF+yvfP3Hb+lz+HgX/c7eQeSuyJCczTfYY2d1fDhro2c2g3Jy/XD5bcZ8aptFqmJZXuJUmAyn0qQGbWbhB0gpXyoCU8X7Pvj/1OKleQD5gyM2dz06TX1ZESmpKS7dfrHepQPPqz/siz6OjIyUytoVMnbFCBvdIkm4dMS67YXXM9mXhr4ap0RxkwYvlwfuT5sn9byyRmKQOOp4fDgwzSP26AfiN1diYaIlzuvWH3zdJZsYWGTeiux5rzDzAre978Qd5Z2qGtHKyjfdYpulHmu294YewMh22VhqZLF9PXyau6MmAXu2CUv4sfyf/vFRufW6mbMprJS1bpkic9sLAMPWf52w+iY+NceUqUXKK4+Wbn1dKpDP6Rg3qrOluqKw1w/KXjf+n9ZyTUqdvYl0CvHnzZ3nAD8fxLEtd4zk2KlE6J+2kedxUZaK+oXEagL9g+OS2p6fIog1xrtA7YXSViDuix7dPhAo1BCUtW2T9urWy367+8VUNXdZMsD+aPE9e+GytpKS204qvOs8AsYl0ghYT30J+/X257Dmyg6S0TFQvQW2Exi9skbJw62SZtv5l9ZjCcKge7p5Is/tvXc586Zuym8RHt9DrNbyBgKJGfm5Ky5Kbn/xRCqPgOYQSx9Ed5ykaLslOeS5cmSmJkXkyrH8n7Q5sLK96dbFytHjFRrnjP7MkOqk9nkaVfvWfu4XMXrxJureNlL7d2zbQc/vLR0lZoXy28n5nZK7a1jDdAShfMVHxsrVgtdsqk+4tRmoZqK9KwyrzFz74TT74MdPJZ6qUlmxPPr1hfk8RGpDoOp41b6kcuFv3cq+0OxrsbHVsXxZQKHaUgKYrC17UY+ryAJNj737pd4lK7CDREWX6Xv15EPgs/jDNIlcGE5MhE5uldWKJ7NSnfa11a10wr+87X82Vl79YLy1dHeHTxlFl6Qf2DD7XWHNlMC5Zfv59pYzunyId2jidXI/PYPk7Y/4aueXZmeKLa+/q1WhXTmD444xt04h7a8PNJSw2oZVMmblGWsUXy5B+HSpkLZiYYbo86xeZvPYZtwXtgz5KTWwVILfdmRFRsiZ3rrRP6Cup8V3K4wtumpsC9CF78CsXkemzV8rPC3N0Vnb1DFPDVYiu5Zzkrvthfrb8OneVVhgWb0NglUd+QZG8N3m5UyIpLqwmz+BXDhD09IJEeevL+eWhNUeNSGeYwkiYnfapixeTnmomdIgD41KzizfJ7M3/Kw9tWOztffzdYlmTHu2MgRhVhtXHVcquHCUkpcj7U1bJ1owcHaeGdxXKmFJ/95tFklmU4Fr3/vGZ1QfPWCpR8Sny1td/6Nhs/3OXHw4SVin8kfmDrM2ZJzERGN9Yk/cFOSpzlXCMLEifLOmFa7Uco9KoKyafm7ZmyyfT1kq8KxO+Sntltk9ZaZnEuUbwqq3R8sGkhRrWUGXJ7hJusuDFLxc+efTNGZLrS3ENbuhM/7EdgdN8zshKbNFWnv9okaS554eR2JCPr2XQ3XP95gx55v2FkuDSgjT5DdMdg/oBY81zS1vJ0+/MLg+tmV7fHpa2LenZ8uBrs6Q0uo16c7ESTtX3cOXK5aHPVyIpbTrKcx8vk9kL16qsBbv+hSGKOu77tS/o3wjxT6asDv46MkqKSwt0KADGvSM+QuN0G0xBfv7DMimOSHaFZkcCURkR6knIK42XKTNWaUgD6p0KJYdW/bxVhTpWtmaVB/B7OBKTWsjU2ZskP7/Qr0DLj1ab8sRszFsi62AkRCW4oFpU8KqwYlzL9Ody4a8fRVhd8OzweHzx02pJSE7Rrrualgt41dEltmJTqcxetF7D7F2FIkgbHjsrO08mz9gkLVq00gkINX5uZ0glJSbIvJV5OrkQVFdx15WFW791d3LlrRbFBWlEtxu691dlz7LAOuNtAK9OE0mAcVfTggBZdEY/eje+nbHWBbgKzlXCDUE4yoIXeHnxtF9PXyIL1pRIcmK8C4NcVB88a0x0pKTlx8vbX87TsJrr6Npjef3WF/MlpyRJDc2aNg6wrGKL5ESZsTRffpy1XHWF34CsG5aMD79dJIvW+yQxIa5G8eJ6NHbwXG98sUDDYKAGC6vP5m39yt9DExHn1zk1AHGgR3Fj/hJZmP6dhqkjJ8yhcVoOhBPr0mXl5MuydfkSH++fTVobUCEnJibK7D8yJTevsEG8RRWUy+FvCzZJdGxihfDUFKQXCjQjL0p+nY8K0IXVtAUKjeVYnTPHX6/XMg9wGcb9ZRenafeHhtXyuWqKGRNYDzY9N0JnUdfuOfwGf1x8sjP4/RVysLub6oKV/RkL10tBaUy5gq/Fg6sh5Sr06ET5fqa/HNW2HFQH9UQ4tZZV5N5X0Tr/eNFaCh/KGLynGPMM6mM2bST65B2zFqe5sgD5RNpqXg5wHbyWa9PKZP7SjRpDsD1E4SoLXiyVv83fIEVl8U4usFeLtLuyFR2bILOXbFVPMuqeWhbTGoFbQJYxcW3Goi0SHYdJadClNX8GPHuxL07zAtTHO0TaCguL5OPvV0mrVq1r1fjBNa1atpRpc9NlxZotGlbbunyHlD8zZudjAm+t88BdhusRD8AKKOEOc6AcK7sbtmTLyk0FOni9xsZYOfCEYN3H5etz1dj10wCax2Fexd+XbZXIaBtnVzuBUWO9IEKWrUnX/Rp7eMrZkLuofKu2wHMaJQUlmToO0B/SMPlpSm3xyjTJzIdX3Cl2DakFLq7ImDhZuNKfn7V8LQ2CPff8ZVtcvke7/Mde7RKMHCuLiJWFK9J0P5hvztKdUbhOsgo3unTH1Lqs4CqUu835y6SkrMgfWEeQg8XFxTJ/RabExGJN5Lo0Hl3askplzYbM8rBg5uyf8YebLBh4fBhPuXkFMm9FtiQmJqgjojbA0If3ePHaAlm+dquGBfv9AavT8LGQDRk+XbO0tveF9zQhMUl+mp+myySpV70OWP0yf+kmSc9D+YqqfZ5E+KQ0IkGm/17uWAlC1vobwhGSXbxZNjkdUZNx7X/BJRDXr82ZK/klWS4AshWERDchaJwGgLGaeYX4ukf1x438BVfQsHRIQVGZFJc0sHu+XD9kZBXqM9SlfEPXlLkigjypDaaq8kozVYjrlBgHujqKywrL9xoGS3FWdoGUlNbt618oT7qkDFYor2NeBBtLXUZWgduOqniXtQPdztGSV4DnDjb+lBeW5mlZqVuF6a98ikvz3VYtKx0PlqdY9zMzp8jJZ+29upo292ylZf7F3/0hwcXiDzdZ+BN/OnPyCmXt5nxdj7a2DXY8f0x0tKTnFLuyUFAeFnzM2NuUluPuXeoMwNp7bBEXvgi2YWueFBXDw1m3Z7C0zVi00ckvemuwV5sy5qTWxVUWESczFm7SkKDkbXl6YUxmF23WhmxtbQaVB3c9PkhTXOYvD+EOjdMAoHDhJfIXsVoq3/LLoLvrVDfWgTrapX5cBEh+XSohgEXP6yE1DnTYNk6GRkY5hYcPBNQD/i7yRioYNSTKPXf9vDso3/LNBgDdYii3dU05rrc1HuuKxYC/GOpTX/gr8YYjXGXB8H9UwP9VpVrLhrsM5ROOc/+k24alsKjEPYc/DbWXbzQ6I6WkxL/0VF2xKLak50qpr34axJk5wXdmlPpKXCOxyKW3roKIj9RgYlrdG8LNARqnAWBt0hYJUaowam+TYQ3DEkmMj9bhAQ1KuYC3TUGXUzG0jz+gFkDhREaUSXJSXHlIzTB1hU9D+qlDWtw/tCyxHlxDYilu3TLR3dupjTqM64MXDuWiRWKsP6Du+jxo2HO3TUl0SsK72H5tcEYinjspvnw/eCCPQVxUssTi04B1GNbij6vMxeXyoB7HgOFzn61bxulXn2ovnzBsyiTGlcnEeL981jam6mLxh5ssBAJvY1ys/xPWtc51dxn0Kxop6L5uaOLi8KVDfxpqX3KcXKMMRtfNix4IJp3VPk1/oo3TejCad0R0hMtLrFlaZ6MSy3RFuyenWQaYC+WYcHVu31J6dYzXT37WVuDQoi4oLJRBPZL1Kyh+6k94q8K6FUb2byslRQXuGfCKay6gSG1xqU9SE8tkp97tNKzmXaT++3ZNHlKLFHhxFbFrUSY7IxdrwWlIPSrDqvB7dkR26tNOUhJ96jWp7Z3hZcBnAEcOaKv7te0Caghs9vfw/u0lPhqeAezVJr3uKd27ivQVyqiB7TUkqG+uvFy0ju8uKXGd9XO5tb8fyl2pLo6NiVH1AepKfAJ5eN9UKSosKPe+1Rw8ZlFxqXRqHSV9uvkbf8GesR8MWRjVBGThT/xPm5QQJ53axOvY4drqIRjnGKfZKinKNdoapnEBLL3tUpMkJSnS/w5reWPEhQZWu9QEHaKgYfr/2mHXprTA1wPr3iDGBCN8GCFolGdcfFRLVze1VV1hjeOa49c1STGp+hEQQuO0ApQzDPDGgtZ9uyZLcVGhC6td9kCJF+TnybA+KYLviiPe2iqAGlMu0TAqYBDUGpdefNaudbJPhg/opEFWOVWb8rR0ShrkWpZQErVTN7grBLeFUwD4DrE/rGGKrinz3t3aSLuW6MIq8ReWGoMxgu76ojzZZUhHCwpZ7LmxSHjLeHwRqm6KN7IsX3YZ6i9HwZQFpBHe0sToVpIa11XLTW1viDzA9d2Th+u+xlVHbALU0L5tpLQEjUekreYFAdfhe+Nd20RLjy5tXNrQsxDEjHUEQxbGNgFZMPCo8BYnJ8XL4J4tJD+/QKJq2biALs0rKJIB3eKlV9c2Gmb5G0zsHgN7tZOOKZHavV9bucaz57t6btfBbbWeq+34W6MibT3auAax0zl1iM6VMFf/FUn/HuUNN/1//aK6xv1rEdtO2iX08i9zWMt3iOtwfbfkYZLgdJf/CYKR6qYDjVMPZnwdtc9ASYjIqZW3CDEUl/gkNb5QJu7m9/LV2KirAxUer4FdZEz/JMnMzvVPjKoJTslgskZuTrocsnsPl/4oVco1xQS1Y2J/6dlitBSW5dWqexQVGcbiDGqzn+439Jgc/7NHyNH79JG87K3+iSw1LBdQ5Dm5eTK0R5yMHNRVw2qryBoCpAzPnZgQL4eN6yaZGekSpd6RGj63K3tZWdmy2+AUZ9T4Pafuwf1/g0V59MPaHlTrpaTQ+MHEhLau0unRcrQ/rJaNVS/mKZ2wc2/p38mVibzCirBq454nwslkSUGGHD6hT3mY/0+wCUdZ8FLRMzWwg0RLQbkmqkXmu7JUXJgnQ3qnqow0lAMD98A7hPd+WN/WmgZ4sWsD/OZRTkaQF6CuXehWBkYO6ihxkYXlZa0WcUI+XP6WleTJ+JFd/GFBylt75s7Jg3XYWa2zwF2HurFz0mDdxVrA4U7dtW0zAsKBwtW/Z3s5ZLcOkpOdobMRqy8gfqHPykyXg3fr6CpjuPohKA2neHEnq0BOPnCQxEuWS0PN2mBR0VGSm18ovdr55PC9BmhY7R4BLUu/kI1sf6QkRLVUoatJaiDwRaX50iGxr+zUet/y0IbLT2DPvr9rbIzoHacVq9/gr3658LnnKClIl5Mm9tev++AdNWCxqBWWviP2Hii92/t01YaaeIpwPWaTx7oyiLII9Ll1K3iYV71bi+HSL2W8FLkKFOWoRrhEwlM6vN2h6smAN7Y+PBnIE+QBemhOmthPygozXFjNyhJ0TLZrdI7oFSv77eo3ThtKx9htwk0WDCv/B47rLwO7REmermNds2oUz1pcUiZtEvPl+Il+Y6S2wztqg+X1yQcNlqToXB3jWdPsxzKDOTl5MqpPvIwb1VvrzZrmQyBIF+JJbZUs44e3d/VvVnnjp2ZgLeHc/HwZ1DVe+vfwD0kLlhfSnC1D2xwgreO7SakPE6Nqdi/oqxJfobRP7CcDW++lYTXWV82QhpOIJsZFJ4yRwV3K9PN6MdUyULE0SIxsSc+S0X0i5cLjdtbQYAlFVcBTC4W/6/AecsZB3SVty0YnsNHVqAAwQD9SCot9Elm0WW44faRTFEl1MrAheDBQ0V2xa6eTnaGZVxG+IyD4WA4IE1L27XqxxEc1/Hf1gb/R4tOxZtedPloSZavkF2Lh7B1Xysi2KJSLzZvkxH06yv6799e4GtKbXlvw3Hj3Hdq0lGtOGSal+ZuluDTClRGkvernxikREdGSnrZBzj+8t3rIUCYb6rmtnOzZ5Vxpm9BTCkvxmcgdK3xcg/OwPMyQNhNlRNtD/eHllVB9gDxw2SqH7jlIjtqjjWzessUZnLFaVqrGGaauzOXkF0ur2Ey54YyxupwRylMtxbPGhKssePF3X0fKJSeMkOjSrVLiGmDVfQScBl2clbFZ/nZwP2nXGg32hnt/wOS6S4dUOfvQvpKVvlkia9ArgmfFTP/osnQ575hhGmYe5bqC8gCO22+AJMfk+Q3nGuWNOz8ySory0uXEiX0lzjUC8YWpYOYv6reYyATZo/Pf3B7qO7/uqQ44D9fj726dTtGx7Q3dMxiqRN3uKN8mDhRiCAhm2e8ypIPMWbBCVmwslMSEJK2UVQjLBQigG10XC3aVV9rWdNm5l0/uumictEzGTGEIVhClogr8lYjIiIEdpawoW36cs16iY5PKVw9wT4GD9hjuXBilaKXm5BVIbOkWueOcEc647VkvBoVfAH3SOWmQVvwrsmdoeJSOQ/0rMAQwfg5rVSZEt5SDel2vxq1fiBunPaUK3eVF29RkHW/2/a9/SFZBtCQkxKuy9udneYa6fRjW8EDDc5ie5irjvdrK5Sfvol1ojVUmaoM9d9eOKdK9XbR898syKfTFq+cPT/GX5y4vR4UlZZKTsVEuPLy7nH7YSD2lIY0QK3OxUQladtbkzNWvRmFWLcpgeYorwPkIL5NS14DKcYbpgbJPt4v9wwL07PpNO4oAYh07uLPTG5tlxiJ8MQqfkixfd9LyFLiT4alSoyY7T9rEZcq9F46VAb06qJEBWWlIwlUWDHv+zu1bSXJsiUz6dbXEJbR078iVOYwpruyZ8J7c8+IdbnbG+Ql7tpbzjx2j2dTQ7w/gGXDvYf07yvoNG2TmkkxJTkr2Sw0ObOcZ7D3mZKyXG08dJBNG966XOsKwvG3fpoUkxJTINz+vlqTkVu7e1THY0KsQ6xp7aXLEbq3krCNH+/M3yHpHdY1LX5v47rq/Iutnrdv8DdpyOagEHIeOKirL10b0Tq33c3uNV8eFGjROK8EEBEvfTBjVxSnUjbJg+SbJKfR7R6NjXcXsWmcYi4lF9jOzskUK0+XwXVPklnPHSUqLxEapNP6Cuz2Ec+yQLtImqUR+X7RKNqUXurRHS2xsnEt/tFOW/nEyObn5kpOVLoM6Fcsd546VMUO7a6u1vtZjNGMBhkLLuPb6RY3sok3IbJdP8LrgDP85GOuH7pGuycPlwB5X+Wf7o1tVhb3xQLlAnnRxldKYQa1l2fJVsnxtlhSViOZnVAwWjo7SSherPWRkZklyZKZccEQvOf+4MRXpb+xiUVPsuft2ayNDeiXLwiUrZPVGrEUY6X/uaH85ctWAFBQUSmZGprRLyJarThwoxx8wtF4rr5rgL0+YHJUivVqNlbySDNlSsEIX1cd7cqaCnoVfma9YCkpztTE0tuMJMqHL2eXLw1TfC1JjUNm7fNtjRDeJk1yZu3iNpGWVaH7GOB1j8on8y87Jk/ycdBnTO0L+ccHu0r9X+0bLVxCusmBYHTG4bwdpm1wqU2es0IXj4+MT9JnwWqD/8cOzwjOJyUfZmRvl9P07yJWn7eZev//hGy8P/M6TcSO7SVbGFvltwUaXznj9umGlzxAVo135EcVb5ObTB8shEwbWax1hIE1gcJ/2UpSfJdPnbXTGfws1/v809v40+nA+0oB6LW1rmuwzNE5uPnsPZ6j6vfkWXzDBPfz121D9Tv6q7Fkub4orlobC8YpfuUYp9uEjIZGyV5fzZWT7I0KijgslIlwrafumfZiDrEHmQDinz14hX/20Qn5ZkCHr07AEDLp3RLq2TZDRA1rJAbv1VoNOu2jcNQ0hENXFFMj6zZny4eQF8vOCrTJ/RbYqV7z95MRoGdm3pew2tIMcttdO+s3uYBnXJoDZTsHN3/qNrMqaIevzFmo4cjsuKskZo8OkV8udZWDq3sE3EGqBGQVYzeCzqQtl6qz18suiDMnOw8xXV17csf5dk2XngSly+F4DpSdmU5df05SxZ8As44+/XSA//r5RZizOlIIi/yx2fM5ycM+WsrMzVo7cZ5AOBwiF5/ZLsZNJ929p5k/u96OszJ4hucVbK8pVm/ge0r3lSFfm9pL2CX3KyymOBTftSBnyCPK5dPUW+eS7RU4+02XJ2hy9MxxxqS1iZFT/VjJ+ZGc5cNxAd25kaDR+HeEqC4Y9y6yFa+Tpd3+XWUtzJTImWXxRcRVlS8qKpLQoR3q2j5LzjtxJ9t21n+rdUKkiLC2ffb9A/vPxIlmd5sojngHePxyH/i0tlLLiHNm5f7JcdNwI2alPx6C/R6u3Xv90tjz70R9SIC0lISFR4mMxRM1/X6QdX6fKd43iiOIMOWpce7nilF20gQfhaug8Ns8n9MuP61+TDXmLnayWunT+udIHxpjDIYOexN07nV6+1KL/OvInNE53gGWPCcPWzBzXesQSMFr2tfs+pSUWhnctp4BzQwlvZYaJLWnpOS7M1XwuybFO2NumttCWJh4ByiiYFZ9XELF8Bjxa/pxzyigiRj1dfm+q36wIJcPU8DdC3D+XNCwPtHlrti7tA/D+sb5tUqJ/0Xk914WF3lPUHO9zwyDBcxdjSSEHjKY2qcna5Q9CxYACXgMVe3klmeWfCfSnLwGL9ruGEdDKWLcaJu2BMoehNekZuRqGYwnxsZqvyF/s4+xQ0jHhKguGlXN8RnbR8o3y5fQVsnhlenl+YGxnC9l3THcZOaiztEhK2Ca/QgGUKSt/mdl5ztBer46YDVucoV1ufA7q1Ub2HdtdBvbuqEPDGqKBgXRZWf9j5Sb5z4dzZMHKXGc8l0lxua0XGeGTzqlR0rNDjJx+yE46z8LvkW4sGVGpdW/Xv9rHxrwlsih9imQUrtP0wEZoE99N+qaMk46J/US/x6/nh0hhCCFonFYTCCPKT2WVrR5zhLo3AK8aSa2sGwalABULxrY1BBBI3LTybgyks8zlNQzU0AaD7dE1U5keRMsf4aFioNUXKO0oKxhDV9mT+fMElW/oPTc8ongplVUG/mP4r3E8GDBaIIeVyydkAp6k0PWuhKMsGKgD8Gg7KvMNYdTVluqkDeUTZbEhn0Hz1t0Pd9ywJUvmLFqnDQEAh8qAXu2lTzf/xxxCxfCvXs/Ln4Ys+Ss0TmtIZdkVipVwVfgfIeA53DM0zlOomboNjZWSuvDXctH4CjLY+ItR03zuv5a60Cl3lclnU9Ix4SgLAI+t5cr/3zbg+VG+Qj0f8O78z7EtmuxGfAYYnWB7jRtLd2gZ/uVaBmnTLaTNbzwjE/0pDaX0hhY0TgkhhBAS8sBcgSfVjBaYdmi4hXqvJak5NE4JIYQQQkjIwMEOhBBCCCEkZKBxSgghhBBCQgYap4QQQgghJGSgcUrqHf+g9ep8bo6Q5g3kgMP6CdkWyAXrCFIVnBBFCCGEEEJCBnpOSb1RWur/bMebb74pp59+uqxYsUL32UIm4YSVd5R/yAHkAZh8EBKOmB8sPT1dzj//fHniiSd0n/UDqQwap6TeMCXz5Zdfyquvvirr1q3TfTrnSThh5R3lH3IAeQCshEk4Y3KRlZUlzz77rLz99tu6T7kglUHjlNQ7+KwlaGpfziKkPrHyb/JACPkTygWpCpYOUu9YS5geUxLOWPmnZ4iQv0K5IFVB45QQQgghhIQMNE4JIYQQQkjIQOOUEEIIIYSEDDROCSGEEEJIyEDjlBBCCCGEhAw0TgkhhBBCSMhA45QQQgghhIQMNE4JIYQQQkjIQOOUEEIIIYSEDDROCSGEEEJIyEDjlBBCCCGEhAw0TgkhhBBCSMhA45QQQgghhIQMNE5J0PD5fOVbhIQfgeWf8kAI5YBUDxqnJGhERESUbxESfgSWf8oDIZQDUj1onJI6Yy3hjIwMyc3Nlfz8fN3fsmWLpKWlSVFRke4TEg4UFxdLenq6ln8AecjJydEwQM8RCUfKyspk8+bNsmHDBt1HvZCZmalhgHJBvNA4JXXGlMqKFSukX79+8t577+n+8ccfL0cffXTFcSof0pyx8h0TEyNnnHGGHHPMMeol+uCDD6Rnz54yZ84cPY5KmpBwArIRHR0tt9xyi4wbN04iIyNlxowZ0qVLF/n666/1HMoF8ULjlNQZKBoonzFjxsjYsWO1RYwKurCwUI499lhJTEyU0tJSdueQZg3KN8p5VFSUNsxKSkp0u6CgQHbaaSfZb7/99DyEERJOmOF50kknaV2BH+oHGKdHHnmkHkM9QojB0kDqBVM+119/vSoZdG2iQj7nnHM0nIqHhANmeJ5yyimy6667qoEKbrzxRv0L45WQcANygTpir732UmPUehmuvvpqadGiBZ0X5C/QYiD1gimf3XbbTbszwZVXXikJCQlUPCSsMAP0uuuu07/wmB500EG6zUYaCXeuvfZa/Tto0CA5+eSTdZtyQQJhiSD1zrnnnisjRozQLn1AxUPCCSvvhx56qDbWzj77bN1nI42EMyj78JjusssuKhsYl52cnEy5IJUS4QoLZ6mQeiUvL0+WLl0qQ4cOVWVExUPCDSv3v//+u/Tp00fHXRMS7phcLFy4UNq3by+tW7cuP0LIttA4JfWOFSkapSTcscqYEPInlAuyI9jfSuodKh1CCCFVQb8YqQp6TgkhhBBCSMhAzykhhBBCCAkZaJwSQgghhJCQgcYpIYQQQggJGWicEkJIEwJfnarOVAGsH2kfBCCkOYIPv9hX2KoC8lJduSGhASdEkaCDChILk9dkFj+KZXXPr8m5hFQGypB9ghegPDXExyPqWnYD083v9pP6ILBRU1P9XRtQlkF9yUNDyTAJDnxzYQQEF9+8t19DtSRRYXoVTnXuifMDz4PCDGwlQxFVdi4hNQFlCOXUfqjUvEZfsAiUix15gXD8kUcekZUrV+o+0uhNN+IwWfi///s/+e6773Sb8kFqgrdM4QeCLQ+QBa88VOX5t7TMnTtXnnrqKd22Mm5phgzb9RkZGfLEE0/Ili1bdJ/yEPrQOA0jIPgxMTEVv+joaA0LpqBCOfz666+qHADu5VVAgVhaTjrpJHnjjTd0GxWyVcJIMzDl9NFHH8kpp5xSESeVDqkJVl7WrFkjX3/9tXz++efyv//9T+bNm6eVWzDKk5XdGTNm6Hf3MzMzdR9Y+Q7Ervnkk0/kpZdeklatWuk+wn/77TdNN75GBTmwCnnt2rXy97//XbcJqQkzZ86UL7/8Uj777DP9m5aWFjR5sPJ6++23y/XXX6/bCPMaxoGYvv/nP/8pixcv1m2Ebd26tUKO161bp9cjzSkpKfLaa6/Jm2++qeeaPJEQxr040sxxgq5/lyxZ4nOGnM8Zfr5jjjnGd8YZZ/icYOsxJ6z6F2Ab13jDjMqOWfyGnQOysrJ83bp18zllofuFhYW+3NxcX1FRkZ7njccZofp32rRpvr59+/o2b96s+xbuFIvvsssu8+Xl5ek+cC1h34ABA3zTp0/X/cC0EFIVxcXF+veOO+5AresbP368b+jQob7ExETf3XffrceAlWmURfsFyoCFWxm0MC92Dpg6daqvR48eWobBrFmzfFdccYXPGQK6X5lsQH6vvvpq3cZ1J554oq9ly5a+1NRUTf+tt96qxwDkZ8SIESpPgLJBqkv//v19bdu29e21116+zp07+3r37u374Ycf9BjKEcqmlWX8vGUr8JiV46rOA+edd56Wb+Opp57yPfnkk7pt5wCLb9OmTVpPuEae7k+aNMm30047+YYPH+7r1auXr3379hX1Dnj55Zd9e++9d/netvJFQg96TsMA95717+rVq7X12LNnT9ltt93UW7TLLruIqxQrPC5OYHUbrWT8xb6BeLzHDOx7wTE7jr9otZpHKCcnR8aMGSOuwtRjljYvaK2PHj1anHLUfXiWnOKSs88+Wz744AP9dj9wCkvatGkj48aNk1dffVXDKouPkB2BcrPzzjvLlClTZM6cOfLKK6/IzTffrF5JO45ybt6cQI+O95jJg4V5wb7JBo4nJCRUlNn169fLW2+99ZcyDBnEdc7YVFk95JBDNNw18GT//feXpUuXqsfovvvukzvvvFM9sgDy06VLF/n44491n7JBagI8mZMnT1YPvDP65Nxzz9VwK79W3vFDWbbyhePeY97zTTaAnWfExsZKXFxc+Z7It99+q/VEIFYnoRehXbt24hqTuo+44UmFjCxbtkzl+R//+IceA87QliVLluhQAEB5CG1onIYR6Mpv3bq13HjjjXL11VfLV199pftvv/22HoewQsBdi1QraPwNVDpQVDiGv6CwsFDHv2EMq7Fhw4ZtxvbA6DUFtWDBAj22cOFCWb58ueTm5mo4zjNFhcrUtXB1G/z73/9WxfXMM8+okWvnWbrGjh0rU6dOrajELZyQ6oKyg8aOgYoMFR9kAEAO0FW4zz77yMiRI+XCCy/cpjseRuWECRO0LF5zzTUa9t5778kZZ5yh26CgoEBOPPFErfAB5AL3TE5O1vJ71VVXaePtoIMO0qEqFr9VxosWLdIG5aBBg3S/Y8eOctZZZ6kMgyOPPFL/ogvWgFExe/Zs3aZskOqCsomfceihh2pjCD/ochy77bbbZNddd1VHApwDpuPhPEBZxrHdd99dh8kAyMyLL76o2wDjoU844QStQwDKppX1W2+9VeXt+++/13iefPJJDcc5VoZxPZwTqBOQnj333FOOOOKIinR36tRpG+MX8gxHCYaZkdCHxmkYAaFGZeitoGCwWmsVQg5DcNiwYXLUUUdJ3759dfKFKZ0HHnhARowYIccee6x6bGBkYrwPlBNaqgYqzJtuukm3oSigcGBcwrtz+eWXa4WPuHAPtGSBKSV4h+Dh7d+/v+4jrVdccYWmC4oFRrClx/4OHDhQK/UVK1bovvf5CKkNL7/8spbJ4cOH6z4acueff76WWXiU4H2BJx988803WhljnDQqYMgNgCH5448/VpRHyMKkSZPUQwoQjjKMyhn3gUcU8gj5Of300yUxMVHPs3IOD2mHDh20kjVMvgC8vqiszZMEIK+QTettIKSm5Ofnq1EJTyT0OLjssst0LCp6F9AAu+GGG+T111/XY1deeaWWe9QBkJeWLVtqOHohTN8DyAHGh5ox6eXoo49WOerVq5c6UsaPH19+xN/IAnCQQPcDkzHcFxMBcQ2MUNRfADKCXgrEh/G0gPVEaEPjNIxAJYeWL7pDfvjhB7n22mtV2Zx88sl6HIri4Ycf1koOFSE8PI8//rh6bGD43XvvvfLpp5+qQYpWLboNoVhg1FoFCmyyFUA4vE7wGsHDA28SuhpxH3S/WOVv12MQO9LUuXNn3YcCgWcJeD1bwK7p3bu3xg+jFlDpkJqSlJSk5RFDTuCRROMJ5d/KIbrM4Zm85JJLZOLEiRVygvKalZWl5f3ggw+WM888U8455xy9BpVofHx8RTnFX0xksgoeIAwNrhYtWqjHNDU1VY4//ng54IADVI68oFGHhqRVzhYv7g1vKQwFNP6QfuvJgGGAhhvknpDqgvKIISIwSLHdo0cPbbABeOIxERUyASfFpZdeqnXIs88+q8fRKBswYIAcfvjh2ouAYVcAsuDttkf5hsPByjGwbTSq4CSBbj/uuOO2aXDhHOh4TLJF2oDpfDQUH3vsMe0NxHHIJrAGHNKQnp6u2yS0oXEaRpiR+K9//Us9Mw8++KBWwubpeffdd9VbAwGH4vn5559VkNHNjnGq+N19993aNd+9e3e9BkIfaAyaIqgMGAGoTKEkgFcxASgUVKxIq2Hxm1Iy7FoLr+q+hFQF5ALl+/nnn5f7779fDUgMX7FjKJeY6YtKFxUlvKQopzBO4R2Cpwfjt+H9hPcGBPZSoCGHX6C8GDAgEef2vJyB5Rv7kBP8hWGL4QYwUBG/yQ+2A2WMkB0BbynKOLrr0WOA1StsqBYaSagX0AgbPHiwei9feOGFijIH4xDDtlCvwItqw1O2Jw/bA7IA2QOBMoN9bxjKOOQA5R/yt2rVKpVFGM1IrzlLAOWhaUDjNIyAIoAXEt7PP/74Q5UOlIcpACgDtDThEYJhCk8qxtihFQtQObdv3149RIcddliFNyZQ2NEiDlQmhiko84IGVrgwWqFIvHFaXHZuoEKDUgxUVoTUBJQpdInDk4+G26mnnqqeI8gGyiTKK5a5Qa/BL7/8oss2oYLGkBaUOzT40GWJMZ6oEFEhw0tq5RxYw6yqcgqvKLofKwM9FZBRu94MUxjG8EChEWkGgskPjAyTKUKqC8oZyjLGN8NRgXKG3gKAMoZeMExchaPip59+0nkGcGoAeDunT5+u3lWMGcUQAIAGn1cerEesKszTauUaoPxjH/KF8m0gzIxUgPoNvQY25hqgzoIcktCHxmkYAcFF5WfCi259jNuBsQrQRTJq1ChdX/Sdd96p+GEtRoyLQ3c8um7QikbLFMYquntwzOvtQcXs7ZLEPa2yhALBz8bTmdKx4xhTB0PB2/Vi50CpQMFZRWuVNMapQonBuAAWFyHVBWXG2+hBhYoy+OGHH+o+JkhhBj/C0FWOMgdjENehCxGyAPmBtwnlHY08eJVQeWMIDbjjjjvUgDXjE9faD6BLH8YwGo6odAO74vv06aNGAO4NIMeYUIIhN/BwQQZxHBWyASMa4+yqYwgQYkDn2kQllB103aOcYwIrJjlBD//3v//Vv9DLaLDZRCP0rsFzCuMW3f42qbBbt246OQqGLybRQh6qaqyhMYbzUK4hTzgPsmL1F4av4D4AMoceDxjISDd+jz76qNZDGB4AEIZ6y5wtJnckNKFxGkag1eqdYYzKDl2SNmgckznQJYIB7jBQ4Q1CZQvlgvF4GGuHgfH4oZKGYQqDEOPyMAAdyzxhzB0mfUBZACgU3NNazGjtYhblQw89pPewiVSmoGAAo/LGmFcAJYkxrzCSYURjUhUMAQzGN2Ni/vz5apyiEgZUOqSmoCyh0gQoq2gkoVsQMgAwMxnd+ahgUblhBrFVxvAi3XLLLeoxwljRCy64QM/D+fDeoHGHihpj8bp27Vrh7UElCwPUyiu65REvJn9g1rHXyAT9+vXTCtsWHf/iiy90KA7iRZogz5CB6667rqJBhzTCSAZ4RsoGqQ4ol16jEatMwDBFAw36GXUAVqiAnKCcY3KgrbwCfY/VVjBMBnXCXXfdpeFwhkDGoP/RM4Gy6nWWQO68ntXTTjtNjU/IDCbEeg1TgOUQMdTAjFYMNbvooou09wNxw6OLyVFII4CcYBgOejtIE8C9WNLMcZWS/p09e7bPVZ4+Z1jqPvjtt998rvL0rV69Wvfnzp3rc5Wyzwm+LsD80ksvabhTVr4HHnjAN3bsWD3mFJOGA6dA9JpRo0b5nn/+ed+dd97pc8anHsvOzvadfvrpPldJ6j747rvvNB4siIxrAdLoFI9uO4PYd8011+g2cEasb5dddvHtueeemibXcvc5xeVzlbcex8L8hx9+uG7bsxJSHazMuUZPhQxYWEZGhs81kioWAEfZWrFihW/OnDm+tWvXapid6ypkDV+1atVfFvdGHK6BpduuglSZAM5I1fO9ZRZhrrGl9zEQn8UJ+XWGsG5nZWXpeYh7wYIFFX8tbUi/M1p9X3/9te5TNkh1WblypZYfYGUPZXXDhg26DfAxFZS3efPmaVkE3nMhD1bXWDiuQfjmzZu1TsF9rFwibNOmTbpt5yMsMB47hnvjAy/4a0C2UIehXskr/1iLyS/qLNf4q9i3eEhoEoH/ldupJMxBUaiJZ6Wm5+8Ip6S0JY1ZofBYwVu7Peze+Iv1JeGtwtqQTuFUeI0IqQve8o1t/Lxly8oawoGdW1U4tm0/kMDzvZhsoPseXiSMC0dvAa4JPN/OxcQUdL1i/DghdSGwnAWWZRzHD+Xeq4O3Fw4C9wMJvKcXO4YeBvQaYIgAvK4o995rTBYAVg3AXAmMHfeGk9CEtXgYAYGGUHrxhkGooTCwbz/sG4HhpgS819h24HW4j4FjUCSB4aaojjnmGD3n/fff1307Fz/bxl+AbiMso4PhCWB7yoyQqkA59JZFw8oxypVVsPjhXCuvXjnAb0fhgbJgeM8PTItVpFhWB93+tmyaxe39WTy4Bl38AOGEVBeUF28ZRJnyhllZtjIHLAx/txeO6y0ei9NAWOA9ved7sX0MFbDybnMR7N44x+6NOgLGqS2baOEkdKHnlIQUKI5QNpjIgUlTGEdnYV4szAbMY1ZpZecRQgghpGlB45SEHDQyCdk+lXVfVgZ6GAC7L0lzxbyk1VkqrbpyQ0IDGqckJIHCATvqfkHxxY/dNIQQQkjzgMYpIYQQQggJGehuIoQQQgghIQONU0IIIYQQEjLQOCWEEEIIISEDjVNCCCGEEBIy0DglhBBCCCEhA41TUq9gCShbX5EQ4l/uDDLBhVFIuAM5sGUCCakKLiVFCCGEEEJCBnpOSb3y888/y/fff8/WMQl7rN2/efNm+fzzzyu+h09/AAlHUCegbkAdQciOoHFK6gWrcE855RSZOHGiFBYW6j4rYhKu2PCWSZMmyUEHHSSvvfaa7uMzioSEC1YHoE5A3YA6ArBuIFVB45TUK8XFxfqj4iHEj/UicCw2CWdQJ1j9QMiOoHFK6pWIiIjyLUIIMJmgbBBCOSDVg8YpqVfoMSVkW0wmKBuEUA5I9aBxSgghhBBCQgYap4QQQgghJGSgcUoIIYQQQkIGGqeEEEIIISRkoHFKCCGEEEJCBhqnhBBCCCEkZKBxSgghhBBCQgYap4QQQgghJGSgcUoIIYQQQkIGGqeEEEIIISRkoHFKCCGEEEJCBhqnhBBCCCEkZIjwOcq3Cak1KEYRERHSs2dPWb16tWRmZkpycrKUlpaWn0FIeFFcXCzx8fHy2muvyamnnir/+Mc/5JZbbpGCggKJiYkpP4uQ5g3qhujoaMnOzpaUlBTp3r27LF++vKLOIKQyaJySesFrnK5Zs0aysrIkMTGRCoiELSUlJVopv/HGG3LyySfLXXfdJTfffLMarTROSbhgdUBeXp60bNlSunbtKitWrGDdQKqEximpF0zRDBo0SBYuXCgPPPCAxMbGSllZWfkZJJyIioqS9evXy5YtW3Q7HNUMnjkhIUHmzp0r33zzjYwdO1Z23313yc3NlchIjqgi4QPKOxprzz33nAwePFhlwuoMQiqDximpF2CEQgGdd955qoBgkLBLnxBCCLA6AY6La665pqLOIKQyaJySesFawVOmTJEff/xRx9qxaIUnKAfwknTu3Fnatm2rFVI4ekiQB61bt5aPPvpI7r33Xvnb3/4mF1xwgaSlpWl3PyHhRmFhoYwePVq6dOlCzympEhqnhBASBDjmlBBCageNU1KvoKuGRYqAcPeKwAiNi4uT119/XU455ZSK2frwHtE4JeEK9AI9pmRH0DglhJAgQM8pIYTUDo5GJoQQQgghIQONU0IIIYQQEjLQOCWEEEIIISEDjVNCCCGEEBIy0DglhBBCCCEhA41TQgghhBASMtA4JYQQQgghIQONU0IIIYQQEjLQOCWEEEIIISEDjVNCCCGEEBIy0DglhBBCCCEhA41TQgghhBASMtA4JYSQIODz+ar8SwghpHJonBJCSBCIiIio8i8hhJDKoXFKCCH1iHlGs7KyZOrUqTJr1izdX7JkiXz33Xeybt063acHlRBCKifCKUhqSEIIqSegUuEdLSgokL322kt++ukniYmJkeLiYunQoYNMmzZN+vTpI2VlZRIZSf8AIYQEQs1ICCH1CAzT0tJSiY+PlyuvvFLDzAdwzjnnqGGK4zRMCSGkcug5JYSQIAEjdMKECfLDDz9Ix44d5ddff5UuXbpUeFcJIYT8FTbdCSEkCMAwjYqKkquvvlr34TWFYYpwGqaEELJ9aJwSQkgQsG77Qw45RI455hg59dRTdZ/d+YQQUjXs1ieEkCCzZcsWad26NQ1TQgipBjROCSEkiHhVLLvzCSFkx7AZTwghQcQMUhqmhBBSPWicEkJIkKFhSggh1YfGKSGEEEIICRlonBJCSDOhpKSEn0UlhDR5aJwSQuoE1u3Epzm3ZxThM504jr/VAfHU1cjCvRBHXcBz4RdIXdO3vXjrCtITHR293SEEOF6T99DQ1DVfCSHNBxqnhJA6gYXm8e347RlFWD4Jx6u7jBLiqcrIqg64F+IwYJDV1CDEc+EXSE3SV9l9txdvbTFjLi8vT6666ipZuHCh7gcaeUhvTd5DQ1Mf750Q0jygcUoIqRPfffedvPTSS5Kenq77ZhTZXxhLzz77rCxYsED3t+cZs/AVK1bIE0888Zf4qoOd+/3338vTTz+t2wAGWU0Nws8++0x+/vln3Ua8FndOTo68/fbbunYpqCp9ld33tddek48++ki3a/Js28Pi+PLLL+W9996TDh066L5hx5HeF154QRYvXqz79XHv+sDSkZaWJg888ICsXLlS90MlfYSQhofGKSGkTlxzzTVy5plnyh133KH78BbCsIAHDN3IZ511lpx//vny8ccfVxy3cwD+evdhzN52222ydetW3Q88btd7sXMsHIbaM888o9vg+eeflyuuuKJ8z3++xWdYmMXx8ssvy3nnnafb3vBvvvlGzj777IrrvWmxNFjYf/7zn4r72vkIg+ELcJ7F7Y3PtoF3H3+9x4DtP/7443LYYYdJamqqdo+bB9LSAqMY6bb35I0nME67BmDb9nGe9xiwMIsj8BzvMRB4rm2vX79e7rnnHlm3bp3u23kWl3cbVLZPCGke0DglhNQJdFtPnDhRfvzxRzUs4Cm08Z6ffvqpZGRkyLhx47YZAwqPohlP+It9624+8MAD1cvXp08f3bfjdr73XMPOMS/lP/7xD5k5c2bFPf/44w/59ddfdduMGFxj2/iLfW8YDLmNGzfK/PnzNW4Lh9f0hBNOkHbt2qlx5PWMWtrMaFqyZEnFfS3uSZMmyVNPPaVhuNbSjr/Au43zvfv4a9vA7r969WrN++OPP17DcQ3A9TiOv5MnT5Zjjz1WZs2aJRs2bNBzEI6fN05g1wNs2z7Os+sMC7M4bN/wHsN12zt3yJAh2iDZbbfddN+bNyAwXuDdtzgJIU2fbSWdEEJqSHZ2thx00EGSlJQk77//voaZoQAv4cknnyzt27eXgoICDYNBAaN1r732kn79+smIESPk22+/1WPgl19+kaFDh2o3L0BcDz/8sAwePFgGDBgge+yxh/z+++96DGDIwA033CC33nqrxMfHyxdffCFvvPGGnHLKKTqG8cEHH5R///vf6pHt27ev3Hnnndrlf9JJJ2ncMPDw9/bbb5cLLrigwthE+pBWeGEBwtGlj67+ww8/XMOysrLUK7zTTjupMY1nRboD74vnvPrqq/U+OP9f//qXXg9jDN/ch5f2iCOOkC5dumgazKjG+b/99pvsvvvu0r9/f+nRo4f06tVLbrnlFj1uRjCeF59HHT9+fIUBCMyIRBwwSh977DGJi4vT+wHEf/PNN8tll12m+xbf3/72N80PsGbNGjnyyCP1GXr27Kn5bXjzPjExUYcV4JngSR80aJCm1etRx/2Qn3jneJfdu3fXfMP7wDCOPffcUw168MEHH2he4Njw4cP1PDQMgMX16KOPar7g161bNz0PRjgIxqQzQkgD4ZQXIYTUGmew+F566SWfMxR8Q4YMKQ/1+ebPn+9zxpZv6dKlvoMPPtj397//XcOd8eI78cQTfc5Q8v3xxx8+Zxz5nBHjW7dunR6fNGmSzxmCvvXr1+v+bbfd5ktNTfU5Y8XnDFffhRde6Gvbtq1vxYoVevyRRx6BBeZzBpXvtdde8zljyucMQ9+ECRP0uDN69H6jR4/2TZ061bd27VrftGnTfMnJyb7Zs2frOZmZmZoGZ7TpflFRkf695JJLfOPGjdNt8NRTT/mc4Vy+5/NNnDjRN2rUKI3vu+++03Pt/IyMjIr7/vDDDz5npGq4M+R9N954o24jbc5g9vXu3VvT/s033/icAepzhqEeRxwDBw70XXXVVb558+bptc4A02cAzkjTv7vuuqvvvvvu021n2Opf4Aw0/XvRRRf5nOGs285Y9DkjsOIY7uuMRJ8zvHXfGYe+hIQE35QpU3Qfz+OMRA1/5513fM4I9H344Yd6zBnZmvenn3667/XXX9f3+fjjj/uccepzxrDv888/93Xq1MnnGil6PsoCysT999/vmzlzpubd/vvv78vPz/ctW7ZMj7mGh57rDFGN+5hjjvFNnz7dd8899/jatWtX8c6Qlg4dOvg++ugj32effaZlxBntFc9veUMIaXrQc0oIqRPwYMErCk8lvGbmaXzyySe1i9YZXjqT3DySLVu2VE+fMzLVswdvH8ammqcUXj944WJjY8UZiXouPH7wLO68887qLYMH0SYV4Vp49TApC93t8D4iXsQBUlJS1EuHsZjwujpjST2R8MQ+99xzes67776r90O3N8AzAXgA586dK86o0n3cc++999ZtZ3DqJC9nlGl8zhhWLx88jfCutmrVStOF+yIf4LUF8O7iXgDPirRiIhC8rvvss4/+xYQuAA8xzoGnFN7ZSy+9VPOvTZs2ehzp/OmnnzTvnCFcEWbgWuQPzjnnnHM07IwzzhBnCOqwBwCvN2bxm1fyv//9rwwbNkzfCzzhy5cv13eLdzx27FgZOXKkvPjii3qu5T08sfBEw7vpDHqdeAVPLt498t68oc7IlK5du+o4ZXhP4RmFJxd5AvDOzOsL7yjiw1jZXXbZRT20eG5nnOrxr7/+WssExtliKMjRRx+tZQw/86wSQpomNE4JIXUCxgSMTxgOY8aMUWMyPz9fPv/8czXuAoHxgG5tdMEed9xxaqTCCIWBZMC4QNc4jK7NmzfLwIEDNbywsFDPw4x0GI0AXeAwgADiATD4EIcBIwo/YOfAkIWBCWDowOiCcYTuYDOkR40apXHDSMvNzVWjEYYawKxyPDu6phE37ok8wLVmjOFedl/rZsZ5+AGkMSEhQQ1Yw2uswaCFkYVhEOB///uf/sU51vWPiV8w4pAO3MOMO7sfVlPADH2cB+P2rrvu0jyF0QfMeDbjFBO+YJgCNDbwDi666CJ9V4cccogOEYCBD5B+dKkDG7YxY8YMNdYPPfRQOeaYYzSP7flsXCnG3QI8jzUiAt8Z0g8DF4a8PQvyCuUCoKyhEbB27VrZtGmTPieGjwDLX0JI04TGKSGk3oBXDkYpPH0wLA4++GANh8FkBgYMPIxDhLcQ3rtp06ap8WLGloHz4fWEBxITfgCMMhh8mPwDjx2A8WYGp9fADfSc4Vpg58BLinixigAMXZuZj+vws/Rg7Cme6dVXX1VDDONhQefOnTWNmLyFOHENtmFAw7MLEGb3NYM3kECjzGu8Ykwr7oHxq6NHj9bJVdgGMNJgMGMsKcaIBmLPD68m0o0xoEgn0g0P8ldffVWRb/B2Ih6M14WhZ40KpB3jTOHxhJcYXkt4hrEyAMB7NePbntPG4OLcOXPmyFFHHSUYlwzwPMifG2+8URsnGMOLyWuGpRlg28qM5Z03n3AtZvjDYwyvNcarWj6YgU4IaZpQggkhdcIMCLDffvuptw8TmLzLMHkNLhgz8IDB6MSs8fvuu0+NTfOIARgmMJxw3r777qvGEwwdnH/vvfeqAWXd2IjXjBa7B/a96UJXMrqyEceqVavU8MQEGnj2MCEJnkCsKADMQDKDCMdhaKFbGV3jSBPih4GHZ4AxBoMNnlQY5TAELS54M+2+tn4nrvUaWUinpRvgmBnG8MDCc3j55ZfrTHxMPMJwBDsfnkcYqHgOYEYZjmMbqw3AEwqDFstz3X///TrRCasFwONoQzAQJ4x9dLPDIwnjEhxwwAFqBN59991qyKOLH5OgYKwCpN37LABh8GzDEIXHGV5fM1wxTAF5jQlYGAaA/EIeATNG7dnwF3F7DVbv/eChRcMB7+Tcc8/VPMK7Ad5rCCFNDxqnhJA60aJFiwrjIzk5WcdNwjtnM9phKKDr1gwHGBSnnXaajnVE9zGMJBhGgUaOAcMK3ckYVwiDEDPC33rrLTU4AbrAsVIAMKME6bEwgC5pdPli7OIjjzxSYQjDqIMRhXGk8CrC+LE47C+6otFNDWMP6QAwnBAHxqqiO9vGnMLwhofVCLwvQD5YfuEeyDOvYY7nQRjAveF1hHGIrvC///3v6kG11Q0w3nX//ffXtHsNOTPwpkyZIh07dtSxujiOHzyXyG94Gt955x09D/eD8YsPIGAcJ4CBjOWycA4MTDwDlgxD/lv3uTef7f3BI47xv/DUYgwunsG81TB8sawXjGQ8D4xUDCmAEW7v0RoFuMb7DgHSaXEhz5EWjBtG+uChRX6bl9bygBDS9IhwAkwJJoTUGow3hcFgRgOMGvxs3CSAAQfjziYCAXjkYNBggg+OwyhBHBijCMMVXjoMDcA5uBYeQnhTcT7OheqCMQaDEEal936VhWEfhguMQ9wHcWJIATywU6dO1a54izMQPI95fA3vuZmZmbqNtAXivS+MOW9eIA7sY9uMMjwj7gXDDMtPzZs3T4cVWD5gLKctiYVJRW+++aZOVMJ9LA6jsnw3cD6OmwGItMBwxbm4xsLwXPgLIz7wGSvLZ4BnwPuCZxnHkXY8O4xHhOGjCIgT4TAyMZnp+uuv1zJhk6Iqy3OUNewj3RgjDM8rPNtg0aJFajyjcYCGguUXIaTpQeOUEBIUzLAJBOH4meHgNSIwyxsTdjARybx6OA68BpP3+uoQmBbbx8x4DBHAhKiqjJnA6w1cg3A7Fpi27V23I8zQhIf44osvVm+zDU3ARwHQXY6hEPBM2tqywSLwGQPfRyDefMTzA4TheR566CEdloHhApg8hmfB5Kz/+7//0+EQ3mu3h+UpGhVYhQAGKeLG5Cis1IC4YAjXNu8JIY0PjVNCSJ2ozAiojmEQqHpwPpYxwvhMLDWErmNvPHZ+XQwObxwwhLBIPrq3MTlnR2mu6viO0rajawOPeeODdxeeU3gi27ZtqwY1JilVFaeX6p4HdpROUN17gsrOxaQrDEuA9xPjfuH5tHcNvNcEpsd7DlaEwAoDGMcKYx6eVKzAYB7p6qSTEBKa0DglhJAmhhlfzcUIq6/nsOqMhikhTRsap4SQkMHGJ2KCUEMYGBjXiG7kHXUlNybID+QLQJ6gC7spG1/2jkFdngdVF+KxuPAOERchpOlD45QQQoKIGVEwnpqyUUkIIQ0FjVNCCCGEEBIyhG5fFiGENGGs3Y/Z6JjQZF+5oj+AEEKqhsYpIYQEARsnisXmsW6rfcse41wJIYRsHxqnhBASRGzCjhmrhBBCqobGKSGEBBGbBMXJUIQQUj1onBJCSBCxMaYca0oIIdWDxikhhBBCCAkZaJwSQgghhJCQgcYpIYQQQggJGWicEkIIIYSQkIHGKSGEEEIICRlonBJCCCGEkJCBxikhhBBCCAkZaJwSQgghhJCQgcYpIYQQQggJGWicEkIIIYSQkIHGKSGEEEIICRlonBJCCCGEkJCBxikhhBBCCAkZaJwSQgghhJCQgcYpIYQEAZ/Pp3/Lysr0r+3bX0IIIZVD45QQQoJARESE/o2M9KtZ27e/hBBCKofGKSGE1CPmGc3JyZHZs2fLwoULdX/lypUyY8YM2bRpk+7Tg0oIIZUT4RQkNSQhhNQTUKnwjmZnZ8uee+4pM2fOlOjoaCkpKZHU1FT5/vvvZfDgwdrdb15VQgghf0LNSAgh9QgM09LSUmnRooVce+215aF+zjvvPDVMcZyGKSGEVA49p4QQEiRghI4bN06mT58ubdu2ld9++026d+9e4V0lhBDyV9h0J4SQIADDNCoqSq666irdP+ecc9QwRTgNU0II2T40TgkhJAhYt/2hhx4qhx9+uJx66qm6z+58QgipGnbrE0JIkNmwYYO0b9+ehikhhFQDGqeEEBJEvCqW3fmEELJj2IwnhJAgYgYpDVNCCKkeNE4JISTI0DAlhJDqQ+OUEEIIIYSEDDROCSGEEEJIyEDjlBBCCCGEhAw0TgkhpJ7Bd/PxCxWw8D8XZiGENBW4lBQhJGyAkRZoNEZHR+uEJftyUzDXIoW6LSkpKd/zT5TCV6QaesIU0sFJWoSQUIXGKSGE1BNm9P3xxx9q7A4YMKBahmAwjUWkY+bMmdK3b19JSUmhYUoICXlonBJCmj3wlsIj+uijj8rkyZMrvJV5eXly7733qhGJz4xeccUVcsghh6hBh/NxjnlasR1o1AUew3WI++yzz5acnBx56623tvHIwmi9/fbb9bqioiJp0aKF3HTTTdKvX79tjEZs276FGZUds+cz7ByEZWdny+DBg+W5556TAw44QO8L721MTIx6jUHgPQghpDHhmFNCSLMHhhp45513ZNasWdKnTx/p3LmzdOvWTeLi4tS469ixo3oWgRl+ZvSZ4Wfx4G/gMewbSUlJangadt3q1avltddek549e8puu+0ma9askV122UXThPvBkEU82Ea8lgYD8XiPGZYGA8fsOP7iucwQhdE8ZswYmTZtmh6ztBFCSKhA45QQEjbAiDvllFPk/vvvl4ceekieeeYZ9ZomJCTICy+8ILvvvrueV1hYqN/Dx/krVqyQxYsXV3hAAf7i2KpVq2Tu3LmSmZm5jYEIg9JrVBrwVrZu3VpuvPFGufrqq+Wrr77S/bfffluPw1BEPJs2bZI5c+boX+ybAYn7rl27Vo/hL0BaV65cKcXFxboPkPYtW7boNq71pn3BggV6bOHChbJ8+XLJzc3VcEIICRVonBJCwgYYjAUFBbrt9Rqi6xtG6hdffKH7P/74oxx55JFy4YUXysEHHyyjR4/WrnqbzLR582Y57bTTZMKECXoc3eaTJk3SLv2qwP0Qh90XwGCF9xbAu/nvf/9bhg0bJkcddZSOE33kkUcqDMsHHnhARowYIccee6zsv//+amTCcEb6li1bpueAs846S4cLAPPGxsbGytatW+Xyyy9Xoxdx4R5LlizR8yozpgkhpDGgcUoICRvQ1Y5u9eOOO04OO+wwNTBh4MFwg/fUur6Tk5NlxowZamz+9ttv8ssvv8iXX34pb7zxhh5fv369DBw4UCcawXsKw/W6667TY1UBIxNjPj/55BP54Ycf5Nprr9V7n3zyyXr866+/locfflimTJkiS5cu1fGxjz/+uCxatEi9oxgf++mnn6pB+vnnn0vbtm3V+LQVB4zA8aTwvsIoh5f2vffeky5duuh9MJxg+PDhep7X80sIIY0JtREhJGxA1ze8kYcffrh6PPfee2+Jj49XryG8mebRxHldu3aVO+64Q41WGKLwjsIQBTvttJN6JmfPnq2TrDCWFEagd5moyjAj8V//+pecfvrp8uCDD6oHE2kC7777riQmJso333wj9913n/z888+Snp4uH3/8sfTo0UPHqt59993aNd+9e3e9xtLupSovKMbDwnDFcwOvUUsIIaEAjVNCSNiQn58v48ePV4/pBRdcoN3f8JJ6x2QC6wb3hsGwtG57jEMdOXKkej7hWcUYUPNUVgXug/vB+4mZ++eff75ceeWVFUMNYBRnZWWp5xSGKTyp++yzj3blgzfffFPat2+vhjU8v/DCgkADE57TQIPVsGEFZkizO58QEmrQOCWEhA0wIG0CEAxFr6fTlpcC+Atj1Gv0YdsMOUykgvH6008/ySuvvKIeVsRl5+PayrrJcRz3sXhg3GJiE4xVgGEHo0aN0uEDWFnAfvvtt59OfEJ3/LPPPivz5s1TLy6MVXhUcQzLYhmYoAUD1fA+m6UNHlrbJ4SQUIJaiRASNmDik3kbYaiatxOeRBh0NuMdhib2vd5HXAsjEPTu3VuNyhdffFHHhF588cV6jRmdMIArmwVv8RpY0gqTkjDpCWACFiZjnXHGGWqgovv/pJNO0glMGB86ceJEvSd+6O6HYdqmTRtdFguz/z/44AM588wzt5mcZc9mhnirVq2kU6dOuloB7mETqbbnaSWEkIaGxikhpNljXkMsFYXxosDCAIzUvfbaS9q1a6f7mDiE8ahe7yPWJe3fv79uozv+nHPOkccee0wNwUsvvVRn7lucQ4cOrZhohDALR7xYCN9m5wNci32seYr4ER8maWHWPsaaHnjggdqVD48qVhB4+umndVIXxqvuueeeGgcmOWFs7D/+8Q8ZN26c3HnnnRVjUu3ZMHkKwOOLiVVYcQAL88ODTAghoQS/EEUIISEC1LHXaN4RNT2fEBJapKWl6cRKNGbRC9LcqO3z0XNKCAkb4CXc3gQgHLO2Ov4GehQDr8V+4M/AeZXdp7J4vWEwNHGdN87t3RPhZph6r7HtwOvs2QCOoZs/MJwQ8icY142eDFulIxhABkOJ+fPn64RMfEmuMmBsVpUnuA7XIx5Q2+ejcUoICRswDnN7E4ACJ0TZmE0j8FrsB/4Mm3QUSGXxBobhOm+c27unN9x7jW0HXmfPBnAM3f2B4YQQPxh/jiXiMEYbf208em1BHFjVI9BYw5AdrMgRKl7TDh06aMMVH+yoDBtLDyO1MsMT1+F6xANq+3x/1Z6EEEIIIWEMlnQDmLQII8z2awOuxzjy2noRG5KWLVvqGPjKjE/sIxwGOyaIYmm+QOA5xfWIpy7QOCWEEEII8bBx40ZJTU3V5d3ww344gEmgeG4sTecdGgRgjMIoNS9ooHcV3mWsIoLrvZNJa0PU7Y7ybUIIIYSQsAZGFj4fjC+y4Ytq2F+3bp0aZVjtojKw3NvcuXP108LLly/XbnysoAFPIz5zjA9t4IfPEOM4PItYaxjHp0+fXrGPsZqIA8u9YdiNF6QD58I7aSuLwCOL83Ed4kU68PU3W8cY2D3wLHgOTFDKyMjQLnfv8B8DYVgqD0amN54NGzaocYov2sFYR/osHQBx4rqOHTuqdxUEPh/AeFWkAflpy+Qhv7GNNCLf6DklhBBCCCln/fr1+te6ps1QrGwcJrq6YXzCMIVBhlnp+MHww5rKWMINS8shLvxsmTl8Ka4yMFYT6ylbGrxgaAGO2XhOGKk28Qjx4od0IqyyCU0LFy7UNGIMKL5wF2j8GuiWx5h0r7fYuvRhYOI4DFd4Sb1jcTEeFddhybzqACMVxvWgQYOkX79++my///67pp3GKSGEEEKIw4wwb9e0dXUjPHAcJjyFMNKGDBkiAwcOVG8gftju2rWrGnMw1mAI4odtHIeBVxkpKSnbvZcNNcA5BtZtxueN4cHED/cFlRnSMJRhNO8IeC4xlAHGoqUBXfzo6kfa8RxmRNtYXMs3XIfrd4R9FMTS3q1bNxk8eHDFZCwap4QQQgghDhtXad5JA/swQtF1bXgNWRht9QEMP8QVOOEI3kR4Gc04BPC+2sc1DBi9OF6Z5zTwmbZHZWmAEYrnNa+oeVdt9r53PKqlb0cEpgeeZcRLzykhhBBCSDnoaoZxZV36hhlO3q7uQG9ifWEGoNf7iW3cA0MMvMB7ifGt6Mr/7bff5Pvvv9ewuhKYBhtjah5f866ahxf3hNcTY0arAwxbi6syaJwSQgghJOyx2eYwtGDkYbF5+5nR5x1niX3r9q5PzCNq66vih23vUAMAQ3ratGk6yQmTmPDJYow7rcroqy6IA8YojE97bu/9cczrXYXx+v/tnEEKgDAMBH1HP9L//0ymMFCCPWi9dQd6UdR6G5JseaZK/VcipyGEEEI4HlvXhHMMNs3L0I5hJQXuqYW+yzzT6b6QT1FYScb33sesKbOb8zzqDs7ZUhn2+7UNb3WV/2evVZ53iJyGEEII4WiQLyqRtKpba6MqWBciiJDaylbgOGKJa39iMIp3s2rQyKptTf0jktz7AwV5NeqgnHM8FhXU1QkE77muG/f3EedfOrSRAAAAAElFTkSuQmCC)\n",
        "\n",
        "\n",
        "<div align=\"center\">\n",
        "    Imagen 1. Random Forest\n",
        "</div>\n",
        "\n",
        "\n",
        "Este algoritmo de aprendizaje automático es popular porque pertenece a los algoritmos de ensamble, este a su vez es una tecina utilizada en los múltiples modelos que ayudan a resolver un problema en especial en colaboración de la combinación de sus resultados logrando producir una eficaz y razonable solución. La principal idea del Random Forest es lograr crear múltiples arboles de decisión para así agregar los resultados obtenidos tomando el valor promedio.\n",
        "\n",
        "El uso de los subconjuntos aleatorios de los respectivos datos y los pasos para entrenar cada arbol, representan lo mas importante en el Random Forest. \n"
      ],
      "metadata": {
        "id": "pRpB6kKlaAxC"
      }
    },
    {
      "cell_type": "markdown",
      "source": [
        "#### 2.1.3. KNN (k-Nearest Neighbors)"
      ],
      "metadata": {
        "id": "q7-SXU5bQUX3"
      }
    },
    {
      "cell_type": "markdown",
      "source": [
        "Los KNN, son algoritmos clasificados simples, hace parte del aprendizaje supervisado, utilizando el reconocimiento de patrones, detección de intrusos, adquisición de información etc.. pueden superar a los clasificadores mas virales, seleccionando el valor de K, analizar los datos mas cercanos cuando se predice la respetiva solución. Tener en cuenta que es vital seleccionar un valor de K, que, al momento de acceder a los datos, podamos tener una mayor precisión en la predicción."
      ],
      "metadata": {
        "id": "EepqNvha4Ztn"
      }
    },
    {
      "cell_type": "markdown",
      "source": [
        "#### 2.1.3.1. Representación Matemática de K\n",
        "\n",
        "\n",
        "Se dice que dicha letra por ejemplo Z, es el punto que se necesita predecir, se empieza la búsqueda del punto k mas cercano, se pasa a clasificar los puntos para el voto mayor de sus vecinos K, donde cada objeto vota por su respectiva clase para el que tenga mas votos se toma como la predicción. Es importante tener en cuenta que para encontrar los puntos similares, donde se encuentren más cerca, ahí estará la distancia entre esos puntos al hacer uso de las medidas de las distancias.\n",
        "\n",
        "![image.png](data:image/png;base64,iVBORw0KGgoAAAANSUhEUgAAAisAAAGcCAYAAAAYieB4AAAAAXNSR0IArs4c6QAAAARnQU1BAACxjwv8YQUAAAAJcEhZcwAAFxEAABcRAcom8z8AAIfASURBVHhe7f13YB1HfuWL//57v7f2KDJKGnm8tjfvev28b/32ee1N3vHOrMPYMxpJTCARSGWJEoOYs3LOcaSZkSYoUTlQEsUkBjEhM4IRJEHkmxPuPe97qroBkMokSFwA5wPU7erq6u5KXXW6urr6/wchhBBCiCIjkUigq6vL2SVWhBBCCFF0SKwIIYQQoqiRWBFCCCFEUSOxIoQQQoiiRmJFCCGEEEWNxIoQQgghihqJFSGEEEIUNRIrQgghhChqJFaEEEIIUdRIrAghhBCiqJFYEUIIIURR0ydiJZfLuQMJIYQQQvQ1fSJW6urq8PDDDwdrQgghhBB9R5+Ilerqatx1113BmhBCCCFE39EnYqWmpgb33ntvsCaEEEII0XdIrAghhBCiqDljYqVQKAS2E+1CCCGEEN+GMyJWJE6EEEII0VecsZ6Vo0ePoqqqCtlsNnDpga86c9vx48cDFyGEEEKIL6YPxco9wZrvVampqcKECROwceMGt+7x21atWolJpZOwZ88et66OGCGEEEJ8GX0oVu4O1vJmqD4K+NWLv8QNN1yHSCTitpDjrcdQMaUUr7z6UuAihBBCCPHlnKGeFd9VkkjEMfXmqXjs8cfcesGEzH0P3oNZc2YgnU56N3WrCCGEEOIrOGNjVkIRUllZiQkl41G7owZbK7egfEopGvbvdtsKhbzEihBCCCG+kjMuVsjLr/4W1990LW685Xosf/O1wFUIIYQQ4us5Y2KlN4lUDGVTSnDD1GuQzvrHP18HxY56XYQQQghxVsQK0IW77l+GR5940K19rQSRRhFCCCFEQN+JlXvuC9a+iC7cec9iPPzYfaZDvl6J5PN5NxeLEEIIIcRZESuFQheWLF2Ee+8L3xg6Eb7s7PEC5XhsDyoPvIVsPtmrl4WTy5nhunpehBBCiCHDWXkMxJ6SX/7yBfz2t188t0qXyRWnPwp5s6Wx8cDzeGH1VTgWrXLb/ca0N91ihYE2mSPhIoQQQgxqztKYFSCTyTjzRQNnC0giX7BAmHNbcide3TwFz3z899iw9yGTJOGAXAYynLqf4iZtRo+KhBBCiMHOWRErvcUJT8aelhOhICmYYAG2HXwRz6/9Pp5Z9X28tLEExxLbvRdHeJyc2VImWbgUQgghxGDmrPWsfOWryOxVMdpSjVi++SY8s/q/47nVP8Szq/4Oa/Y+gi4k3HanTJzOYc9K3tz5K4QQQojBzFkTK1+JiZA8sth6+AUTKH+P59b+bzy/5h/wzKp/wAvrS3Ekutk8cbZbWzCstgx1i8SKEEIIMbgpDrFidGR245Ut1+DJ1X+N59f+HX6+5u/xszU/xtNr/g7r9jyGNFqdQHE/VC3BSsGpFyGEEEIMVopCrFBwVB56Ec+s/Vs8/ekP8bO1P8Tzq/8Wz639EZ5a+7/w60+noDG20XwyoHnbwYzrUuFPOOhWCCGEEIORohArzalavLzhOjy98r/hmVV/g6fW/Q2eWfcjPLvmb/Hsqv+Jpz76AdbsegDpwlHzTbHi9yPfZJI5IYQQQgxcikKs7Gxaidc2zMAbm6/Da5tvxHPrTax8+n38auMVeH3ztXh14y1477OH0R4/7Hdw+oS9KhxiK4QQQojBTL+LFb4hFMu2oS19EJHMYRyN1+C1LdfjyY/+Buv2PoTOzG50pHegPXkImWzWaxQ30pZzrGRNrLjnQUIIIYQYpBTNANuQaLYZb265CU998ANs2fecuVCUMIAmUKhRnDUUK+xZUd+KEEIIMZgpDrFCveEESB7RzAG8vuUqPP3h97F53xPmFqcPw3WpBIZ29agIIYQQQ4HiECvUHT4MiGWO4PXPbsDTH/wtNjewZyXjNzgP7E2hkVARQgghhgpF8hgohwJfRzYimeN4bct1ePKj72Pj/mdMlvgp9T83Z23YyeJ/hBBCCDFIKQqxkkfGJAd7TIBopgWvbr0GT6z879h44OlAoPi+FJoTNUroKoQQQojBSpGIFf75HpJ45hheo1j5+K+wad8z5uJFjBBCCCGGJhIrQgghhChqJFaEEEIIUdRIrAghhBCiqJFYEUIIIURRI7EihBBCiKJGYkUIIYQQRY3EihBCiCLGtw1fxPbKbdhWuT1Yo0/v93hzE379mxewb98et/7l0P+XH999BcaIJ+JYs2Y1Xn99ObZv32aNZtZvEGcNiRUhhBBFzOcFBb/WTx548F7c99ADzh76ONJ0BHPm3Yr5C2fh+PGjgeuXwb3C6Ua/mKZjTbjn3rsxd95sW96FqVNvxDPPPoFUOhH4EGcDiRUhhBBFDNuGLxYTDz98Px589MFgDdi3vwFXXXMV7r3/HsQT0cD1q/hqsUJRdM8992DJkkWIxf3xDh8+gBkzb0Fl1Va3Ls4OEitCCCGKmBPFStirQh557EE8/IQXK7sbdmLqtKm478H7kEgGvR75LxYh35RsNov7778f69atDVw8i5csxNp1q4I1cTaQWBFCCFHEnChWevPYYw/jqZ89hp176/E3P/oh7rjr9mCL7dGrwyQUOPl8HvF4PDAJMzEzUbdMpdInCCFC/52dnUhnUkinUzjceAivvPoy7rr7djQ3Hwt8ibOBxIoQQogihm3DiSIi5MmnHsO4iVdi5tzpGDtxDGbcOh0dnR1uG3WHNz37NjY24vHHH8cDDzyAhx56yMyDZh7Avffdi9deew2ZTCbw+Xl27dqBO+68HWPGXoEnnngEudyX+xV9j8SKEEKIIoZtQ4/g6M0TTz6KP/vz/4h3P3wHHdF23DLjFixYvACZrH9b5+SeEoqRY8eO4ejRozhy5IgtaRpxxExrayvyJz026tm/gFQqYX6asWNnPebMmYl33nkz2CbOBhIrQgghipgvFirksccewp339Dz62duwB2PHj8VTzzwVuHDvnv35+Keurg5VVVWorq62tqva7NvNVGLfvn3djWFIc0sz3n3vPbS3twUunuXLX8bs2TPdYyJxdpBYEUIIMaAIezweeeRhPPb4I84eipoNG9fj8ssvw7p1a9x6796VPXv24NZbb8U111yDG2+80cwNuP7662z9ajvWI0in04FPz7Hjx3DdDddh5aqPAxfPz3/5HO67/97P9dyIM4fEihBCiAFDb4Fw3333Wdtzd7DWM6L2pZd/g8su+zG2btvs1sN92NhFIhE3aDYajXbbadgYniw+uvJdeO7nP8M1112Nt955Exs2bcCzzz2D6TOnYeeuHYEvcTaQWBFCCDFg4KOXUFSsXLkSn3ziez0KhS5nKFhyXVk8byLj7V7jSk6lF4SPkPKFPD748AMnUK698VosXLwAtTtqAx/ibCGxIoQQYkBB4dFbfBRMUIQmn2ebcaIw+SKhErqF4ufkYxKTKt1HypsQSmVSwRrQRXEU2MWZR2JFCCGEEEWNxIoQQgghihqJFSGEEEIUNRIrQgghhChqJFaEEEIIUdRIrAghhBCiqJFYEUIIIURRI7EihBBCiKJGYkUIIYQQRY3EihBCCCGKGokVIYQQQhQ1EitCCCGEKGokVoQQQghR1EisCCGEEKKokVgRQgghRFEjsSKEEEKIokZiRQghhBBFjcSKEEIIIYoaiRUhAnwJFEIIUWxIrIghQcGVsaRZrDyxSFmZL1iR63J/ea4i652de96WNNzP7VPgmhBCiP5AYkUMEQr2l/Gig/rDilvByZSM2e0CyNv2rmCD2W3F+3Ul00kYdxQhhBBnH4kVMTRg8aIOsYVJFmRtpcC+lAIFjL8AeqBHK3cULyZcgo4YIYQQ/YTEihgasHhRe9gibSbnbL7g8/HPsVgGu4+1or65FY3pTE+pM2/0JbEihBD9h8SKGDIUCgX3yKdQYI8KxQqwuzmGO19fhb9f9gT+YsY9+PNZd+HH9z6Oxz9ci6Y4ZY2H+wohhOgfJFbEkMENo82nzPBBELDtYAt+vPAxjBpzM84pmYnfKZ2D70yag3PG3YLfGz8V1z/2AvZ1xpzfoHgKIYToByRWxJCApavLfgsci1Io4HgihwkPPI/zx96M4aULMKJiAS64eiFGVizF6PI7cOGkBRg29kZMf/5lRHN6CCSEEP2JxIoYErB05fjjixme+2Qzvls+C+dWUKAswcWT5uCicpqFGF22DBeW34bfLbkVf3L9PGzce8TvJIqcIIPdI7uTTc9CCDHwkFgRQ4aCG6dSQCxfwKSHfo7zr5yNUaV3YXjFYow20fJ7k5binGvm4bxr55hgWYQR5SZiSmfh8Xc+VTtX7LgMsh/msTPsQaMJ1wM/oRFCDCgkVsSQgKUrLGPN8TQuW/YQzh870/WijK6Yj4vL5+ASEygXXjUXoybPwfcmLsaI0kUYVjYNt/7iZWTUwBUdzE8vP8P87VmebLyfYKsGSwsx4JBYEUMCli6+okyiqSxK7ngU5427CcMmLzShMh+Xls12omVUxTx8b9JC/H7JMgwrX4wLJ9+MhcvfdHOziOKBAsSNQXJ/J4oUVmeh6REqNPxjTcM1IcRAQmJFDAlYuti48Z8N2F2vvI8RE6fiO1MWYHjFUlxcthjDJ8/HyIpFuKTsNowuux3nTF6A7107E29W17tjiOIhFCUOPubJ0zB/Q0P30G7baMyRXmiEEAMLiRUxZHBjVoKWqupYO/5i1p34JxNn4MLJd2KUiZMRUxa68SvDK27DBRVL8E/GTcU/3vkYmqL8ppDbTRQJlB40Ll8403AXx6d8SSa5TyeYsbynF4kVIQYeEitiiMBWin0rvqSxofv1uq34d9fNwflXTseokgUYWTobI8vm4cKSWbjgihvxX2YswwfVe93ePbfxohhgHjptEhojZabGROi7lTvx2pYarNq5D0cSmW4vrnOFJvAvhBg4SKyIoQGLVxe/BuQNHxvwDvuN7TX40W0P4o9KZ+K7k8xMnIl/c9V8lN37HDbuOex2Y4+MxjkUGz4Pw5mFD0QSWPbb9/BfZt6NP7p6AX5v8nz8u2sXYOxdj+OtyjrEzZ/rieHjIqdahBADCYkVMXSwNoqlyY1dcY8NfKPVYBfBm1W78OTKz/C0mRX1h3A8FXSlmFdO0R+Wz8EB4+KHm3r7wMOFnRP8GTvbIpjy8Iu4eMxUnDN+Bs4tm4/zaErnYsQVt+D/unounlq5wQ+wpvD83IcrhRDFjsSKEIOdEzQJLRRpvOJ44dt6uD00AwAnMy2sqVwWM194FaPG3YoRpQsw/Kr5uMi9ij4bF04xe+kyXDBuNv6vGxZhQ/1Bt2/QxyKEGEBIrAgxyDlRg9DmxYo3PVsGEqHcqDzQiP9n6mJcON7PPjxy8hw3wd/F5SZcpizAqIpFGE0RM+ZmzHj6VSSzYZwHZryFGKpIrAgxyPl80xy6fH7LwMFXWi+s3YbvTl6AC0oX45JyTuh3q/t8wkVlt2EEX0u/ag4uKZ2Pc8fNwv9Y+Aga25Juv4EbbyGGJhIrQgxyessSb/y1FvJFbo4vcCoe/BR/j7y/AcPLFuKCsmUmVuZgdChWSm/HCBMxF149C5eWzcc5E+biP855AA1NwVe0iztyQoiTkFgRYpDjxYg3vR+C0J4zm58J1tZ7z1MSeipafKX1q08r8XtTTJQEPSujJ88KxMoyDJ+8EMOumoPvli3AeeNvxV8vfgxHOviCMynqyAkhTkJiRYghAq8wChRe7r2batpD083nHIqLMGh1jU34z9Nvw4XjZuPi3mNWTKCcOGZlKub/4i2ku8KIFXHkhBCfQ2JFiEGNXVfsMfH/3SSyWRzv6EBzexviqUTg2gt67r1DkeGqLItXNt+Fxa+9h4smzMawifMxjG8AldPMwoVXLcRFpbfhvLGz8Z+m347Khia3r94GEmLgIbEixGCGlxUv8IK/jjqsnf7N+h2Y/NCv8cN5D+Kv59yNcXc/jcc/2ozGtK8IUMjaRdnlNM4ZxZ0gNL3oXu29/UTjaowgTseiaUx7/g2cP/Em/B8Tp2P4hPk4f9JcnDNxFkb89Cb8vzctwktba20P7mpxDOZnEUIMHCRWhBjkuG8i2fV1JJbAkl+9i39dao35lbNw7sS5OK90Hs4ZMxOXlszC1Y+8gPqj7H0o2D6cCO/M8nkJ4g3huV21ZA50Yy3gxYZ3zzNOJqjCD/0ci6fwwAdr8A93PIU/n3o3/v2Nt+EvZ96F6594AR/V7wHfAaLPgmawFWJAIrEixCCGVxUv71ZrpJe88ia+N/YGjJxwK0aWLcSoyQswsmIeRpYvwIhJczD6imtxzcPPoCmbc8IgnMr+TMFznGycoAhNr5XP2c2z0yuBc0hLLIfKxlZsOtSEXW0xdPbeyB25X7AqhBg4SKwIMZgJBMfqg0fwp1Pn49ySGbjgqiUYMXkxLqqYi4vL5phoWYQLbf2CSbPwzytm4BefbvNXXdAjc6YIjx6aEL6b5N5PCjec7NEMo5Uxa5o1h3u0kzVHhpoeemPrfOzDXphgP311WYiBh8SKEIMZa53Z1j/+4Xp8t3QGzqlYiPOvug0jKxbh0nK+1jsXo8sXmlhZasZEzNhbcM0jLyCaY8vObogz17K7I/OHAew2/jVqPoTqYp+QCZEuMylbz7l19vp0uaDlzG/KfBcoRHJdbnuK27q7XOyntzG//KURQgwsJFaEGNQUkLHWefGv3sbFk27FeSZShpko4Rszl5bNM7EyHxeXLXRzkwyvWGpi5VaMu+1pNMfTti8b+TMnVtwl31usUIvYOq94N+cLv6rce4OtFbiVwoPdKmbl1HBOh3AnahYugmPQhIf2e9PwmLQJIQYSEitCDGr85wpvf3UFLi6ZieHlCzDazMXl85xg4Twko8oXYnSFuZctwogrp2PCXT8PvjodNvNnCpMNTmn0QInEF6k5dRuFCB/ZJOyntSuHaBfrCdtmS67Hzc4OIPql3R3pxMO51ROdGJ8zGSchxJlAYkUUESc3ImHDosbl1PEX96+37sAfVMzGiEmzTazMM3EyHyM4w+vkRRg+eQFGTTa3srm4aMw0zPn1CsRcknPfb5f29H2SXvhSvJDoQqIriz3tLdjd0e6Eyq7jrXjq01V4v3G/O+CaQ4dw64YVeO+QrRsrDx7AzM9W4OPmw67DZfX+Bjy4fS2qO447/y2JGBrj7SZqOI6lV/hpDY2rcczSvR4snb23o6d77URnIcRZQmJFnGVY2PwE7+Fdr280zL2QDUoBoY15TzeORugpI+JbwFd1jV2dCfzdkkdw/tipuNDEyTATKiNNqIwup2iZj/OunodzS27GX95yB9bva/YpHYzzoN2vm3FOzDv/F2502y27uvIFExyWY3yEQ8NtZrplj+3Skcnh4yMH8fHhA0ibY1VrC6Z88FvcW7sRcVvfe6QVT6xbhTWHG7gH9piIWb6/Djs729xBdre34VeHalEbsXU75/sH9mDJphXYdvSIO9fztdtQ/uErWN90zEW/tq0Fmzqa0cmKzgWC+FExDA/9MHy0u2dIdlD/uMns3G4urpeHO7uBut0HEUKcJSRWxNklbL2C+p4LmrDxY1Gk8ZvDrb0aTPHtKFjDayKQj1ferduHv7xxCYZffiOGT5yN4exdMbFyYeksfGfsjfjnFTPx3Edbgk8E8orsbqJ70p4ttxkvV9jgu2bdOTuLmVzQwDtsRz6+WXFkH16u3or2dA77rNK5a+savLSjChFuz3Rhd2uHmyslZ5nP3hWTIX5uFNvOw9LN1QTBsV0YGShzpJ1+7TRO8x6OJfBZ01G0xJKImvtzeysxd9272GbiJmZiqrLxGHa1dyLbPfW+Fy58s4iPlCilu0shT2aLQLfYuXrqKiHE2UNiRZxVmMter9DG6p8tTLghLAv863F2P6GD+JZQrCQt6byo+KS2AeMXP4J/WzEHF02YhtFm/rDsVjeT7S9Xb0GKniydKXDylDjsXbH1bgHZKy/8Mf2YmNDZWewYR1JJbD5+BC22PJpO477Nq3Df9rU4ls6gy7Z3mFCgwMi4HQwehKrDygWPybEqYZbT3ru4eENH/2aQ2+hObqd2hcvbaeFfR1cWTbE44nbOo1bZ3b9lPeat+QiHYilE8104kowgXshYWPjGkRGcw8fPaiYqIKeE/JgaBlUIcXaRWBFnFd61+iYmaBE+BxsFNkBm/SIjviVMT7uGgkc6pDGWxvs1DXh21WY8+dFGu952YmdH0vdWEKsQ3Ay23C/YjVWEyy0egpbQdG+A68VIWqOeMben67fh5vVvYWu0zT1miSVzTpxQY7gT8bKm3cRF3s5F0UJ55ESsey5jxjyzvOS5E/1zndvt+F0Wn6w5sixxPz4sZFB8cExm2DG6TIhwm4MLM3yJ6FgmgwPt7S6sm+NR3LryHfxi22bE2SXUC66l7AwZO4p7/GNi5wQtJIQ4a0isiLMLK30ag7/N6Rx2tbRjR3O73eH2GrPCBsrdzdLF3yGf2JSIb4RPPrdgw+9F4hfjr0MnD7r3c95tyQXzq8B84WZu68XOSDse2bwKK/buclqjIRrFjmQUCYok7hgoIT5qyfIcVgbcIYLjc7MrFcE6oXChiHF1Q45CgYLGLxkMFwbbicvufYN1Ho+PdNgTQm/ch3/eU4CttlsZ++ToYazctx8p81Pd0oLX9tZhXzLm97M/9ri4afrd3DN+VyHE2UViRZxdWOEbneku/PKTzZh471P4b7OW4T/fugT/cNcjePStj3EgmvYNhWuRmP9+bIQvpuJb4RLSN9FMSfdYw6WkGc7s6gaYmOHYFicjOLkaBYF54U5cBgtndY2+FwPHc1ns6GhD1CqQqs5m/Lp+M3a2t7r9uKvD8tCd052DPShdSJgL/5yn3iY8Z2AYBvaEuHy3dRYHig9upl9u7+4wOnk9iGJ4HN+bZw78SCM/J8DTcwPD4XbwrG1rw7xPV2BlY4N/LbqLE8/5c3N394jK+RRCnE0kVsRZ53BHFLOe/i3+cPw0nHflNPeF3GGTZuGCsTfhoitvxLh7n8X2Jg6xJGxgfPOgRuJUYKrxAvcCxLXP/se28FFP0JoHXRXcwj18k+zXu+m10pHN4pltG3DHpyvRnKSk6Mkf9yiHj/LsmLRm7ccJIB6A5whMcApngoWH7sG20Evop7e04PJE4/9Yl7jjcwCt6w3x7r4c+b4jJ4LMnY+6CpyqP2cCxtYpwppNyXSaac924cXtVfjt3l1o5chfHoJp5kIlhDibSKyIs0qHNWBzf70cl4y9DheWmEipuAPDJt+BUeVLcUnZIlxYOh8XjJmK0gd/jkY3i6rhGr6grRHfCjauvmm2xPNttWt0uWDDzBTmFea0SrDNN/jmao04x6444WJZwLZ/R0cH9sYT6LDGfXPjYeyKRn3HjG1zxzHjejDYdUFH7+CsrpqxpXML1rlKaKczCXbp2RjA1ROceFAac/VixBuG17+142SLHcvFgN7ccRlvPy7Gh5mGu7JfKe/SiscEOs3xzcYDeKZqGxpTadfL4iaiC4w7HZdmiKvD6CiE6HMkVsQZx93lBqzaeQh/cu1cXMA3USooUJbYknN+zMfF5fNx0eRFOK9sHr43cRZ+vbYq2MsaELamYWsm+gzX4AZJ67LJ0pnf2+G3eNw8/Xx1xzXCwLajzZi28j28dehgcLUWL6cVPtuZxS0YVeOGWLGD5pP9h3Hv5s9QH+lw2yl2KHxCocdHTX4eFrebEKIPkVgRZ5zeYuWB5R9j9PibMWzyPIyqWOx6Uzib6sjJC3BR2UJcbOvnT1mMCydMx8ynXkGWrSibDTtGr8OIvoLpy+ufaRvYw+nraY/ZYncqgbZ8Dns6O7Gm9ZjZebX6gbKDESfeqDucQDZj0aRbfSyCR7ZuxObDh9x2ChU3v0uQdq7/hr2AXBdC9CkSK+KswUGWs59/HReW3IoLrl6E4RWL8N0yEykVFC4UKktwSelinHPVInyndCYm3fs8IklfLlhCBmfT2L/4MSv++nNXGn/MiVC0vLynAQvXfYiaRKd3ZHZYK53vysK90jsIoTBhWeObSGmzMXXCNGGMs7Z9V6Qdz9ZuwvbOlm5t4h9GhWtCiL5EYkWcNdg7svDF93HhxNk476qFGD55ES4pm+fEykgKl/JluGTiYnxnykL8bul0THnkV0hkfLmgVHHd7KJPYZpyVAdfCaY4CZOYPQYdZv9ozyGsOnQQnSZoOBalwIGm6YKJFf9K76CE0TLDAbc5Cjkz/OCiW7dNHNXSmIzhno0f4oXtm7yAC5FWEeKMILEizji9HwP9dl0tfn/iTFxYNtsECntTFgSPgWhfjIsnLcb5FXMxYuKNuG/5Sl8q7Me9uWJ/om9xA2iDhphPMHL5AlY1HcDz2zeiPZHt1fjm0BVM2+/6U8y9V7YOKhgtNybFGfsJBqWw18S92RRs67CK83gqhdZMBttajqE912ueoIDeZV8IcepIrIizypFoClcseQTDr7wBo0sX4KLyRe7rvxyzcknZQlxkguX88VPxX6YtxPb9R4K9vFjhr+hjgpliQ9ozWTy0dRWe37HVvf3ip8WxtM+bTMnz9V4KGnOi+yDNjjBqNCx1ruSFooUJYmnmRAg9Go2pBOavfQtPVK5DzieYEKKPkVgRZ5zw7jJcflzfgP807Tacd/k0jChZ4L8CzEdBE+fgO1dOx7+4bgF+uWGbayx4R+tePbVl70ZV9A2u08CWbV0Z1Hc0oy2XRVMmgw5z48BRN2OsuzqZC+YQtuLdzfjgg9FzJY1pwyj3irYrwnmO1/FT/fOf6bQl2oIPjuxDNm0O9BOgnhUh+gaJFXHGObnC5jP/93cfxPj7n8e/vWYhRk+6FcNLZ+GfXr0Aly1+EK98VuPGTDjcPB98VEHTfxU/G23Xyc8WK6A9bQ17JImkG+wRwNdE+FjF/DqvDHK/iiymnu+X4g+Dl7RrKs2mlulp/zFb/qJuM5atfg8HMkHKmz9+f8dHwEc7jAWXPnY0g4/umPmIdkecbr6q9A8lnXjrtZ2Lo7E4fllZg52RqK+5+PjINtDu/PsjD2mYDif+haliqVSwi6lgVxoduw1/xFBHYkWcXTgwIqjyj6dzWL3zAH61egt+sWor3qs5gMaIe2m2Vx3lmwh/d99/FT3HdYTUH2jB7S+9iSvuewg/uv0hTLrveTz4xsfY1RIJfPRUwu6n175nH07vZtcXw2EqscssabN0cf4Unw1ot0B+cHAvNrQdR5z+XJKbxeWVi4X4CpyIDhrUzmwXntxShbvXr0VVwpcHbmFyuvRWcloS8M+LPW8L0iffjkTrBuSS+wN//LGtSjNhSKyIs0rBfeuHd1BBS/kFuDrdVV78MeP/+7fOsgAxXK9uqsF/nX07zi+5Hr8zaSrOKZ2Bc0tm4oIJN+AHS+7Fyl37esKZ9xVyf0oVnp9Sj/+MgHv7x31NuWBiMYs1Rw5iX4b9LN4Lk5zx5NCL/gz3QMR9y8potXx/bFc1Zq39EHsiXrDk2DPIdtd7Eb1geWNZK8Qq0brzNsSPv2FrfNeMvamsK+hLDHUkVsRZhxU2KyfmrDNWi+f5FV6r0FkOugcz0rBY9Cz6DYZ3xY4G/N+3LMQ/KZmG8yoW46LyZbh00lJ8t/R2nDtlEX5n3I34q1m3Y8vBo34nNlD2168l2BKNYeejNy+dWPnn3Vs9z+2owuLV76MhHTz6ybrUR9J+6aIr79sTitOjJlhea9iLPW0c/RMQlOOhCNPlBHqtOqGCBLKNLyJSNQEde5agK0PRb3+sC4ZqookTkFgRZ5dQpViZ450mu3+DVWd8BcWNQSUVVFS9rP3C8VQOk+5+BsPHTMWFFctwcdmd+Kcly/D7ExdjVNlCDKu4HcPKlmLEmBsx45evIObusi2CFCz9GXCmsYWF0+fzo31u0IqRtjB9dvQYato73KvITHJwDhX3xg/9mhu99mfYByq9GlhOIFff0o6jCf+dK9Z0IWyI+3Mc1tmEEq67j5HJw2iHxsgn9yKxaz4ylf+ASPVkJFvfMVcrmSqDIkBiRZxdnBCxPO02bCAt71kpubossPSqyHrov1rr04Zj+A/XLcbwCbdieMVSXFy6FJeW8pXruTjv2rm2ztl378AFE2bhrxbci10dwfgVXlz9F+xABbKZYDjy6LTArDi8D9uPHe1JYzNc+KuQaR+kP/flUnwrfFr6Yc0cA/T49i24a+NqtOR8/5bzM4SECjlZrPQY+ynEkD66HJ1V5eiqvgLxqnHobLgDhXSj9xPuJ4Y0EivirMJZULP21+WeSact11mBU7Sw0vI+WCJo9SUihBVW/1Vay6v24HtXzcGw8tm4YMpCjJg8H6Mr5mLU5HnuI4yXls7FReULcV7pPPzp1Nuw7XCT37Erd1I8zjIu2SwE/AqysS3WgRkfvoEPDu7zY2hNLDK12bvCe3/mBu105d/JuSC+AZZs/K5QOkjBHdEOvLKvDq1ZN52ew4uVoZO6rse0d2xd5H1JQ3In4jvnIVI9AamaCUjWXon26inINK+w7Xwo2X/XvSgeJFbE2YV11EltIK108s7+DoxuofG/LAe+oPYH71Tvxb+smIOLJt5qQmUBhk+Z74QKJ7K7dNJiXFpuQuaqefgdEy1/dss9qG1sdfsVchRmPhb9AVPNz6vqw3AknUFVUwviltj87k2O0sQyxHWm0JgfprIfTuxt4ttg6WUJSSHopIlThJToQHMyhT2tbcgwvdlY90pbX/YHL91ipTuStJiQL6SQOvYWEjXjEa8dj1jNRKRNrMSrxiC65z5LxAPeu4P7DOZUEl+FxIo4u4T1zUl1zhc4ncRXbz3TbD/aij+/aQmGj52BEeXLMLp8CS4tnYdLy2bjovK5+N6kZRhVtgS/M2Ea/u72J3EowhlfbUe7uCgJzii9kiZMR9805MHJy9hL0pLK4OMDh9HEcSnEPHFgsxdSZsIdT+BzDuIb4dOV6e7GCOV938Cm5uOYteJNbGw+ZklraZtPBdutIrbt/ivWgy/NGSM31JxxtkuBS/9WmtlT+xDZMw/JqsuQrDVTbWKlqtzEy+XorL0KueYP3TXknxRTdltKuUfH/sCDM8XEFyGxIsQ3gANmZz/3Ci4aMxXnlS3AhVNMnFQscl+LHjZ5sS2XYdikuRhdchPueXuVG1jpiq7t5++rzyC9amtae4xvIHhz//LuOsxb8yEaMxm/0RpJhop1vuh7usUKW2S2rbZosTR/c+9ubD1qYsXoHkhu3lwHDIUL1wcZjJEXK2ZhFF3aMMJpZI6/hfbqqxGtmYRo/RWI1k5CrHoKonVj0FI7Dh17HzJvfnwVyzJnDXIXFguuufmWgwcWgx2JFSG+IftaIrj8jkfxnTHX4XfKZuP8yYswrHwpLii7Db9TOhMXTrwB5Y8+j0PRYEpbu65YKfN+sN+qU1bqdgltbmvG+kS7F1H8to2FLKjvRR/DNA2a1J4VPhOyBGeaR6zRbcj6Txpwk5/3xhWWQZkhLP09NXyvayG1D9GddyG2/WrEqysQq/+pCZYrkaieiHjt5Yjs+DFa66cg2/aOpY+JbGo7S0CWXad83IF6Bi2LwY3EihDfBN4aG1uPtaDisZ/jX02ZjUvHT8PF46fj4pKZ+DfXz8W0X76KvZ0x549d1UFnd1CyzwI8UWgCWu3ibuiI9cybYkKlK8+RKuZJauWMwCRllRoMH/Xp7D6AyBXgWDqJ+9evxceNja6ptVbbvPCB3eDNjvAq8EO5zV5II9HyCtprS5DaPh6pylIkav8RiZofI105AZnt45Cq/gmiNZchsv92FDIHXDqGj4OcanEaRWJlqCCxIsQ3oVf3fEs6j5VVDXj8zZW47aW38eCKNVi1+yAirtuCcJyIHy0Sdn2fFXiuwHCRy+fxdPVm3FG9CVEXEG7g21jsTDc7w0Vn0bdYurr0N8Om2YsQ379AxRK3hnb5nt14e8duXz66ssgUMu5trEGbHYyYRZbvSDENcumjaNp/D1p2XIlobTk6a65D+45JaKsvQ0fNjYhW3YxI9TVoqyvH0Z1zkGhfb/v73kA3pWG3WGHqOosY5EisCPENYHXoBgiykuxFeAftYBG2Wz/2qPhhrfRPN7f1DOKvHbcITslwxXI5/La+Eh+1HvUdQxwjwcER3GgLhi+87kQf4sqJz/ZQsNC4cRt0tW38AlbErC4rbMlZmzmLs1cvgxAXL6aAj39XOoVkpBrZyKfIdWxGJrIF6dhnSMU2Ix2pQrajDtnOGqSj25GMrUc2s9P2z9iuTDGOu/IJ7AXgIE0zcQISK0J8A1xd64QK7+qs0gwqS1dsOebA7o4L1tiw0XEl2bnT0r04gzAgPfCJA+9f2SDyoRSDXTDHPMUKe9AtuNwj+MSh2URf4htQJrr9m+Eaq1gvXq18OEFbQCyTxfL6emyLRrnFPFnGnCSGBw0uXhQbhksM++FKaAKClDsJ7sA5mdgfyDSyHejJLbwEFIMfiRUhvgksnq7V52R2nNbO7vHoxkrTXUC+4afNleSg1vVefNk+Y7DytnP4P3/FrGvch3d21CDlA2Dh4qgIW6HdFq43yM0gzICKvsLnBNPUbH6lh6CRdb0o9hfPZXHf1rV4fEclMtyFYtd2OGE3t+Jdut0GIi7wvqFxiYCIuaWcC+UG305jNP3QHqYCe084D4s58N+lG/f16+4QtpRYGTpIrAgx0HGXDhtAq7bNnsjm8MDmj/GL+u1eUInigflhhm0t2Z9LYHus1T2hY1XnXmE2a9isO4/+GV53HTk48HES4psisSLEgIbXjR8L4No0u1w4XceeWATHcm5+WlFksCfA1WpBex2xDNsTjyAeKpVg4QjWQ6sQQxWJFSEGNLxusuB3aPjIJ5LtQnWkHYmgm1xXT7FBqeLfxnI1ntW9R1JJzN+8Ah+2HHY+bPMJAiWwCjGkkVgRYkBjVw5nArXrh70o7x3Yh7kbVqAplfbPEtzzBVE8+PEq/HMyxBZpW7ywuwofHdjva0H+uG4yPyLDZWPoLsQQRWJFiAENG7+sG7TJMYkf7duPFw7tct+acW+XBF9bFsUD67qCG6yddwNKWcWlswUkKVz8qhcrtp1/3b0wvooUYkgisSLEAIZXjbt2eA2b4avKNK6t47WjnpWigvnlajoTJuw14UvLmcCxqqUZnx47wvdk3EDpULAwB90+7keIoYnEihADGF41vHyz1rqtPXoAtR0t3sE1hv7KEsWDmxyOmWbZwjovE/Su0On9/Xtw96oPcTAbDIt2KoW56F7ulVgRQxqJFSEGOnbpHM6kMXft2/j46D7XEHLODl7W/tIWxUKgI3uEB1/dooOtN6dTWHPkII51cS4fEyjBBw6DqdCCHYUYmkisCDGQ4aMCuzVvzuWw8vgRa/D8VOSUKu4pQtgoigEBP8uXsIzLW34WOCuyZaDTnsxHZaYYwkisCDHA4eXbZoaDM8PnDPxYYfi4QQwcjrYm8Iut23AolnR5R5FCAeMG5LqcFmJoIrEixADnYDqOJ2vWY1ek3bdnplJ4PTmx4i8rMUBojKRw86p38WHTEe9g+ZeyHzfMlo+MhBiiSKwIMcDZcuQoFnz4GvbEO91VxCuG866412LVvg0osoU8qiItOJ7w380pmOIsdFkmukd7QgxdJFaEGMjYZdMZz6C+vQ1xXkfBq668atw7JBrnMLAopK1C7EI0nfWvMFOoZP0H/fTpBDGUkVgRYgDiv0ZrDZgt2nP+bZEc5Qk/vc/r2do49yiIFjFgYE3YFO3Eg9s2YGtnu3cs+K98KyvFUEZiRQwRfPkKF4OFvYkobq/chAMRTi/GxwUULHZNMZ7us/v+4hYDA2rQSLILd1RVYvXRY97NpEqWClRiRQxhJFbEAMJ/BC6wuhLDNVdy+MOGmT0LX4pty1l5ynHuCt8BwQOwgQim3SpKGEcfPh9YlwLuB9jSfhQL13+M3Uk3wb65+0cGLjYcYWuqJdgz2IWxZuy9u/NXpDC87uEHBZgLrP0U2GzblmIO+Olg5ZcDapss73o+RplDhnnmFKgQQxOJFTGA8A82HGy3AhfffNPBN8d81bO+uQ3vV+/Am1tqsHbXIRyKu3tTv1POH8Wts90zt+CoRYnvKWHA/Zy07orgAAaLaMwatwOpJBLczsaM3wOySLrvyVC8cWIx2u3XpxJ/e9xoihUfPs4bY+G1YLem0zgQazM3Zpr3M9jgYzw+8smku3A8lkA+bfmU5WBpW0qsiCGMxIoYQLCBDWRFd73Nxpdu3uFQJI6731yBv5i1FL9/1Sz8weTZ+PdXLcRPlz2F32ytc9/NITySG4pKJWC7FnUzwCi6API6YWNm4ea/XRrHrQFPnRT4MEWcrWCqhq+8srEzF+81tJ20Y5HhQ8fr3w8tfevwYTxeW+PfchqsUJDY/7ZDjVi88l00mhBlNnJsEvNViKGKxIoYULCU+JJisDeBjXFQRvZGEpjyyPP47rjrcO7EGfgnFQvxnYpFuLB0HoaNuQX/8qpb8eiK9Ui6A7DxTlu5s325XsQtAYPnLlFaCpybNueul0aL+72bVmOVNWxbj7Xi12s244l3V+OFVVux7UAzcmGc3JTuXDlJsLDHIuiNKkYYTtYM7kVsW1m0vRLjPlqF5gxTw8di0MFHXrao7+jAHVvXoDbp5TVLONNAiKGKxIoYULCUdDdVbowKxUoBya4C5vzmLYyccDNGT5qDkeVLMaxiGYZPXoIRk+dj5OQ5OH/CNPzxlNn4oGoP9zY4z6uf0ty1iUUKrw0XS0ba9ZL4noYjJjTmrPwEY5/9Df7D9KX4Xvk0XFwyHX9QMgd/cd1S3PnbD9EY5UMxIxAsPEZP+hWxWLEA+rAyfF04ls2i/KPV+F9vvIvPIlHvZxDCx16Uouw1a+/KI+OibwmRZ175ilqIoYjEihhwsES4JpYVuOsxALYfOoY/m7YU35k4C6PLF+O7pUtwqZlLyhZidMVsEyuzMbxiIYaPm4obnvkVomwAXJnjnawtffErTlxvSjCw1oWVDRfQ1JpByQMv4sKSmTivdBbOnTwP51YsxvnlS3DBhLkYNelWVDz2G+zvTLk9/X7+QZo/Vo+tGOGYm/Cx39r2Dtz4yQbcsHELnt+zu4hDfTr43j73CrplVVM8haZkEjn3qNIEKh2FGKJIrIiBhRUTlggaP9eIb25f2VCJf1Z2Ky4sm4fRkxfgovJ5uLhivlteVM7lQlxcuhQXTJqB/7n0fuyLhG/PsIEIS18xwjjyXrsnjAwx+1aeem8jvnfNQgwrXWBizITYlAUYbvEcYWJlZMVSnFs+BxeVTMODb33qvxvEvUzgMb14yfd+KFRsuJC5Bjrr8vr5hgO4f3s9fn34MJZu2uS+hTQoCYQo+8MerdmCF2u2OTtzn71MxZlbQpx5JFbEGcY1O4Ehvdd7u39DzHu3WOFgRGt5af/Zxxvxh6WzMLJ8EUaZSBk5eS5GmBnJR0DWeI8uW4bvTrod506YgT9fcDfqWzt5NNuZUoXDVr9JOL7ID93Y/HN5sukLeBzfTPEshC47OyP42yd+jpH3PoXh11CczMUoi+/FJs6+W7oQ3zXRMmryPFw4bjp+tOhxHIgkbS+LZSHjjhOGuL8Jw+LjF6Qb/2nyJrGs8W6zfL5twxa8eeAIqqMRzFyzBnVWcTkCvyEUYP7PbToNuHeQSicdKDz+F6fiyevfDvfBQivQFKM/P7ALr++oc0/qWNTT3ectVhg6M/6/V+r4XyFOB4kV0acwF/1de7jGKstXW593CwydQvM18Ch8G4Z/4FTkVjy42/LPqvCHFbNxXtkia7gX4aKyBbikbD5Gl893Y1aGTVmIYeV3YNjYW/GjhQ9a4x00dl12RDuAvwS+ijC8Ru/wchyB3f2Hc8j6O2MejSW6jxoXJpEdyF8jPqSf7D2AP110Dy697TGMmsLeo3km0ha6uI8yM9rsF1XMwwWT5uKPr7sNG/cetr0YSpdyPioucH0SwlPDIuXGZ7jABGkb0itYdZZXt37wIeqjUXRans/dsAnv7tsdbD0Zfxz+ulyxlt6/9v3NoXc/mZ4JPKcU6MgtPk/5S6e8668K6idu535u/dud7wQYXh7d/hMW1zYXfnO2QHW/CVeE+BLPnjuzWdi5ztTxIT7NNBHCkFgRfQpzkcXJN9O+Sg9tdOeS672Nt9gWmq8lbHDtaByv4ssu6o634S+mLcb546fi4oo5weMfby7h4xBzO3/yAgwbcxNmPP8KIuGpXMvkF19F2Ei5oAaGp2bppOGdsDtksDH041e87ZQJD+ZaLR/hj+v34k8mz8LFJXNMlC3GxaVLTKAtPdGU87HXAvyrq+Zj7c59bj+mGw9zQmD7Ad/08js4WSQzOexvjaAhEkddMo6tqQiq4+3YFelAfbwTt++sws2ffoJOy2/G/pm6Oixc8zE2RzuwLR7Brs4O7OhsR1WsEztiSeyyYzXHYpYnvsfM59q3wCULE4iPoWzF7c5cTprVSoFtcl7cNtq4LXD0P6eOZY47pJlIPI0dFj++tuwPfZrHPoP4ZGJ6WQ7ZSsGlFf+Yjq6wCXFaSKyIPqZ3BUXja1rmrqvQnMWv9/JhsJJjk+/XvpBgXzZAbhAi93EtL5CxA9/55oe4tOQmjCyZjhGTF+GCKcswbPJt1nAvwXfL5uO8CdfjP06dh1V7DrnzdjdkfuUr4WYa5z8w3I0h5h1kt1gxGEf6dets2YJBwKdKeEb3E8R36+Fm/OXsuzBsyjwMn7zQ4rsQI02MjZo83xmOYWEanD9pFv7TzUtRc6TF7edC5Y7Df6bA6YXtVGE6cjQKg3I0lsM9n1Xjr994FT9Z+R5u2rAG00yM3LLqA9yw6n2UfPgmfr076EmxHaqaW3DdhytQvvojTFv9DuZ99A5mr16JUjPff+MNXLPiE1Q3NjrvjJ0TFaeITyqGlo2vb4D92zkRv3Tlhr10bKiDHU4DF16XN8CHhw9g3taP0RGEv39y6htiQWQ6u8kIWa4yu9AV2Wbpw+9/n3ayCCGxIvqasGoy425BWfP2Mixs7Cq2iq2XT4MlgHnt174QbuIhbeEfH/A4PJ7f52g6j5kvvI3fn3ALzh03E79bugjnlC7BhRMWYNjlt+DPps7Gy59V+hJluwQvLvsD+mvgS6EXfxZ65KyqwcyqLtzcYvYwLPZPX77kct3veaoER/fHs/jTNGfzKHvjXQxfdrcJFhMo5XMxqmI2RlfMCsxsjCyfg2HjbkLFIz9Hh/n32NGCY7heFrfSHzDVLAesfDB59ibTmLdlHUrefA3v7DuOpngOh+Jp7IkmcSySQS5hsoq9DiYQ4mYaMhnsSURwIN6K4/EOVHbEcc2na/HTT97GqqajbsbXIJperPTKgl7WL4G5RyEXJpUPqzuiOXYlDyLe/p5lf0eQKcHjIO5wunlt6dFl8WQx2t58HM/u2o6IOz/PfnrHPqPYtcAxZBTtvLKSx5ejY9cSq9AP+WRx7kKcOhIrou+xrHTtA2vcL4SVvhmKF3oxw0aBOf1le3QT+Pf9Kiw1wbGCRqI904XnP/oUV97xGP7TLbfh/75xEf7HrXfhmsd/hQ/rdvvjOyXh7v/CJugbnNjgOVyYeQC3Vy/MjQLGPbP3pZk+aL7Job8K7s+0cWfkj52Cb4j8evd+/IfF95kguRWjJy3A6PJFJlAWYlTZAlxcNh/Dx8zAn1y7AG/V7OSeLvz8CwPnpcrphu7U4Zld1vlV14PwdFUlZny0zgRHz/s+fnvQC2Rxd2nRK9gHU1ks/WwbZqzdiG0J9n4Ex3ZbjRNWTrB+CWxynYx1yU3jVpjtJpSSTS/j2J5bkItv9G7OA+HKadZXXVmTPjmn6XmojJ2XoeH3gZCnQP760PcPKctL/5gOucOI7V2MtsoxyDW9aWE+zTQRwpBYEX0Ls9EqVBYpmriZXW0RrN1zAJ/s2o+qpha0d9e3ZglaK9b3zOnuTV+GO75feKkSOpixij6cMK0llUJV41FsajiAXa1tCN79sZ3MH72wC5+rgflaXDj92RjOw3bXv2lfI1bv3IfNB47gmDWY/jjmg4LFYu/vhp3LadG9Py0uwP64cVv/1dpa/Iepd+DCMdNx3oQ5+E7JHJxbMhsXXHkz/vTmO/Dkmu3uIYUPiBdojArXe9Kvf2BY2EPGR3r+u8KcZQR4ae8BTPz4TbzauNPcDAt3Pu8Hu1IrOqHivoEEfBZtxc2r38fSTetxPBnUFQW+N+MrNQf994rm18c4zD/6tT93PjNM99RBRHcvQnPtjxE98oC5dwRpa8b99DrvqZDPmhD144qaUmlURjvBKfBcfChW/ImKEAsfE8qEfLrlHURqSxGrvAyxhgWWHfsDP0KcOhIroo9hTvq5POpb2rHs5XfxP2ffjX951Vz84dUL8B+n34Hrn34Zaxsafc66Cs7nPvf5Kk7w44uLWw/d3CRi7i7uSxoMbrdtDJ07Y3hAZw0O+KX4cthkouSZlRvxj8uexB9fuwT/YsoC/Mn1yzD27p/hNxtqegbuBvfDjq879NfB8Jnh0Vw4gy8rH00msTudw6q9jZj789fwo8WP4L/Nuhd/s+hh3PrcS1i1e79r/N35s9bQ2j6uueM6k4jHtUX/wUAEkoWPEVgRWYA4hd17x/fhuk/ewQu7diPK7wZYQ503pULhxY/98ftAa4814aq1K3D/7mrz4yPUk78BjGBoTrR+LU6ouEd+djSX+BFEW99ApOpGxKovQ9vuq9AV29RzwG9z8C+DgsyOwdN9eOgAFmxciZbgoO615iIlDFkhcxiRhqVIVI5DunoC2uvLkGp9l1u8ByFOEYkV0bc4sVBAZXMnLrv7cVw69jqMHDcN506ah3NLF+KC8bMxbOwt+IsZd+CdymDae2s92fi6RvQr4GbnpdviF6wouWQx5tlds9V7A5euNmU5Y2PmeybctsCwWfpqCui0neb9+h38wYQZFocZOH/iAjMLcX7JXAy7cjr+xeT5uO+9DcG3h3gGSoOwZJ86FBkMM+WPC6ddsGziX95diwerNrgzsYFrTmSxvyOBo/GMO7OD+cGNXV6suNxhgLiTLWntP3rlAwNsEfSjP3yoljceQumKd1Afo0TJm97q6u5liJtambv2U9yzrcaJG+5S4IR3Fl+f6gE8VGhOtH459BAELG9Hc2NemHCJvei0hji2fTJS1WPQUXcFEoeftXBbqN2B7edrD/41mBDjOB6W4cojR/Hb2koXZ3fsoKLuP3pHjiUxKESGD1kO2bbl6Kwfh0TVRCRqKiyNfoL43mVA8rjz4eWy+eYOtjuP0t+xEgMDiRXRxxQQzXThmqeX43cnTsPI0hn4buk8DK9YitHlC80+1+zz8Z1xt+CHc+/HjqOtbq88x4F0tzDFB4P29Ceb8PuTF2D4+DkYXTEPIysW4uKyxc4+qmIBzim5Ff/s6nlYvnmH38laX1+2T4/uo/ASMcM7bFrXHzmGl3bv5GgB5+9zBP6LlyCAXDCRbMmqKAzyq/sbsGjNOnS6z0oHqeg2smcpj0dra/DoVj/DK9tyl0ZdKdNlgQg6VYLTsSGl9HHVY5c1xE1vIVI7EbGasUjWjLHG+KeI7piOfGe1C4AbLHyaTS8fh6XMUGOmLRyMOnuRKMLy7jtY/YNPEvv1FufCB3jdEpqbMkeRaFiGePVPkKwuR7TmKsRqf4pkVYWl3QfmL2F7cESOyUsmk8WRRzm9FBNDBYkV0ed8XLsb//qaBThv4myMKp9jDfoCjC4zsWIN+kW2zoZ9WNl8XDJ2Kh59b7XP+e7BCMXJwfYofjjvHpw3/laLyyITXj4el5QuMbvFZ/I8czchM/ZmTHzwOXSkWW6t6WLX/WlGyzXCrnfE1/FudIytcngO58WjmztFYDEnZ5yj21Dk9A5jYOe3hu/cWolfVtV1ux1sT6GuKcqm3NbyWNV6DNPWvYe9mUQQZ6ZLxj21OZ14+8eYvhcqZw2s69dK70VHw0ITK5chtuNya5BLkaotQXt1GSKHnjSPMRcGDlo+HRgTJz4tL/fG4thjhsOrmLV0P41onRY+xXtbuAh6V5xSySLZtgJttTcgWTnRxNxERGtLLZ1MtFSNR/v+O9GVPebSNBNmEMv06WaWGDJIrIg+5/63PsKwCdMxrHShm0GWs6leXLbET30/eY7rYRk5eQnOHT8N5Y//EnFWdkawKEpW1TXgX1670L0OPcrCflE5XxM2wWVihTPGnn/VfPyebRteMht/OudO1B1vd/t1ORHmrKcBj+HvXnkf6xpEs7ems6huaUPMLmB3CqafGdp7rxcrLmhBGLsFlws4cDiXxZy1q/BpS5OL8+q2Zty04mNMfP8j/GrvPtfOtaTTuHn9+1jZftTvxHQouPdmTiva7C3gg7ZAbtpPEunj76C19hrEa0oRrb8SMWuMU1WTbHkF2nZNQVd0q9v3tM/tGnCfDE9sX49nt2/iPLrO4cvfrjvzUJTwkZjLKSdOfBjdNUuTaUTHvtvQWT0WmaoypGwZZw9U9RQkan+Ktp0TkGpZYX7zvqfI7cRjuaOYEeKrkVgRfQpzcd6v38A546djuAkU9jqEYmXE5HkYcdUcXFTGCcuW4ndLZuCy+55Ga8YXwP67b/x63t1Wj983QfI7Fcuc0LqoYpabHZdfdx4xeTHOu3o+vjdpEYZNmod/Nn0pNh9ucvtxzgxXq58GbCjCtHFL97YRsLGjBfNWvo39HcFrvkG9z8VpnvKs4GJkAfUijL1QZuFgWmNTewuWbVqHhmwXXjnUgJI1b+L5fQ1483grbvh4FR7bXonD5vXBqlo8u2sXHyy4fQtdfJDSk16nhDWgbsAvw8PwxRsQ23UbYtWlSFdORqx2AhJ1Y5CpnIRs9eWI1v4Y8cOPm9+4b7xPB1bGdhDWem/urcfaPXud3aWNy/fTPcGpwkc+HDtE6cS0CcoYg0OB2P4xOuqmWNpcZiLOhFw1x6yMMzMRyVr2RP0Eyb13AOkDTp94TRb+CfH1SKyIPuf+N1dg2PhpGGaixE95H/SsVHB2VU6Fb2KlYgnOG3czKh77BWK+ffKNQ5Gyuq4B//qa+TiXH0p0YqV3z8pCXDAl7FmZhT9jz0owT4gr10H8TgWmCJuJ7kGeXHJ8jy33pRL4TZ012rEI71G95+B0p3HKs4YLo/0wbvy8ohcrftTHi/v2YlaV1St1O3HTRyvwfuMh584obuuMYOanazFn82e4u74BCzZV4Yi1fjweH+C415p5rFOFB8rzGGbJ5ZA58gqi1vCmai5DsuanrnclUTsO6aoyZKtKEK8ag47665Ht+Oz0zmv4F7l9rw5f+y9wxHGWj4fYe8Y+pv7DywrmAutr2li6Y1YcGxDddz/aq8chWn+5CZaxJuzKnajz6ybutpeis/oa5FrftB1NmjKb3JF4XCG+HokV0eesqt2Nf8cxK6XWoJfz2zULMKrcj1m5uGKuCZX5GF5ujbuJlcffWeVynhNK9Wc399dxuC2Cv5lztwmsmSZUKFY4Y6zFp3SxxW0+RphYuchEy/CxU1H+wHPoTLFhCfpETiNa3LW3WPGCzi5Yu8vmWIbwXtedjZvMBIuihuFzM5m4x2ScZ8UaaNotah227dbP1uO/vPEGbtmwBps6g1lyTISE7wM1ZnK4vXoL/nrFG/jhO+9gRyTujsm2Pe8qtNNIAQuGf024gFziMFp2LkNH1Y8RNVHSXjMWHdUT0FFzhTXOYxGtLDEzFs3Vl6H9wIMo5I74Y5wiHGjOMtOWyWB9yzF0JCxnLSgpurJnpR8zNixfNEwdX2d3INaxDq1VtyJVOcE9+onXlCBZeRVSVRO8uDNR1143Ecd2/Bjth25HIcvvVHHgsheY/RknMXCQWBF9jN1rpXO4/pnXcE7JLRhZOh3fLZuHYZODt4HK5pt9Ps4xofJ3cx/AniaO7bBKi3OgnE6rfoZhpfrcqk34p+XzMGIcRRjH33CgLd8Gmm/CxeI04Vb8i6vm4q0tu/xO7oHE6b/t4O9ofcXOxyW8+0bOGnhzrmltxq624/6NGN+CBL69KVYYNtcLwgY4z3Em1kj7ZwOojUYx6a3lmPfZRhzMRMynbTNvbgr9sJzYOiXMU/t2438vfwW/bajjYV2n0+mmNwPBYzA5k/FaEyEPI9mwGPG9D6Bz3yOI7bvXmcj+OxFveBCpvfci2rAUHYefQ1cyGD9zioR6vfLwYUz7cDnq4xxqbHGiOwMUbO8PfKr4F8NdUWNYCllk4nuRbVmLQttK5No/NLMK+TZbb/8A+Y530dW+FumOT5DqfAepjs9QyLDXkfLLan0XHx5NiK9GYkX0LWxVjOpjnbjirsdx8ZhrcIEJk3NL5+C8srk4fzxnV52G/zL9DrxXGUwD7/KY91n9WBN/AyIWtYUvvo0/HD8N51sczp00H+eX+beezrvyFvyLyXNx/zvr/PgJVwHzI259ESteHf6Om0flG0acM4XneXHbBtyxbaXd3wYVPls1a0XCu9ZibQaYJhQonMjPqSyLDxsuloQtRxvxatVW95Vl59MaxPCxAfdzDZwvZq4n5eP9+/Dujmok2TvHbW4fZzlFQnlIE7ef42aaLDGtkS10mGk1u4nscOmM2d2200txSlvm867m4/ht3TZ0ZNlnxmP6NOpfmOg+F1zahIkUZsY3xe3TO51OL83E0EBiRfQtrKxNsLD62dEWwW2vfYgfzL8f/+6aufiXU2bjP8+4Czf+bDk+3XckyFlWwrT5xrVosXixhDZlcnh2zWb85M4n8SfXL8K/qpiDP7tpGcY/8Dxe2lKHiC/GRijAgrr5NPDSgxcp08ofj2tsxqqOH8M7DbuRzfrG3o37cFdT4JGmSGHD7HLdlRlbWNgpPlpyGcQpYnrx+V43ChPWGz4dOtJpJMwP14s+4l8Fy5lFgo/23FtAVow4nse9ru0jJ8SQRGJF9DFWmOxOmPnJupWNT0N7Amt3HMTK2n2oaWr1M3I6LM9ZMwd+WQyLt4nhyJGM/fphjkczXdjQcBgfV+7CtgPH0do93saW7htFbqSJi8/pxomp41PITHBALphe7urgip2SL9JwVhA33oIbg12KlzCAPpBMQqZt8IJst0D5sseDnISt9xG8Yfy/2P+AwDI0bRFZ2XwU+yKdLlJhmrgICjFEkVgRfQxzkt37tgwbzM/Bxtw2snXy/85bcdfFDCVf2WTT8UVl0uLDVzf4FgkvKHeX78u03/fU8aInSCGXWPYTHDJt51nXeBA7Iu2uQeMn/NxA5SB5Q39FiRMVPl60hcWFzuF8I+SLxAddnDtNkDR09Gn1ef8DiYOJGGatfw/rmg57BxcvH0UhhioSK6JPYS664hTWrt0tEH+Yl4FQMQ/0Ehr/6wtiUdIdWPtx4ywYD4sP4+UiQDczQSPLmHQ3wRQwpwGP4k5BwpXAgY8+Hty+Gi/Wbem5UixIgV7ptWMR0isevawu/L7MuLWvprdYoTG+yW7FCMNNKdyUSuHdxr1ozLiJ9+3PcjbPGwDnTYghicSK6FOYi0Gb0d1q+HtdjlDwgwdDP6Fx3pwAYF4HOxUbvQNNu5nQiZcPTbiJS8aESxcn900Xbulj7JA877b2ZmxuOtJ94jA8rnFzgShSGL4gWbpTJwxzt8PXYR6dgAzMQMfizrLj3u6y6PCacY8VKVacByGGJhIrou9hu2ELtjlhwxm2P19kPPRBU6z40IZhDkMbrveIE/70xNs5uF6lviM8p8MsPDpf8OX4IJ6UYeFrzb6Xp9tn0dE7Dr1NaP1Kuj0xT9iQBznwjXYuXvgR0OW1NdjnXuk33OPU4LHqAI6XEKeLxIroYywfXePs3/WgcTnLHzq7Fb/dP0Lpdux3XGNgxo828WHi0o+N4EXCV5FZVn0MHG6f0MVMECfuF7r6I/UN7nS9DMlY+N7aW48PGv03c9w5XTB8+hcrJ6RNrwgx9cL64Evp9u9zxPfaMdKh+0AgDKgtA+u2jjZMXfE6apta3Dr75ChCM9zuulvMCDEEkVgRwmDpc9N62LWQteYhxzEptu4mP3djUUJfxQavnC48W1+NJZ+tRczN8mrhtMuGIovbRJHBYuQEcCjLrHAFY52akilsbzyMZM7nG72y6HHpy6AQQxOJFSEcQV+INSKucfDF0ZXLwMU7FBk+dHnsT6VR2d7hZzqlMYu/qooz3EOa7gLme4T8TL5W91leNZvh/Cr04rLOWYQQEitCONi480JIoZCOWGPPRz4h/oFWMcK2LLxC+KigMZ/3M+i6uW4szD2REMWCZZp/HZs5xI8nmN3+t7c34ddb1+NYKumzzT3Tcza37m1CDE0kVoQgVvxcz3yhEbHG15HprPTurmHpKZ/FBkPlLl8LY+2xw7hz8zrsTVGu8DmQGd2ZFxVhKWKPl3tM54w5WCZ+sKsOz63/BO1WITt/7tEQM9D3jykrxVBGYkUIwuJnJpdYh9YdNyB++AlrQKKBWPEPgooV19jZddIQb8E961dhZxM/FGeOXXZVqYUrKpgdrG6d/GDGcYXGNhxMpbE/lXCPgVyVzO29xAqNEEMViRUhQnIdSBx6GJ01/4iOHTeiK/aZOfq73KJtKBgwa8/46i6/IdOcySAbXjJ090pGFAmUHX62IZc5Lo+YXbtiMRxIpJydJuxLCUceOZSVYggjsSKEI490dC1itdciU3kFIpUTkWh8DF2Fdl8yi7WLgoHr8uMeQmFS1dKK6mjcYkR0/RQXlCGWM3z1zLKLOXYkm8GCTR9j1cFD3sGNVfHdLRx82/36ua+nhRiSSKyIIYFrA9yShT2YsMIVuaAhyHUicfARxGp+hFT1OCSrJiK643rkolsCH76E8tff9YbQ3nv9LOPuzt08py5+/DbQ49WbsHTjKrQ6geUbRefBBTW8Zxf9gS8/Vt/xQ5fMH8uMw7E4nq7fgv3JhM+YYGAta0WKFZdX3yLTQq9c+owPdnQOwVYueq07qxBFjMSKGBKwdPlqm0IlaQ7mwn83iNH+O2qRqrkFnTv/Fp07xiJRXYZY5QSkDj5tO8a8H3cMduL7C8Yfg/e9/VnZs/Gz8DjR4q+Wykgb3myoRyc/w8x/Bo4bcgyvu693xgW6/wI+JGE2FExc5gr+C9581ZxvcaWYD/yGlJvs51TxGcrS6c7j1lneg889cNVtSZndVtypvG+3SYgiRmJFDB1cEfMNO/9y/EycVdiFrk5EGx9DtLIM0bqJiNRNQNLESnx7CTp2TkdXIngzyGA59WXVTPeCLu7gZx2elR+7c/ffbIB4LdPYaizVhU5zCqfh77LIUmo5f9wxNOKsQX2Q5yOeLlf68N7xA/j48H4nJ9zkg6eVISyHFM+9S6M/pjuvs/GVfM7oEta4QWFRWRBFjsSKGDoEjbRv09nF7mepzUbWomUPBcoYJKorkKgZg0xVCbJmInVXIHH4KSuGfMPG1+es9B1BCxA2EP1F2BxRfvHxAsMUyxXwdPVWvNS4xz0aYvcKZ16hcbfz3ZEQZxMnJ6iQLT+a0knM2/gu3jq4y2VHxnLSiclThGWQpfpkAcJF4GJ2llWWgrDWpf/AE40QRYrEihgisHz5ipk2V3HzJx1DxspZpHo8Yq5XpRTR+rFI1E404VKKjror0bbzFhSi682ziRvb2Tcn9kuLGVb4/t61f6D4YuNXKGQthGzy8u7111/tqsfDm9YgkbVw2zWeswi72VJNyLj2kvvyAOLsElRpHLpd1dGCjow5WP4U8lYLusw8NZifvh51B/Nlk8YdMpx7x697vxQu/ppwuwlRxEisiCEBJQrvW30fCB+MWHXNHobOdUjVXYt05STEayoQN3GSqL0SyZoSEyuTEKspRWf1BCQan7KKv803AFbb8+7UDQbhupXR/hQrdnIflwJlit01B98yimfyOBaLuzER3V7ClsoWvLL6MdRDkjzLjiX6rkTMhEq7zwD/DIiZ4/ycKjyUq8qdUPH5zAUKCeRjVSbMj3R78lqGtS4d6ClcClGcSKyIIQFLF4u5Fysxs1mjnmlG26G70VL3D4hWjkNs+zjEK3+M+PYrbHmFuV2OWOV4xLf9BMdrZyPRWRfU6SytHKToanyz86jc0E9Y5NjOMWb8Y0jY9oVsPHgEm9ua3VBLH14P/fVjqIckTPtj6STu+PQjvLK73usTy4S0laHeH3g4FXry06sRlgG3nmtAbO8jSDa9Ze5W9gOVGj6+9Gfl1XF65xfiTCKxIoYELF2+amb1zcq8gFy6FS3HXkOs8VmkD7+IhC2Th36J1MHfmP15xI4+hdiR55Bq/AWih59Hsn2TFUfuywsmYUs7FlfdkX0zcdZhxCwuFCLdYsQHy7A42vZfVFVj3roP0JTjLby/kfc9LG5n5ybOHses0n25vh4NwSRwfBzDr3zng7lXThWfm/yl7OEjQa5nkO1Ygc7KKWjbvQRdmVpztJLCQmJnd/u4c/q9hShWJFbEkMHfRQaioruW5mvMFB58ps+RHlbenBjhoyJzd8/6We13eOP2oaE/W9LqD0ZLv0DhwavEXcaMXhBFhonX1d5UDKsO7UNbcKEzqC4tOBjXGi2GPNyNpv9i8m3ple6htZdTf8D0c6lsYeDSi0JzDcLUns6hKZt1JY1OeROMrP3cnsxEWk+RnnPbkV2+mojONSGy70EkKq9EtGYi0s2vmYdgPhfz5/ehf+7Yn7jUCMLBcPFdKSF6kFgRYhDjmyMau6OPxlDV1uLkF2+sncRhw2aEvmi6G4kB1VowsGZcQ91/AXdpyNNbncpgUAjkKAqN2ngn7l67EhuPHHLrXsT4N4C434mJ/+0J5Ik/ljtOBum2T9BafxNS1WORqrwc0d1LUUgf9NvNI3t1nFjpR3h2htz1DTJJLOG6TKy4eLhf30CJoY3EihCDGj+3Cq+uTYcPYM6Hy7Gls9Vt4cOCsGHzDUaPcXRbBgKMIw3vyP0DkP7A91jZuVmn2sKHyje7nx49ike3bMCRVNK7uEG1vvYL88GZU8R/HZx9EoH8SDch0nA7OmrHIF49EcmaCeisqUCq+Q3b6D/HQMHq9J2rZ0/j5KcBz+pf2eaDTB8GJp9PNYbLP74UQxuJFSEGM9aAdeV9U9CSzWJ5Qx1qWlv8NnNkD4u79EIzQPHB5x/j2n99BUxOl6R5viZuobD/lDk0xVJIpvOIW13r3kXr8ehC3Sfh5bEK7JPwginTvAqR2hITKf+IWG2ZCZYS9zgosmcBcpmdlkqWTkE4wvfk+gMGwUslO79LE7+g6W0TQxuJFSEGM3wmYXfw/u7ZX00pc9vb0e6n46cjzYBrE04KsMWBUQ1dGaX+gFUpBzUjm7Y0T7jeq9d27sY969ejLfgctgt1mObMmGD1tLFjcSp/d+hsG6IN9yJZ9RNkq8cgWleKeM1EZKvGIVJThljrK+Yr7guElY/+kypMhqA3iOnB8NjS9wdaajJQ/RUwUVRIrAgxmLHLio04O9LDRrKjK497t63Gz2q3IOZu8emHgmYgtQoMtw+7qzpoLYLg94gVS/F8xoRhHs9W1+HVQ4cQsQCyB+MEeoX5tIPPAzhV2oVU6xq01002cXIlMpUmTupKTKyUIFM1HvHqcWjbOxf55J4gGXvEbH/APij2B7mw8G27vH+U5x5N9cpmMbSRWBFiMGMVPe9YKUZgIoUtKUcGbIw1443dtegIXmfm1ecfSAxAGGh3W56xRcTsfHPrJFFwlvDpmHeDmJsyOUSyebSbIx/9dOcD7YHpzcnr3xamgDtGej8ie29DpOYKpKr5GYlSxGrHI1FbYmYskjVXIlJVhvRRvhkU9Z07Lv1ONwSnCANA0ZyPIRuvQz53zDuzRFq4giQTQxyJFdEPWF4zu7+sEvK1p7cPaMI4fFl8Qvcv2tZ3UI5kmaYmVvgRPfag8Iy87I9bBbD98D6059KusXNpH7YOZzZYp00YTG+x8Fsj13FsNVKxbbbu5xDp+Qk99x3hEbuPzh9+ObmQwcctTZi9YQMq2008MWU5twm7XFxd6x+70Boeg5yuXHD7F3JIN72NjppxSNb+1ITKOMRrxppY4czMYxGt/6ktf4T09vGI1i1ALllv+zF8LCWnc/ZvC88VGC4sCPn0bhzb/xTi7Z8GzvzrHgYuhjgSK+Ks4gf1WYFj3RjUQcxhn/sh3EBXPzDUe2PtVcyVVq8YOKvFMc+ubS4Zbn+RfR76sftud2cZLBhVd5C+iS+PEh7p5L6T3Z0J3LribfxqT6XrcXHhtQqBdoajW7wEu3Ufy22jpX9wp2dPkYXXp5eVrPZ1aK+ZgdThJ8ytw4eTyW4NOMc/0Bp+iuC04N2+HcSlFw9n52dPSjhtMIv22/t34+XaXYi4Z0IMYNb3rDgfdPF++xTGLX0UnQ2/sHS4xUTJDYjX3oxI3Qx01E9DZ53Z629ArO5qxGpuQEv1AsSPvW/7sTcqOMYZ4+QSzVTibDP+GueW3PH30cpPXhx4wDY3OdfeZU8MbSRWxFnFv6vgC1xLsgsf1jfgyY/X4vEP1uCtbXtwKJpylRdLA99sYBXnSwZ/e6q64qNXjeoCz3LL10K9O7/Ps+3AUTy/ZhPuX7Eav9iwDXVN/kvOxPV2WLKwQXO7u7iGKXHm4LW/qfk4NjYdcWEkXCTtl59E5H2tiwKzjFGyIDFUgbV/oWgwpUApUuhqR8LuyiPbyhDZMQOZ5Gfejwukr118LcNEptupw7i7NpQqJWNnz+WcTsnYobceb8Gezjg67Dzu0Y/bw2RNFx9RhSX/zMBjpzlOJtOIXGoHuhK7kU8csmUjulIHbXkU+RjNQeTjDeiK7UNX+rilSpYl9XST5WvwR+85B1ORci9wzxxBZPediFddaeLqOuTYu+JyzLad2YCJAYLEijirsLpmJf7hngMYc++z+LdXzcX3Smbgu+Nn4I8qFuAfFj6I326uQ9T55Y/lvxMtQbtTtASVrvsl3U0jdjVHseD5N/Dn1y/ApWXTcP6km3BJxXT8xS1LcO/yVTia9GXciwL7cT1I3JsOPUc8I1jj5vsdLJytMbxctwu70yknKZGzX4ooenM/ZujRlgwx7437DwuIhY3B4XeactHViNRORXLbZLTWTkL06GMWyLjbzrC6JPU/LhqnA+PtD5WzY3PKfNfHgs+ONeGale9jXWPwaridvctEVDZRY9ZOl5ZB58sZgVcJZQclJgetOni+4JxhFoamJ0v9Pt0ezwj+2Px1Y1Fo8ytGF5It76G1rhSpqssQrSxBfP/jlnHNzqeXLGKoI7Eizjor6/bg/52+BL87dirOnzgPIyctxvCyJTindAHOvfIm/PFVc/DCp8FjCavI2IXO8lHcJcGXX/9rZZqPJ2zZEEmh7P7nMMzieoEJsuFl8zGsbCGGlc7FBeOmYdTEmbj5F8txPB00/XwMwy4WIzzWmaTLGlv/UUZgdzKF+Rs+wc/37vCPNRgAS3QKlbhZKTJdpBhEc+vXJsTUAqeqZ6rl88cRP3w3ktvHI1tZis66nyK640YUOrdYUP03tp24CMIdPng4Zey8FB6+3sq742ftuLvaO7Gi9ThamW7MQhOCmXYTUbsfBVI7XXI60XemcHG0H1eGLIxcd8Z+Cuwr40RwaVtSnPhNTA+noLjfGSWMONON52caulVLvEPo2Hs7Omp+ipyZzPYSdNRdh2z7Grc5bBvE0EZiRZxx/KMQn79HOhIYv+wxXDDmRpx7lYmUimW4pHQxLrEGfMTkRbhwymJrxKfjv99yG7YePO72YXdx0YsVix5j6Mux/Vqc41b/L3vpfXx3/E04t3wOhlvcLjJRdknpElxcthijKhY69++V3oyfr97oeyrYk5T3g0N980EbzZmBPSh844KDP3mWw5kkjsTjiCRy2NMRRcwcGQ4OvWD6s6pw1cWZDdbXY4FiuBiEbOdniNZfg3TleKSr7a689krEtk9E8tAj5qE9CC/jyP18Y/lt8OXXQ1vGUi3LAam2sjcSw5NbNmL70WCMhcGSyl0KuVakGu5FYssU5Nw3eUzW9Byq7+GxLZpccIQO+3249LWrpQJFCxODCed+gpVgvzMVNpYsd34e3xLG9//44KCQRq7tbROYkxGrMbFZPRG5yolmH4vooQfNUzsPIYTEijjz9K7sf722Cn9UMgPDS+fiwquWYVT5Yvxe6XxcWjoHF1XMwwUmWIaVL8J3x96Ce1//yFWnbB5Yxbk6tlixKDKWLMn+lhaoP9qJv5y6DOeb+BpVsciZ0RY3bxbY+gKMNHPhmKkYc9fjOJoMuuLtzpjHYty9hKA5MzgBwlPybHme36f4tkgEN336Pt7Yv8OLKEbJNtGHGxZ5ZoP19TCZ2fhnWxHf9xTi1sAlaiYgVluCVE0JkiZWOnZeg1xsvffs4mcL11j6/DkVGGXfL2HY4v19B3H7xrVoiMa8kzW+7MVgfZaKbkS8egqyWy5DZPcCdKV3m48zl2j+yF4Y8LGONznXm+N6dBhtlwb8Zyz8QyOWgTNZy/oUt8RyYeAaw2VLrmcbkGi4A/GqKxCrm4h4zWRkqicgVTXG8u9a5CLr/H4BvesSMbSQWBFnDVY08377LoaZWBntGurFuKh8IS4pn+8a7hGTF2JYxXwMN/cR429FxaMvos3VsmxorJYt5nrKwsbgObHiDPDu5p345xVz3eOti8oW4eKyhS7eoyyOo0yYjTZzkdkvmHAr/mzaHahs8t/scW+42MJflkHrcobg0XmFuR4WS+O8VQZdlk9JO+Unxw7h08YDaLP1SC78sJztE8S1P/Fhsbvy9lVIVN+MTOV4dNaPQ/uOCchUlSFVXYqO+rFIHH7YIufvzlnH9EW4G9MpfHTkEJpSaUSzXeh0ZZRChWNSgvzKNyN+8AFEqsdbAzzGlqXIHF9u2860LOC5zcrCw6Uz5mbhYvy704BOzlDahO9KnRl4Rkoins+rpuA1efvNtK1AtOY65KpK0LnjcrTtHIdEbTmylZZmNeMQPfCUxaXT+RZDG4kVccYJ74by1hje8uIbOG/STIw0kTKyfJHrWRg5ZR6GT1mEERVLrFE30VK+GBeWzMaEh36B41lf+buPtPnDFCcWR1cXu18f0OXrq/AHJkh+p2IpRpUvwWjG2YmyeRZnEyyTKVoW4ryJc/Hvb74dnx4KHiVQNNjibIiVINC+ITHD8Rc0rjslOO3BVAKPfPoRXttZhWQoGt3YiMAemgC3OVj2dncEJwqazFPGHaWrBbH99yO1fbyJlRITKuOtsRtjd+WTEKuZgo6aiejceRPyHZvdDpRbPTKwV6RJGJxeTl8EhxP9rHI75m5chd2WLt2emV5WVXE7y0Cm/RPEaq82M8FE0wRrkC9HfM/tQOqIeWQY6Nn27T5XWAOeOiw1ThT4FW9cXPkYNWk29lCyPjUf4Xb31hrjwZ4ht0Ofw7zmi96sB/hGFKWLC2PuOGINDyFRNR5Zy7PIjp+gfddllmZlyFaPRbz6Sku76ch1bvDpZMaXG4bZh9X3krmjiUGOxIo4o/TutqX9njc+xsUTZmBE2SJcMHkphk9egNEVc3Fx+Xw3juOi0sXuMdAFE6bhpudecXf4vCvkXatrRIsSX4GyDPtLybNmx178m2vn4TulFscyE2IWLwqVYVfNNXE2FyNNrIw2sXLBuJn4r3PvRU1bcAdpIoDJ5tsTHvHMNCLfCDt10oTJaw078WzVVrRmsohb4MIBuE5AMohmXFbR2I97qSlw4MLFwK37WJ3OoxiPNb0dn6CzrsKEypVIb5/iHgHF6n+CZM0YdJpQifLOvPYyJA/fY+11iw+TC2zwuMv1YAV1jwtbYBgXBj6w03ddKoJtHceRNPG8s7kd+xN8Y4rYVioUHpYNMd9cy7UgeoCN8ARrhDlr7AR01l+JaPU16HLzmrAfyz+eccngLHQLa8EzwVcdmdvO3Jn9sRP2yzfPfFJxZpquto9MkNyAVLXlUc1YJAKTtHxLOLEyxtbHIHnwQdupOcgX5hdLn6WzHZbvFp541YnBisSKOKP0Fitk3Y5D+H+ssR5RMhPnT15sjfhi/N6kBW6A7YW2zjEr55fNxe+VTsdzn27zpYJjOOw4xVslMZSfFytHokn845KHcf64aSZM5mK0CRWOy7m4bA6+W24CrWIORlXMwogxN2Dqz15FKz8saEcJeyy41r93jrwTtuvPxAqbB75OznnuPtqxB49u34i6NBsg580ZpgD/rEbxxtzYoLOxD4UL08elEaN1GuRzjWhreBhtVdawbR+H2Lar0VE9yUTKWMQqy9Fpd+XRmn9EpPpv0Fx3HZJt62wvjidh+Gx/C0sgWYIUNgfb5kZymLU7eGY5HItj6dp38HjdBkTMD6PC7cwm9kwUwDEq7LWgnI4gG1uH9vppSNVcgSwfA9Va+Hb81MI1HpHd96ErfdSlR8719VDs2G6s54K3wAYn7E3hwybfs5LPHUZzw89wtHoK2muutPyyvKsq7TYdVX69o7IER+tnIh5da8fw8tDljf34rGT6OxcxyJFYEWcVfi5/0YuvY+T4a92bMCMn89HPEgwzofK71y7COXxrZsxUlD34PA4l2QAQti62KOo6yTXTPoiuNfPd8cu37sAfXzUb506cjuGT+ehrmQm02yzOS225AOdNmI4/n7oMn+5pDKLXc+/p485fbzvb8JrkGyVskPlVXDY0DNrW4824e+OnWN/Sgpy12G2ZpHuIwHvcsNGnYXy6Y0Mn28Tm3F3RdDyNaOWzx5Fo+RiZ5pfRdfx1ZJvfQ7r1dWRaXkfu2IfINa2w5bu2fB1J25aK77IgJL14ZpQsPBQr3YF0+L4Nuh/IpvF+0z7sTnSi08ph7aHDaMqkfFz46MS97ss9wrlWgscvuQ4kDjyGjpoSpOsuR7qGg0YnIV5/JTLV49BROxmJtjdsR/bqcD++Tsxj2t5O0Q1OXLlwMeXSJGH6OKLNGywP37R8e8Xy7e1ukw6Msze/jagtk/Ea29P3SLl+PSpF988cG7zpJnqQWBFnnN69K7TtjcZw3TMv4qIJU3HeuOk4r2QWzpk4A78z4SaMuvIGjL/9adQ38WN09M+S4SsmZ4oYxs3FlPHtYovIzm/g0ffW4l9dPR8XXnkLzi+Zh3PGz8e5Y2Zj2E9vxn+8+U68un2PbwSJG0MQNHyk23L24and6fNsIjjwlo20FyGcdyVjliOdUSxd/Raeq9+EWNCbQrqzi10Y7ps47n7ajDUt9HO6eRmcJ8SfLxRLvcLeyx97fvwgWAoVhsX2YsK7rp+gpqF/c3u9rhrTV72G9Z09ryRzu+tNYZy4tGOxL8b1KHHdDpxrqUa0ajoSJkxS/Hhg1dWIVV2DOAfY8o2lynFI7LnNEvCIOwYH5DII/hJxB6dl0MHcZylyKpHpx0xgVF28vw5LIfaucleXWezj85nmxcvgTDNxIhIr4qwSfnW2JZnDi6u2YdIDL+K/zrkf/236bZhw+xN44t31ONDuRkRYHWWVkNVQ3fXZN6rY+g8GzzeWrFVdzercWLWurNuPW5/5LX644F7851l34G8WP4gFv3rLyniTa6w89M2K1x8pXPQXPDWbBIaIYXTNqntUEQTKNkQ4nuXIXry5q9aN59gTi2Jt61E3tsV5Cxsm5iP3ZdpYGXDpdJrwCDQMER8QsPeHs8myWcy6Xgu7E6cHl6Q8N8NkjRsnGeTjrTAMtmjMpPFc3Xa8UlsDTijcZCLsUCzmP0Hgg+yi4uzuDN7wN3RHbh+iBx9AZ9UEROuuQGfdWHTUlZuZbPZJiJt4SVVdYcJlIrr4ZlDG9rZghfWfL+k0gw8fO4ubSyv7cXnijUtbOn+JcR56+XO/zo1H9GN9xOBHYkWcXViv8E7bZzfa0sCe9iQaWqNoT/TuUbBCyd4J+mfd5Kqk7q3FhwtaGMogfq5O7Qlz0i60w9EYdrZ34FAi6R6JONiIujvE7sNwx9BCl37D3QAzD1hH0NgKG2lescxHtvmUlmEoPz52ENPffQnv7d7pGvp288Cvz3BuFt+q8zA91/spE5SL7iRy62ZxYoqChOnJMSrmxiqEAXUChd6zphPyOJyKYnvrEbRbOauNtOOBrevw7vFG90grhNqq+xzOMPZ+dhKX1+EpzZ6Or0LTrpsQrR6DGF9Xrh2LSM14RKtKzExArHqsLa9Ec81P0Lx/AfLpw/6YbvBpMOB20GJp7wQjI8lEpQxmyWHZN7cwP7/IuLz0E0Ny1f24ssg9g+tNDHokVsRZxd1YW4OX5+RZQVduD74G4iuWOavA3UyjQcXkB9j6glqUuGj4ktxdlzKurkeBFTVdP4/rxi4wHfw8Ju4w/Akq9f6viu3u3wlHC4cFMOy9J+G8LN1htJ+EiYC9nR04mIi5t4Z+vqMKszd/hJpIp0uUpAkcigEXvdOIWLg7S4WrI9jSs6pwgTO3cBnAMhXLdWFfZwpt2RxazH5f1Trcvn4FDptw7LKIpRhH88vDMDdyee7Fz/yZKwPsyqB/bONPzp/gzt7sucRBJFpXoatlBXKtHyLb9gG62t5FoeV9MyvQ1foBcs0fI9X8IaKdK5HLtfjjOClHYUX7YIQRYxrZv1+YYSr3iBXv9iXGfpjGFIh+9mE7iL+4uv2IwY/EijirMJetmgkqHlZUrHjoymaA61y6dzJsGdRs3MEtAsspER6IS1Zy4Z93cbha8eTtoY9uX1+D38Odye3C9bB0G90b3Vpg5W8vP934Y/UnvZpnF0rfB+RhiJlL3aE8KbBsmLZEO/DSkb04GksinsrhsW2f4oHt69CczLiel7ZkFvGcH4nA43dzcsRPOgXTlqHy+9iK61VxKx4LJB9F7TLh1JLOotU2/qK+FvPe/RBbm9pc5159PIKGTMLFyR3ImSA33AmsxNmS9/XuhG6b3+7ORROU2Z71Hk5a7aH3BmfnEX0a+8OEZSY0PoW/9HhFD0Pu4/dldCf/F5gw3r6VCEsgjzdwU0R8eyRWxBCB5aunCuxpCHqqPLZHvX2pOjxNgp4Kh13G8UwerxxrwPN7a9CeyeFgKok7N67EE9vXoy3bheZMBh8c24ftbcc5nhKJXBeOmp/OrEkiO1DCflptQ5x31Xa89mwOO5NR2y/tXjeuibXjpd3V2NLc5MTI64f2YOYnb2LdwUNI2fq25uPY1HwMHXbcYoXp5Q3LZjg25sRyKsRQRGJFDDF6mgMvSUK7L2m9Dbee4E18OygqqDqcuLAENLERpi2VYNzExtrWw1jVdABJEzb7Ip24a9XbeG7LWvcBxa0txzF37dt4eVe1G9+zofUY5q1/D2/trnOHW3XkAOavegMr9+xy6+8dbsCyT1fg00OH3P337lQEW2PNaO+yNZeZAcWrVU6ChU6FTwgisSKGDCdU+VxhV4prDHyDwF9eCic0D6GXE3YW3wTXI1DgmBc+SLJrnGNfnHgxNy59veNgEqctPzqyWbTlsu6V78ZUCquPHERte6sb3dAQi+LdPTtQdbzJPTban4hhfXMjjlglxmPFTAzxO0Zubj2+SRZi5w9HPPCTDxxrU7S4cumtHhU8IYjEihgydLcDocWZgv2bhQMs+KyB7RiXTsj40QLhn/h2MMV49VJosGfEXeOWrnlLaz/WxS8pZMLkDWWES/5e9NI1jiB7uum9nb0q/AYNH0Nx+GvW5a+ZnOWi690p7twM43ZyGggxlJFYEUOGoA3osQSGxd+5h9gK775dr4C7H/evqYpviSUsNQPFA5dMQi54Rbsqx1pjf+WbK5PXFnR3KU2Pocjo3Xr3WqfI9G+J8Tg8me2ZN+njelJ6duExeU4+KqLdnbtoCUPIOAohQiRWxBCBTSILetAqBm1B2CRwC18g5eOFblxjSP9qPE6JXsnt7GZodSlp7nTyL227pO5JYi6d2uDPlxgO3uXC1ty+TqjQWH1hIjM4Xfdxae8tmooXhjIwjGAQ/u60EWKIIrEihgihWAmMa8V8s7CzqRUvfvIplr70Ju566S0s37AdBzt6TQ3G8Q+Bf/HN4eMdl+Ycq+J6qdj/EbS8phqYpNzkVm3hNATdbIOvD77CBDtwEeRosMX3tPT27TaaR+eHDu5E/Y0LWbAM7RbGrjakkofMKeUDG24+0ZsQQw6JFTFk8A2b/XJCOmsIOq3cP7BqO/589n24dMItGGHmonHT8Aelc/C/Fj6Klyr3uvEW7g63mAdlFilMsd6y4XPtLVe8pxMInb8p9Bse5gv3DY5/0mn6BYaNQ33dN6BcQPnFZn4C0pPtfB/t++9FPn7YbWeqdcfncxETYuggsSKGDlbZO7FiZYql6vG31uL3y2bh3AkzMcIEyojy+RhVtgAjJs3HheOm40+umYeXN1S5XYujqRMDHZY+X9eZzf79NPLBN4wKHUg23otjVVcj3fSWbY87n65HyIyKoBjKSKyIoQGLl2scfOX/2f5j+MsbluCCcdMwcvICXFI+DxdVzMdoM6PKF2K0meGX34gfzb0b+zsiPIIQfUAgPQqs8XpGUfEnF1mP6I5r0V55FSIH5gLZ+u7y6mpH9yPE0ERiRQwNXK3vyxhHo8z55Ru4aOw0XGiiZOTkRbjYxArNyMnzMKpigQmWJRg2cR7+qGwGfruhUu2E6CM4cNbqNCtQrHZd1Uu1kmlG/MBjiFddiVR1Kdp2jUWq7RXz5wcLu/pRhVAMYSRWxNCAxYuvgth/UyaHn975BM4bNxMXVCwzgbIYF1fMx0Xl8zFiylyMmszHQctwfrltmzQTi3/9tkqh6CNY2XJYt9co7u2kQgGFztWI7rgJ6aoxyFSPQWft5WhvWIJ84rB58EOG3YtpQgxRJFbE0CGo7ZuTWVx2+6M438TKyPLbMKJ8EUZXLHCPfoZdNQcXVczFxaVLcZ6JlRHls7DoF6+dMCGqEKcH6zRf6TpyTUgcvBfR6glIVZUgXXMlEjUT0VozBammN82Dfwzpa0ghhiYSK2JIwNLlB9cCSVtc+/gLGDbmFlw8aYmJlEUYWcFxKktw4dWzcXHFLPzexCU4zwTL6Cmz8fyHn7r9hDhdWA59KeTjIKt4bSXTvgbtu65CsnqMiZRJiNeMR7qqFLHqsYg0zEUhudvtEdaRQgxFJFbEkICli3PR+jlTgZe31uNfl8/C6LGzMWLKUgybsgQXmWgZPmWu61m5dOJiXDB+Hv7DtNux7fBxdwwhThc/gwz/WK9ZqUzH0bn/GbTWjkeyphTRugmI1ZcgUT0B8bofo33HFUg1vW1+07ZHr96YMwkvFjM+nDynl1dC9CcSK2JIwNLly5kvaW3ZLsx88kVccsX1OGfSApw7ZRlGmUgZXrEQwyYvw4Xj5+L3x07DnS99gChnS3VHEeJ0YY9KJpAqJp8j6xGpnY5EzVjEa8pNsIxHorYEERMssR3/aG7/iNiupSikdjvZcEbLIQ/Od6g5kMb0iZcqKfvNeHch+hGJFTF0YBFzg2x9WdvTGsV1D/8S/7xkJs4bczP+/xOn4v8suQXnjL8FfzR5Nha89D6a0hwMyX10dyn6AqvprAzyxbRCfj8ih+5FpPoKpGv/Hsnaf0SmcizSleNNpIxxg21z28YitvV6ZI4st107gmOcGfxVwfqWH0HwD019vUzlovIv+heJFTF0cPWu/bhvyHinY8ksXv60GlOffgU/vvtZXH7PM5j5wlt4vWoPWsP6ucsES5fKoegbwk6KRGQrju1YiEjNdYhV3YjOmqnoqL0JHfXXoG3H1YjU3oBE9Q1or74R7Q2PoCu10+94hmAt7C8MlnV+Dzu4TBhe9ayIfkZiRQwZXAnjD8UKC30whT6dOK1+Z6IL0WRYEg2z8OvLzp8qa9EHuOJnv+4RS6oZ2WgNumJbzVQhF9uJbKIK2dR2M7aeqERXYostbT2514ps1B/kjMBHPhYqH0BX3vm1cSdgQjch+hGJFTEkYOliMXf1sHOwckXT7dob85GnmLElreaiulr0BSx7FAF+HEjg4BZ+KGuw2oue+u/z2/oWFnd3kuCSKLhvFsXNYit0E6IfkVgRQ4ZQdPiSxt/QhfeUOWStAeEv5wwNPx8X+vL7CNEXsET57wFx7AprOD50oaGQcYXNKRfvr6cQnuFSyPPl2yxALbb0gSggau4WJokV0c9IrIihQ6+6ntbQ8LdgDUEXpzZn97c59rQLtLiWw60JcVqwGDnh4YWIlyhW/txYqoyVOz9bLbezDNKX2+6EhK2cKRguO3c8tgptLW9akTeR4s7HwbYmmM7kuYX4BkisiKGDL2IOVzcHxtHbobdxP7xAVFuLPqK7bGVtQTFgKyxeeQoUShWuULT4ksf3cpyb2+fU6dmddaod352W5wt7c5rQeegeHN85B4XETudGZ3/2nr2F6A8kVoQQYgjQIzcoTkwCmf7JFTiINu1cs5FViNZeg1jVJKSPvGR+Yl7QmAlnfxaiv5BYEUKIIYB7vEQTLEIR4nptcu2I73sEnVUVJlbGIbZzBgrRGu+X291SiP5DYkUIIYYErGN9DwltFCpuHK0t0x1rEK2+DrHqMiRq+SHFHyN94FdW/Qaz16pjRfQzEitCCDEUcFUs69OMq3HdqBiKkFwrIoceQLxqDKK1pYjVX4lk9d8jUj8Pufg+7mT7+kZCiP5CYkUIIYYCFCYFzvESM6FigoVVrtX9udZ1aK+/GsmaK9BZNxEdO8YhUXMlOqrLEG/kNP9J8+jHtQjRX0isCCHEUMBVsRy5kgnGqhiZo0jsewjRqnEmViYgVjsBnfW2NNGSqB5ry9nIR7fRI30L0W9IrAghxJDAKnr3arTvZOFvpuMjdNZdj8z2CUhWlSFRMw5RfvXZREumaixS28ci0fgz2429K0L0HxIrQvQBbq4K3n32Gozo56+wdX99CdGv+BlcvFhxP9nDSO57EPHKMmQryxGrmeR6VqJ14xGpG2P2MYjUTEDHzulA8lPuYLtxfhbb2R2E0OKeL7k1Ic4UEitC9AF+Ii+KE1u6osxGIWtLWw/EixD9CYslq3ovV1JItn6Mpurr0VZzGSLVVyBWORbx7eNNvIwzcyWi269EpHISOreWIXnwaXTlY7Yn62Pb31fXBi0SK+LMI7EiRF/hinAgWmyFq/5btsEspUL0J1YEw94VDphNdlQicvRFJI4/heTRZ5FufAaZxufM/MLMz5E58hzSR55H6vAvETu2Epls1PY8WawQlW1x5pFYEaIvCG4uvThhj4qtuE4VNg4SK6IYYCH1c9H60khb0hZWPvOsZxNmUmZoZxmm3b8JRMHtjPtS+cllWWVbnHkkVoToC1z/OqVKFnnOScF1M3wqxI8jCtHvuLEm/oGlfxvIV/wsnd0lNFwJTGj19MicE/kiNyH6FokVIfoCXkOFrC3C+SusYs/HzATrQvQ3LIdmvFhhTwl7TfzkcDn2pBQ4QJwKm/74wx7BtNmtDnZfiRai/5BYEeJ0YdFlfV5I2SIUKxGkI+uQzwUzgArR75jgsLLpOlicOLFCy7qfutpJFtbCvr/Fr/Htn+CRJsu0EP2IxIoQpwuLrl1DebszzboK3pziu3F8z91ItL1ra7xDJWEpJ86XtwpxVrDyRr3iih3VtRVaVq9Ow7BXpduLM36IeLBCI0Q/IrEixGnDu9Au5KwI8460UIgg1/gaottKEd1zG/IZ37uSh11s3O4qft6xBsKGq0L0B92FT6VQFDcSK0L0AQVTIL4UdyEfr0esbi5SWyeho+p6ZFrZu5K1rSnbatudQrEfM/7uVQ2FEEJ8FRIrQvQFdg25p/2FBDJHfo1E1VikK0sRqypDcu9SFLIHnLdAznh94npY+COxIoQQX4XEihCnC4uuv4aQS+xBbNdMZKp/jETNeCSqOYV5CdJtb1tB50MgevXDF33ZdopFCCHEVyCxIsRpw7JroiOfQ+TYy+iomeA+tx+tm4B4TYmZH6OzYaldbYedV15ufCRkpd3WzUF6RQghvhKJFSFOG5bdNPKx3WjbNRuR6jGI1/JjcOxVGY9E7eUmYMqRbXrLvJo/853n/BVu9lC3IoQQ4iuQWBGiD+An9FNHn0eiejySNfxi7SQkaiaZnY+CSpCoGoPo3gXIZ3Y7/16f+DLfsxRCCPFFSKwI8Y3wb+6cKC/4S9mRQ1eiCh27ZpgwGYNkLcVKiS35OGgiktX8BP9EdNZMQab5Ldsl5Z7+EA639dNwCeFLkx+obQXElRErH7TyzbHQie++O48sj0HNyR9nEWJwIrEixDfANwonNwz8scYk34H04UfRXjkJkepxiFX/xATKT81cgWSViZeqK0zEXIY2M+17lqKQrLdC78t19zGFMFgVc+bYUJBwBlm+6l6wn3whYabTVjK+WnRiJefLD39UkMQgRmJFiG+A71XhX7De3ULkkU42o33vc+ioX4bYzsWI7ZiH+I4FZhY6E9s1x0TKDWhuuAGNu+9Con2L7coxK0KcSHexcrLF97u5eXnsJxXdiETbB2aP0jWoM9nFwp4YWwgxiJFYEeIbcLJY8bChyCGfTyKXO45cV6OZg2YOmzmKbNcRMwftAjuAfMZMbj+6ckdtmfC7OmhRSyNCrDzYP3tMOB8PZ0V2Mx6nW9Cx7wFEds23Wnu3bcv4PhX3bMhqT9fLonIkBi8SK0J8A0KpcmJzwDVePGw2/B9LsncJDd0Meu21c4+VW50PIXxRsMLBUuPkCgtK3spU2ypEaq5HfPsEZI69atsTrnw5scKOFVuEdagQgxGJFSG+ASydoTmRwJXXEA1XQ/3Bddf4UMa4eWttyZLOz/PbmjtYsL8QhIXElREvfB3ZJiQP3It4VQky265E5+6FyGcOOh/uY4T278WKEIMXiRUhvgGhpPhCWUFHthS2LFjj4U1vd5ZuEyvOTkd+xJANjS2cB38BCuGLDcuE1XtBGcp1rkLnjilIVY1Bpmos2morkGp52zbGuvdwhgshBikSK0J8A3o1CZ8n2MCF77znRwt5bxzCCyzT09MSWtw+QcMkhMHS4OtCP2FgIZVB5NATaK/7KdI1Y5CoGYvO2vHo2LvQtvnvTRU4GzLfEHJlS4jBicSKEH2IH7nSW6gQrgXl2G1gq9Lbx4m+xRCGAsUJXhMfttLVuhEdNdMQrx2HhImUWE0p4jUT0FFfgkzzG+aFwphjW/i6s8qRGLxIrAghRLHQLVaMrmYkDz6EWOU4pDh/T+0EZ5K1JYjWXIFIw0LkU3tczenrT1+RCzEYkVgRQogigX1urI5ZG2Y7PkNn/fVI1fwDMiZWEjUTEa+9woRLiZkJaKstR6r5ZfOcCeaQ83WoEIMRiRUhhCgSWBVTsCDXjuiBZ9BZczlytf+AnImTZE2J+5p3pnosspX8mvcYdO6ZjUJit9vJveYsxCBFYkUIIYoEP9ophVT7WjTVzEBH1ZVImDCJVZYiUjURkcpJiFWNR3z7JFufgKaqciSPvWEqJ6ExK2JQI7EihBBFAufgAVqQaHsbbQfuQHzfnYjtvQfR/csQPbAUUVuP7rsNsX13mFmGiNnjR18xsdJo+/GVeCEGJxIrQghRJPCDhVYjo9DVbstjpj8itmyzDYdtedyqw2YzHeavxSpOc8seRyEdM/85dayIQY3EihBCFAluzAqrwkB5cOHckA1qyAK6zMI+FL41ZBucB+4TvEMkxKBEYkUIIYqYE2fu8Ta/FrqFnLwuxOBBYkUIIYQQRY3EihBCCCGKGokVIYQQQhQ1EitCCCGEKGokVoQQQghR1EisCCGEEKKokVgRQgghRFEjsSKEEEKIokZiRQghhBBFjcSKEEIIIYoaiRUhhBBCFDUSK0IIIYQoaiRWhBBCCFHUSKwIIYQQoqiRWBFCCCFEUSOxIoQQQoiiRmJFCCGEEEWNxIoQQgghihqJFSGEEEIUNRIrQgghhChqJFaEEEIIUdRIrAghhBCiqJFYEUIIIURRI7EihBBCiKJGYkUIIYQQRY3EihBCCCGKGokVIYQQQhQ1EitCCCGEKGokVoQQQghR1EisCCGEEKKokVgRQgghRFEjsSKEEEKIokZiRQghhBBFjcSKEEIIIYoaiRUhhBBCFDUSK0IIIYQoaiRWhBBCCFHUSKwIIYQQoqiRWBFCCCFEUSOxIoQQQoiiRmJFCCGEEEWNxIoQQgghihqJFSGEEEIUNRIrQgghhChqJFaEEEIIUdRIrAghhBCiqJFYEUIIIURRI7EihBBCiKJGYkUIIYQQRY3EihBCCCGKGokVIYQQQhQ1EitCCCGEKGokVoQQQghR1EisCCGEEKKokVgRQgghRFEjsSKEEEKIokZiRQghhBBFjcSKEEIIIYoaiRUhhBBCFDUSK0IIIYQoaiRWhBBCCFHUSKwIIYQQoqiRWBFCCCFEUSOxIoQQQoiiRmJFCCGEEEWNxIoQQgghihqJFSGEEEIUNRIrQgghhChqJFaEEEKIAUXeTM5aTf7hcwbosmWXa1fpk8a584crAxCJFSGEEGJAwfaSDbdvNz20h4Z4IeMFC3/pn+3pwGxTJVaEEEKIAURvSeJtYf8JG3MzBXNzHuiWNWvGlqHJmhl4SKwIIYQQAwi2lr7F/CIoVEyk0Lj2kw087XT3i4GIxIoQQggxgOCDnYJrGylKnINpE2+hu3sAFLjTizPhOs0ARGJFCCGEGEB4sZI1i7WbgfhIpDux49AmHEtUIoN250z94jpYAj9etfBRULfDgEFiRQghhBhA+LeAqETcitGFjvRevL7+Tvxq/Q34tOFJHDfRkkenbaNACWFjnzIjsXJKOJVIhWjEM0fx+pZr8eRH38fm/c87NyGEEEJ8OZ25eizfMhOPr/whnl7593h103XYdugptCa3WgubCHwZA0+nOIpCrKCQM8HnUzCWacDbm2/AMyt+YOrwUURyx5DMNpvhUkZGRkZGZmibBE3uOJLWPiZyR23ZjKOJjVi+9To8u/rv8Ozav8Uza77vzMubS7Gx4XG0JuqthR2YbwKRIulZySHvBgeZOszsxesbb8TPVv4P/OqzH+O17ddjuYmX5Zuvk5GRkZGRGeLmery25Vq8uuUaM1Ow3Mzrm27Ba59dixfW/wDPr/srPPfpD/CztX+PZ9dcgac++Qme+eTv8epnV2FTw3M4Ht/lWt2BRpGMWckiV+C4FSCZb8fWgy/i5yvH4qmPv48nPvorPLZSRkZGRkZGhubRld/HIx//wOzWRlo7+eQHP8ZTZp5b/QP8fM3f4bl1P8Szn/4Qz6wxobL2x3ja3J/8+G/w4tqbUHn0HTf0YqBRHI+BwKmB/fx6TrAU2rB9/3tYv+s5bGx4EhsOPIn1+5+QkZGRkZEZ4sbawwOPmXkU6w8+ZMuHsHH/z7B6zwP49cbx+Nnqf8DTa/8WT6//azy19q/wzOq/xm83TcK6PQ/jSHw70r3HrwwgimTMSmA+B98ESpuhhJGRkZGRkZE5scHku7QFtHXV47Vt1+Op1d/HE2t+gCdW/RAvbpiAtbsfxLEo3wwKxqvkT95/YFBcYsWlX5gZvei9XUZGRkZGZigbNpHhowiuG52ZBizfNBVPffy/8ZtNpVi1+34ciW03b76B796n66T2dYBQPANs3V8oU8LcCHKBg29lZGRkZGRk3Gy1frI3Ww9azUjyGFZsfgBrdzyA5gRFSpwe3Db64yRyeY4NDZwGGkUiVjKW3BQsPtmZlica/rGrS0ZGRkZGRiZsF12raQ1lLpdDR/wocoWIuQWwAXVwXGja9bIE/SwDjiIZYCuEEEII8cVIrAghhBCiqJFYEUIIIURRI7EihBBCDAL4jT2afD7f/b29wYLEihBCCDFASSaT2L9/v1uS3iKlra0NR44cGRTCRWJFCCGEGECEPSg08XgcS5YswTPPPBNs9XR0dGDGjBl45513ApeBjcSKEEIIMYAIhQof95DPPvsMEydORGVlpVsnTzzxhBMrkc5erzIPYCRWhBBCiAGFFyu9+fkvf4nrb7ge6WwSm7d+hrKKcuzdtzfYOvCRWBFCCCEGFBQqJ4qVaDyB+Yvm4c57bsO1N16D5W8sd+55NyHcwEdiRQghhBhQnChWckEjvv/QfvynP/8z3HTLjbbVb/ez3A58JFaEEEKIQcBb776JH/7NDzCpfBIOHznk3CRWeiGxIoQQQpwdOFylZ8yKX1ZWV2J8yThs2LQe99x3N+YtnIdMNuO2hb0sAxmJFSGEEGIAEb4NFAqWSKQTM2fNwLPPP+vWW9paMOWaKXj9TT9uZTAgsSKEEEIMJHoJlWw2g0cffwhTb7kJ8WTcuZFVaz7BTy7/MT7bvClwGdhIrAghhBADlMONB3DHXctQXePnWOkq5N1jH45VeeqZp/CLF37ePR/LQEZiRQghhBigsAHP530j/kVkc7nANrCRWBFCCCFEUSOxIoQQQoiiRmJFCCGEEEVNn4gVfjzptttuC9aEEEIIIfqOPhErDQ0N+M1vfhOsCSGEEEL0HX0iVoQQQgghzhQSK0IIIYQoaiRWhBBCCFHUSKwIIYQQoqiRWBFCCCFEUSOxIoQQQoiiRmJFCCGEEEWNxIoQQgghihqJFSGEEEIUNRIrQgghhChqJFaEEEIIUdRIrAghhBCiqJFYEUIIIURRI7EihBBCiKJGYkUIIYQQRY3EihBCCCGKmh6xAvx/ZAnQu8wNOKUAAAAASUVORK5CYII=)\n",
        "\n",
        "<div align=\"center\">\n",
        "    Imagen 2. K vecinos mas Cercanos\n",
        "</div>\n",
        "\n",
        "Los KNN representan el poder calcular la distancia, hallar los vecinos mas cercanos y votar por su respectiva clase.\n",
        "\n",
        "Existen medidas adecuadas para un mejor entorno, entre ellas están: \n",
        "\n",
        "Medida de distancia, limitada a vectores del valor real (p = 2)\n",
        "\n",
        "$$ \\sqrt{\\sum_{i\\ =\\ 1}^{k}{(x_i-y_i)}^2} $$\n",
        "\n",
        "<div align=\"center\">\n",
        "    Formula 4. Distancia Euclidiana\n",
        "</div>\n",
        "\n",
        "Mide le valor absoluto entre dos puntos (p = 2) \n",
        "\n",
        "$$ \\sum_{i\\ =\\ 1}^{k}{|x_i-\\ y_i|} $$\n",
        "\n",
        "<div align=\"center\">\n",
        "    Formula 5. Distancia Manhattan\n",
        "</div>\n",
        "\n",
        "Forma generalizada de las metricas, permite la creación de otras metricas a distancia.\n",
        "\n",
        "$$  \\left[\\sum_{i\\ =\\ 1}^{k}{(|x_i\\ -\\ y_i|)}^4\\right]^{1/4} $$\n",
        "\n",
        "<div align=\"center\">\n",
        "    Formula 6. Distancia Minkowski \n",
        "</div>"
      ],
      "metadata": {
        "id": "xxMdAbF65abL"
      }
    },
    {
      "cell_type": "markdown",
      "source": [
        "### 2.2. Desarrollo Computacional"
      ],
      "metadata": {
        "id": "Wu3TQSdHTM4R"
      }
    },
    {
      "cell_type": "markdown",
      "source": [
        "Para el desarrollo de computacional relacionado a este informe se uso el lenguaje de programación Python 3.10.8 y las siguientes librerías:\n",
        "\n",
        "matplotlib - permite graficar los resultados de los procesos.\n",
        "\n",
        "pandas - permite la manipulación y análisis de datos sobre tablas numéricas y series temporales.\n",
        "\n",
        "seaborn - es una biblioteca de visualización de datos de Python basada en matplotlib. Proporciona una interfaz de alto nivel para dibujar gráficos estadísticos atractivos e informativos.\n",
        "\n",
        "sklearn - scikit-learn es una biblioteca de aprendizaje automático de software gratuito para el lenguaje de programación Python."
      ],
      "metadata": {
        "id": "qY5Y4o7xlGrD"
      }
    },
    {
      "cell_type": "code",
      "source": [
        "import pandas as pd\n",
        "import matplotlib.pyplot as plt\n",
        "import seaborn as sns\n",
        "from sklearn.model_selection import train_test_split\n",
        "from sklearn.tree import DecisionTreeClassifier, plot_tree, export_graphviz\n",
        "from sklearn.metrics import accuracy_score\n",
        "from sklearn.ensemble import RandomForestClassifier\n",
        "from sklearn.neighbors import KNeighborsClassifier, kneighbors_graph"
      ],
      "metadata": {
        "id": "_DomLTD-jHIh"
      },
      "execution_count": null,
      "outputs": []
    },
    {
      "cell_type": "markdown",
      "source": [
        "#### 2.2.1. Preprocesamiento del dataset"
      ],
      "metadata": {
        "id": "YoGGX8uidNxk"
      }
    },
    {
      "cell_type": "markdown",
      "source": [
        "El método ``` dataset_preprocessing ``` aplica el siguiente preprocesamiento al dataset:\n",
        "* Elimina las columnas sin relevancia.\n",
        "* Renombra los nombres de las columnas a unos más manejables.\n",
        "* Cambia el tipo de dato categórico de sexo a uno numérico.\n",
        "* Ordena las columnas del dataset por relevancia.\n",
        "* Separa la columna target del dataset.\n",
        "* Separa los datos de entrenamiento y prueba.\n",
        "\n"
      ],
      "metadata": {
        "id": "RqGFsOTPh9kh"
      }
    },
    {
      "cell_type": "code",
      "source": [
        "from pandas.core.groupby.generic import DataFrameGroupBy\n",
        "def dataset_preprocessing(df):\n",
        "  '''Aplica el preprocesamiento de datos al dataset pasado en df'''\n",
        "\n",
        "  # Eliminamos las columnas que no nos interesan\n",
        "  columns_to_drop = ['Name', 'Fare']\n",
        "  # Name no tiene relevancia\n",
        "  # Fare (coste) está asociado a Pclass\n",
        "  df.drop(columns_to_drop, axis='columns', inplace=True)\n",
        "\n",
        "  # Renombramos las columnas\n",
        "  df.columns = ['Survived', 'Pclass', 'Sex', 'Age', 'SibSp', 'Parch']\n",
        "\n",
        "  # Cambiamos los tipos de datos para la columna Sex\n",
        "  df = pd.get_dummies(df, columns=['Sex'], drop_first=True)  # Male: 1, Female: 0\n",
        "  df.rename(columns={'Sex_male': 'Sex'}, inplace=True)\n",
        "\n",
        "  # Ordenar columnas por nombres\n",
        "  df = df[['Survived', 'Pclass', 'Sex', 'Age', 'SibSp', 'Parch']]\n",
        "\n",
        "  # Separamos en X e y\n",
        "  X = df.drop('Survived', axis=1)\n",
        "  y = df.Survived\n",
        "\n",
        "  # 30% para test y 70% para train\n",
        "  X_train, X_test, y_train, y_test = train_test_split(X, y, test_size=0.30, random_state=00000)\n",
        "\n",
        "  return X_train, X_test, y_train, y_test"
      ],
      "metadata": {
        "id": "up_8m3EvdNJy"
      },
      "execution_count": null,
      "outputs": []
    },
    {
      "cell_type": "markdown",
      "source": [
        "#### 2.2.2. Árboles de decisión"
      ],
      "metadata": {
        "id": "bgXOC-EPdGzT"
      }
    },
    {
      "cell_type": "markdown",
      "source": [
        "El método ``` decision_tree_model ``` crea el modelo y aplica el entrenamiento y predicción con los datos dados."
      ],
      "metadata": {
        "id": "m4Isq9Q6pvI4"
      }
    },
    {
      "cell_type": "code",
      "source": [
        "def decision_tree_model(X_train, X_test, y_train, y_test):\n",
        "  '''Aplicación del árbol de decisión, entrenamiento y predicción'''\n",
        "\n",
        "  # Creación del modelo\n",
        "  tree = DecisionTreeClassifier(criterion='entropy', max_depth=2, random_state=00000)\n",
        "\n",
        "  # Entrenamiento\n",
        "  tree.fit(X_train, y_train)\n",
        "\n",
        "  # Cálculo de las predicciones en Train y Test\n",
        "  y_train_pred = tree.predict(X_train)\n",
        "  y_test_pred = tree.predict(X_test)\n",
        "\n",
        "  return tree, y_train_pred, y_test_pred\n"
      ],
      "metadata": {
        "id": "xRcHzd4LdF6g"
      },
      "execution_count": null,
      "outputs": []
    },
    {
      "cell_type": "markdown",
      "source": [
        "El método ``` decision_tree_metrics ``` muestra las métricas del árbol de decisión."
      ],
      "metadata": {
        "id": "lSkrMjM2qmQF"
      }
    },
    {
      "cell_type": "code",
      "source": [
        "def decision_tree_metrics(y_train, y_train_pred, y_test, y_test_pred):\n",
        "  '''Muestra las métricas del árbol de decisión'''\n",
        "\n",
        "  # Cálculo el accuracy en Train\n",
        "  train_accuracy = accuracy_score(y_train, y_train_pred)\n",
        "\n",
        "  # Cálculo el accuracy en Test\n",
        "  test_accuracy = accuracy_score(y_test, y_test_pred)\n",
        "\n",
        "  print(f'El accuracy en train es: {train_accuracy}')\n",
        "  print(f'El accuracy en test es: {test_accuracy}')"
      ],
      "metadata": {
        "id": "Ya0-WYCgp9Bx"
      },
      "execution_count": null,
      "outputs": []
    },
    {
      "cell_type": "markdown",
      "source": [
        "El método ``` decision_tree_features_importance ``` grafica las feature importance del modelo."
      ],
      "metadata": {
        "id": "kdw8qLEXrP88"
      }
    },
    {
      "cell_type": "code",
      "source": [
        "def decision_tree_feature_importance(tree, X):\n",
        "  '''Grafica las feature importances'''\n",
        "  features_scores = pd.Series(\n",
        "      tree.feature_importances_, index=X.columns\n",
        "  ).sort_values(ascending=False)\n",
        "\n",
        "  sns.barplot(\n",
        "      x=features_scores,\n",
        "      y=features_scores.index,\n",
        "      palette='bright',\n",
        "      saturation=2.0,\n",
        "      edgecolor='black',\n",
        "      linewidth=2\n",
        "  )\n",
        "  plt.title('Importancia de cada Feature')\n",
        "  plt.show()"
      ],
      "metadata": {
        "id": "2pTJNXxCqwbI"
      },
      "execution_count": null,
      "outputs": []
    },
    {
      "cell_type": "markdown",
      "source": [
        "El método ``` decision_tree_plot ``` grafica el modelo.\n"
      ],
      "metadata": {
        "id": "wzKklCXQsY2o"
      }
    },
    {
      "cell_type": "code",
      "source": [
        "def decision_tree_plot(tree, X):\n",
        "  '''Grafica el árbol de decisión'''\n",
        "  plt.figure(figsize=(14, 8))\n",
        "  plot_tree(decision_tree=tree, feature_names=X.columns, filled=True, fontsize=10)"
      ],
      "metadata": {
        "id": "lLrbTVttrxIe"
      },
      "execution_count": null,
      "outputs": []
    },
    {
      "cell_type": "markdown",
      "source": [
        "#### 2.2.3. Random Forest"
      ],
      "metadata": {
        "id": "074M6i5IdYgS"
      }
    },
    {
      "cell_type": "markdown",
      "source": [
        "El método ``` random_forest_model ``` crea el modelo y aplica el entrenamiento y predicción con los datos dados."
      ],
      "metadata": {
        "id": "lOpFjD4q6BMY"
      }
    },
    {
      "cell_type": "code",
      "source": [
        "def random_forest_model(X_train, X_test, y_train, y_test):\n",
        "  '''Aplicación de random forest, entrenamiento y predicción'''\n",
        "\n",
        "  # Creación del modelo\n",
        "  rf = RandomForestClassifier(n_estimators=5, max_depth=2, criterion='entropy', random_state=0)\n",
        "\n",
        "  # Entrenamiento\n",
        "  rf.fit(X_train, y_train)\n",
        "\n",
        "  # Cálculo de las predicciones en Train y Test\n",
        "  y_train_pred = rf.predict(X_train)\n",
        "  y_test_pred = rf.predict(X_test)\n",
        "\n",
        "  return rf, y_train_pred, y_test_pred"
      ],
      "metadata": {
        "id": "7eVPBORZdYOM"
      },
      "execution_count": null,
      "outputs": []
    },
    {
      "cell_type": "markdown",
      "source": [
        "El método ``` random_forest_metrics ``` muestra las métricas de random forest."
      ],
      "metadata": {
        "id": "vlPJIW3v6GJu"
      }
    },
    {
      "cell_type": "code",
      "source": [
        "def random_forest_metrics(y_train, y_train_pred, y_test, y_test_pred):\n",
        "  '''Muestra las métricas de random forest'''\n",
        "\n",
        "  # Cálculo el accuracy en Train\n",
        "  train_accuracy = accuracy_score(y_train, y_train_pred)\n",
        "\n",
        "  # Cálculo el accuracy en Test\n",
        "  test_accuracy = accuracy_score(y_test, y_test_pred)\n",
        "\n",
        "  print(f'El accuracy en train es: {train_accuracy}')\n",
        "  print(f'El accuracy en test es: {test_accuracy}')"
      ],
      "metadata": {
        "id": "eoM-dQBJ6G5i"
      },
      "execution_count": null,
      "outputs": []
    },
    {
      "cell_type": "markdown",
      "source": [
        "El método ``` random_forest_features_importance ``` grafica las feature importance del modelo."
      ],
      "metadata": {
        "id": "PRt1qYUZ6lbE"
      }
    },
    {
      "cell_type": "code",
      "source": [
        "def random_forest_feature_importance(rf, X):\n",
        "  '''Grafica las feature importances'''\n",
        "  features_scores = pd.Series(\n",
        "      rf.feature_importances_, index=X.columns\n",
        "  ).sort_values(ascending=False)\n",
        "\n",
        "  sns.barplot(x=features_scores, y=features_scores.index)\n",
        "  plt.xlabel('Feature Importance Score')\n",
        "  plt.ylabel('Feature')\n",
        "  plt.title('Visualizando los Features Importantes')\n",
        "  plt.show()"
      ],
      "metadata": {
        "id": "9FNaKKiu6ko6"
      },
      "execution_count": null,
      "outputs": []
    },
    {
      "cell_type": "markdown",
      "source": [
        "El método ``` random_forest_plot ``` grafica el modelo."
      ],
      "metadata": {
        "id": "6B9Vq7BzNOh2"
      }
    },
    {
      "cell_type": "code",
      "source": [
        "def random_forest_plot(rf, X):\n",
        "  '''Grafica el random forest'''\n",
        "  plt.figure(figsize=(14, 8))\n",
        "  plot_tree(rf.estimators_[0], feature_names=X.columns, filled=True, fontsize=10)"
      ],
      "metadata": {
        "id": "w_MM8hhZLqqM"
      },
      "execution_count": null,
      "outputs": []
    },
    {
      "cell_type": "markdown",
      "source": [
        "#### 2.2.4. KNN (k-Nearest Neighbors)"
      ],
      "metadata": {
        "id": "gTITe6YYdcS5"
      }
    },
    {
      "cell_type": "markdown",
      "source": [
        "El método ``` knn_model ``` crea el modelo y aplica el entrenamiento y predicción con los datos dados."
      ],
      "metadata": {
        "id": "ALF39ClYOVCB"
      }
    },
    {
      "cell_type": "code",
      "source": [
        "def knn_model(X_train, X_test, y_train, y_test):\n",
        "  '''Aplicación del árbol de decisión, entrenamiento y predicción'''\n",
        "\n",
        "  # Creación del modelo\n",
        "  knn = KNeighborsClassifier(n_neighbors=2)\n",
        "\n",
        "  # Entrenamiento\n",
        "  knn.fit(X_train, y_train)\n",
        "\n",
        "  # Cálculo de las predicciones en Train y Test\n",
        "  y_train_pred = knn.predict(X_train)\n",
        "  y_test_pred = knn.predict(X_test)\n",
        "\n",
        "  return knn, y_train_pred, y_test_pred"
      ],
      "metadata": {
        "id": "x2YIoPeUdhWt"
      },
      "execution_count": null,
      "outputs": []
    },
    {
      "cell_type": "markdown",
      "source": [
        "El método ``` knn_metrics ``` muestra las métricas de KNN."
      ],
      "metadata": {
        "id": "vnNCuBD4PoqZ"
      }
    },
    {
      "cell_type": "code",
      "source": [
        "def knn_metrics(y_train, y_train_pred, y_test, y_test_pred):\n",
        "  '''Muestra las métricas del KNN'''\n",
        "\n",
        "  # Cálculo el accuracy en Train\n",
        "  train_accuracy = accuracy_score(y_train, y_train_pred)\n",
        "\n",
        "  # Cálculo el accuracy en Test\n",
        "  test_accuracy = accuracy_score(y_test, y_test_pred)\n",
        "\n",
        "  print(f'El accuracy en train es: {train_accuracy}')\n",
        "  print(f'El accuracy en test es: {test_accuracy}')"
      ],
      "metadata": {
        "id": "gvCbFR7xPd2D"
      },
      "execution_count": null,
      "outputs": []
    },
    {
      "cell_type": "markdown",
      "source": [
        "## 3. Problemas\n"
      ],
      "metadata": {
        "id": "63W9WFYXTP_h"
      }
    },
    {
      "cell_type": "markdown",
      "source": [
        "El dataset a emplear en este informe es brindado por *Stanford CS109* llamado *A Titanic Probability*, el cual da un dataset con 887 filas, entendiendose como pasajeros reales del *Titanic*, y posee las siguientes columnas:\n",
        "\n",
        "* 0: Survived Indicator - Indicador de supervivencia\n",
        "* 1: Passenger Class - Clase del pasajero\n",
        "* 2: Name - Nombre\n",
        "* 3: Sex - Sexo\n",
        "* 4: Age - Edad\n",
        "* 5: Siblings Aboard - Hermanos a bordo\n",
        "* 6: Parents Aboard - Padres a bordo\n",
        "* 7: Fare paid in £s - Tarifa pagada en £s\n",
        "\n",
        "Se comparará el rendimiento del dataset con los siguientes algoritmos **árboles de decisión**, ***random forest*** y ***KNN***."
      ],
      "metadata": {
        "id": "TQ2dVVrfadXr"
      }
    },
    {
      "cell_type": "markdown",
      "source": [
        "## 4. Resultados"
      ],
      "metadata": {
        "id": "9uu3GXu2TSlv"
      }
    },
    {
      "cell_type": "markdown",
      "source": [
        "### 4.1. Dataset"
      ],
      "metadata": {
        "id": "fZUu2_YFsrKe"
      }
    },
    {
      "cell_type": "markdown",
      "source": [
        "Se carga el dataset a utilizar"
      ],
      "metadata": {
        "id": "tETLKW1Rs4vT"
      }
    },
    {
      "cell_type": "code",
      "source": [
        "titanic = pd.read_csv(\n",
        "    'https://web.stanford.edu/class/archive/cs/cs109/cs109.1166/stuff/titanic.csv',\n",
        "    sep=','\n",
        ")"
      ],
      "metadata": {
        "id": "U5rN6Bu3sxyX"
      },
      "execution_count": null,
      "outputs": []
    },
    {
      "cell_type": "code",
      "source": [
        "titanic.head(10)"
      ],
      "metadata": {
        "colab": {
          "base_uri": "https://localhost:8080/",
          "height": 494
        },
        "id": "xB3m7kP4thoh",
        "outputId": "12566366-da51-4e8b-ad03-30cedb9a9497"
      },
      "execution_count": null,
      "outputs": [
        {
          "output_type": "execute_result",
          "data": {
            "text/plain": [
              "   Survived  Pclass                                               Name  \\\n",
              "0         0       3                             Mr. Owen Harris Braund   \n",
              "1         1       1  Mrs. John Bradley (Florence Briggs Thayer) Cum...   \n",
              "2         1       3                              Miss. Laina Heikkinen   \n",
              "3         1       1        Mrs. Jacques Heath (Lily May Peel) Futrelle   \n",
              "4         0       3                            Mr. William Henry Allen   \n",
              "5         0       3                                    Mr. James Moran   \n",
              "6         0       1                             Mr. Timothy J McCarthy   \n",
              "7         0       3                      Master. Gosta Leonard Palsson   \n",
              "8         1       3   Mrs. Oscar W (Elisabeth Vilhelmina Berg) Johnson   \n",
              "9         1       2                 Mrs. Nicholas (Adele Achem) Nasser   \n",
              "\n",
              "      Sex   Age  Siblings/Spouses Aboard  Parents/Children Aboard     Fare  \n",
              "0    male  22.0                        1                        0   7.2500  \n",
              "1  female  38.0                        1                        0  71.2833  \n",
              "2  female  26.0                        0                        0   7.9250  \n",
              "3  female  35.0                        1                        0  53.1000  \n",
              "4    male  35.0                        0                        0   8.0500  \n",
              "5    male  27.0                        0                        0   8.4583  \n",
              "6    male  54.0                        0                        0  51.8625  \n",
              "7    male   2.0                        3                        1  21.0750  \n",
              "8  female  27.0                        0                        2  11.1333  \n",
              "9  female  14.0                        1                        0  30.0708  "
            ],
            "text/html": [
              "\n",
              "  <div id=\"df-1d6b1c16-224b-470d-9f3e-ec773e1cd467\">\n",
              "    <div class=\"colab-df-container\">\n",
              "      <div>\n",
              "<style scoped>\n",
              "    .dataframe tbody tr th:only-of-type {\n",
              "        vertical-align: middle;\n",
              "    }\n",
              "\n",
              "    .dataframe tbody tr th {\n",
              "        vertical-align: top;\n",
              "    }\n",
              "\n",
              "    .dataframe thead th {\n",
              "        text-align: right;\n",
              "    }\n",
              "</style>\n",
              "<table border=\"1\" class=\"dataframe\">\n",
              "  <thead>\n",
              "    <tr style=\"text-align: right;\">\n",
              "      <th></th>\n",
              "      <th>Survived</th>\n",
              "      <th>Pclass</th>\n",
              "      <th>Name</th>\n",
              "      <th>Sex</th>\n",
              "      <th>Age</th>\n",
              "      <th>Siblings/Spouses Aboard</th>\n",
              "      <th>Parents/Children Aboard</th>\n",
              "      <th>Fare</th>\n",
              "    </tr>\n",
              "  </thead>\n",
              "  <tbody>\n",
              "    <tr>\n",
              "      <th>0</th>\n",
              "      <td>0</td>\n",
              "      <td>3</td>\n",
              "      <td>Mr. Owen Harris Braund</td>\n",
              "      <td>male</td>\n",
              "      <td>22.0</td>\n",
              "      <td>1</td>\n",
              "      <td>0</td>\n",
              "      <td>7.2500</td>\n",
              "    </tr>\n",
              "    <tr>\n",
              "      <th>1</th>\n",
              "      <td>1</td>\n",
              "      <td>1</td>\n",
              "      <td>Mrs. John Bradley (Florence Briggs Thayer) Cum...</td>\n",
              "      <td>female</td>\n",
              "      <td>38.0</td>\n",
              "      <td>1</td>\n",
              "      <td>0</td>\n",
              "      <td>71.2833</td>\n",
              "    </tr>\n",
              "    <tr>\n",
              "      <th>2</th>\n",
              "      <td>1</td>\n",
              "      <td>3</td>\n",
              "      <td>Miss. Laina Heikkinen</td>\n",
              "      <td>female</td>\n",
              "      <td>26.0</td>\n",
              "      <td>0</td>\n",
              "      <td>0</td>\n",
              "      <td>7.9250</td>\n",
              "    </tr>\n",
              "    <tr>\n",
              "      <th>3</th>\n",
              "      <td>1</td>\n",
              "      <td>1</td>\n",
              "      <td>Mrs. Jacques Heath (Lily May Peel) Futrelle</td>\n",
              "      <td>female</td>\n",
              "      <td>35.0</td>\n",
              "      <td>1</td>\n",
              "      <td>0</td>\n",
              "      <td>53.1000</td>\n",
              "    </tr>\n",
              "    <tr>\n",
              "      <th>4</th>\n",
              "      <td>0</td>\n",
              "      <td>3</td>\n",
              "      <td>Mr. William Henry Allen</td>\n",
              "      <td>male</td>\n",
              "      <td>35.0</td>\n",
              "      <td>0</td>\n",
              "      <td>0</td>\n",
              "      <td>8.0500</td>\n",
              "    </tr>\n",
              "    <tr>\n",
              "      <th>5</th>\n",
              "      <td>0</td>\n",
              "      <td>3</td>\n",
              "      <td>Mr. James Moran</td>\n",
              "      <td>male</td>\n",
              "      <td>27.0</td>\n",
              "      <td>0</td>\n",
              "      <td>0</td>\n",
              "      <td>8.4583</td>\n",
              "    </tr>\n",
              "    <tr>\n",
              "      <th>6</th>\n",
              "      <td>0</td>\n",
              "      <td>1</td>\n",
              "      <td>Mr. Timothy J McCarthy</td>\n",
              "      <td>male</td>\n",
              "      <td>54.0</td>\n",
              "      <td>0</td>\n",
              "      <td>0</td>\n",
              "      <td>51.8625</td>\n",
              "    </tr>\n",
              "    <tr>\n",
              "      <th>7</th>\n",
              "      <td>0</td>\n",
              "      <td>3</td>\n",
              "      <td>Master. Gosta Leonard Palsson</td>\n",
              "      <td>male</td>\n",
              "      <td>2.0</td>\n",
              "      <td>3</td>\n",
              "      <td>1</td>\n",
              "      <td>21.0750</td>\n",
              "    </tr>\n",
              "    <tr>\n",
              "      <th>8</th>\n",
              "      <td>1</td>\n",
              "      <td>3</td>\n",
              "      <td>Mrs. Oscar W (Elisabeth Vilhelmina Berg) Johnson</td>\n",
              "      <td>female</td>\n",
              "      <td>27.0</td>\n",
              "      <td>0</td>\n",
              "      <td>2</td>\n",
              "      <td>11.1333</td>\n",
              "    </tr>\n",
              "    <tr>\n",
              "      <th>9</th>\n",
              "      <td>1</td>\n",
              "      <td>2</td>\n",
              "      <td>Mrs. Nicholas (Adele Achem) Nasser</td>\n",
              "      <td>female</td>\n",
              "      <td>14.0</td>\n",
              "      <td>1</td>\n",
              "      <td>0</td>\n",
              "      <td>30.0708</td>\n",
              "    </tr>\n",
              "  </tbody>\n",
              "</table>\n",
              "</div>\n",
              "      <button class=\"colab-df-convert\" onclick=\"convertToInteractive('df-1d6b1c16-224b-470d-9f3e-ec773e1cd467')\"\n",
              "              title=\"Convert this dataframe to an interactive table.\"\n",
              "              style=\"display:none;\">\n",
              "        \n",
              "  <svg xmlns=\"http://www.w3.org/2000/svg\" height=\"24px\"viewBox=\"0 0 24 24\"\n",
              "       width=\"24px\">\n",
              "    <path d=\"M0 0h24v24H0V0z\" fill=\"none\"/>\n",
              "    <path d=\"M18.56 5.44l.94 2.06.94-2.06 2.06-.94-2.06-.94-.94-2.06-.94 2.06-2.06.94zm-11 1L8.5 8.5l.94-2.06 2.06-.94-2.06-.94L8.5 2.5l-.94 2.06-2.06.94zm10 10l.94 2.06.94-2.06 2.06-.94-2.06-.94-.94-2.06-.94 2.06-2.06.94z\"/><path d=\"M17.41 7.96l-1.37-1.37c-.4-.4-.92-.59-1.43-.59-.52 0-1.04.2-1.43.59L10.3 9.45l-7.72 7.72c-.78.78-.78 2.05 0 2.83L4 21.41c.39.39.9.59 1.41.59.51 0 1.02-.2 1.41-.59l7.78-7.78 2.81-2.81c.8-.78.8-2.07 0-2.86zM5.41 20L4 18.59l7.72-7.72 1.47 1.35L5.41 20z\"/>\n",
              "  </svg>\n",
              "      </button>\n",
              "      \n",
              "  <style>\n",
              "    .colab-df-container {\n",
              "      display:flex;\n",
              "      flex-wrap:wrap;\n",
              "      gap: 12px;\n",
              "    }\n",
              "\n",
              "    .colab-df-convert {\n",
              "      background-color: #E8F0FE;\n",
              "      border: none;\n",
              "      border-radius: 50%;\n",
              "      cursor: pointer;\n",
              "      display: none;\n",
              "      fill: #1967D2;\n",
              "      height: 32px;\n",
              "      padding: 0 0 0 0;\n",
              "      width: 32px;\n",
              "    }\n",
              "\n",
              "    .colab-df-convert:hover {\n",
              "      background-color: #E2EBFA;\n",
              "      box-shadow: 0px 1px 2px rgba(60, 64, 67, 0.3), 0px 1px 3px 1px rgba(60, 64, 67, 0.15);\n",
              "      fill: #174EA6;\n",
              "    }\n",
              "\n",
              "    [theme=dark] .colab-df-convert {\n",
              "      background-color: #3B4455;\n",
              "      fill: #D2E3FC;\n",
              "    }\n",
              "\n",
              "    [theme=dark] .colab-df-convert:hover {\n",
              "      background-color: #434B5C;\n",
              "      box-shadow: 0px 1px 3px 1px rgba(0, 0, 0, 0.15);\n",
              "      filter: drop-shadow(0px 1px 2px rgba(0, 0, 0, 0.3));\n",
              "      fill: #FFFFFF;\n",
              "    }\n",
              "  </style>\n",
              "\n",
              "      <script>\n",
              "        const buttonEl =\n",
              "          document.querySelector('#df-1d6b1c16-224b-470d-9f3e-ec773e1cd467 button.colab-df-convert');\n",
              "        buttonEl.style.display =\n",
              "          google.colab.kernel.accessAllowed ? 'block' : 'none';\n",
              "\n",
              "        async function convertToInteractive(key) {\n",
              "          const element = document.querySelector('#df-1d6b1c16-224b-470d-9f3e-ec773e1cd467');\n",
              "          const dataTable =\n",
              "            await google.colab.kernel.invokeFunction('convertToInteractive',\n",
              "                                                     [key], {});\n",
              "          if (!dataTable) return;\n",
              "\n",
              "          const docLinkHtml = 'Like what you see? Visit the ' +\n",
              "            '<a target=\"_blank\" href=https://colab.research.google.com/notebooks/data_table.ipynb>data table notebook</a>'\n",
              "            + ' to learn more about interactive tables.';\n",
              "          element.innerHTML = '';\n",
              "          dataTable['output_type'] = 'display_data';\n",
              "          await google.colab.output.renderOutput(dataTable, element);\n",
              "          const docLink = document.createElement('div');\n",
              "          docLink.innerHTML = docLinkHtml;\n",
              "          element.appendChild(docLink);\n",
              "        }\n",
              "      </script>\n",
              "    </div>\n",
              "  </div>\n",
              "  "
            ]
          },
          "metadata": {},
          "execution_count": 14
        }
      ]
    },
    {
      "cell_type": "markdown",
      "source": [
        "<div align=\"center\">\n",
        "    Tabla 1. Dataset Titanic\n",
        "</div>"
      ],
      "metadata": {
        "id": "9ysIA5wFyxFH"
      }
    },
    {
      "cell_type": "markdown",
      "source": [
        "Se aplica el preprocesamiento al **dataset**"
      ],
      "metadata": {
        "id": "HONfKvUds_tY"
      }
    },
    {
      "cell_type": "code",
      "source": [
        "X_train, X_test, y_train, y_test = dataset_preprocessing(titanic)"
      ],
      "metadata": {
        "id": "37mLaz_8s_Da"
      },
      "execution_count": null,
      "outputs": []
    },
    {
      "cell_type": "code",
      "source": [
        "X_train.head(10)"
      ],
      "metadata": {
        "colab": {
          "base_uri": "https://localhost:8080/",
          "height": 363
        },
        "id": "89lAlrBOt53h",
        "outputId": "e4625821-8f9b-4ffe-b722-ebc7c86621ad"
      },
      "execution_count": null,
      "outputs": [
        {
          "output_type": "execute_result",
          "data": {
            "text/plain": [
              "     Pclass  Sex   Age  SibSp  Parch\n",
              "350       3    1  15.0      1      1\n",
              "124       3    1  12.0      1      0\n",
              "577       2    0  25.0      1      1\n",
              "422       3    1  54.0      0      0\n",
              "118       3    0   2.0      4      2\n",
              "12        3    1  20.0      0      0\n",
              "157       3    1  37.0      0      0\n",
              "127       3    0   2.0      1      1\n",
              "424       2    0  19.0      0      0\n",
              "235       2    1  44.0      1      0"
            ],
            "text/html": [
              "\n",
              "  <div id=\"df-8589e901-1731-4569-9517-a43996ce1065\">\n",
              "    <div class=\"colab-df-container\">\n",
              "      <div>\n",
              "<style scoped>\n",
              "    .dataframe tbody tr th:only-of-type {\n",
              "        vertical-align: middle;\n",
              "    }\n",
              "\n",
              "    .dataframe tbody tr th {\n",
              "        vertical-align: top;\n",
              "    }\n",
              "\n",
              "    .dataframe thead th {\n",
              "        text-align: right;\n",
              "    }\n",
              "</style>\n",
              "<table border=\"1\" class=\"dataframe\">\n",
              "  <thead>\n",
              "    <tr style=\"text-align: right;\">\n",
              "      <th></th>\n",
              "      <th>Pclass</th>\n",
              "      <th>Sex</th>\n",
              "      <th>Age</th>\n",
              "      <th>SibSp</th>\n",
              "      <th>Parch</th>\n",
              "    </tr>\n",
              "  </thead>\n",
              "  <tbody>\n",
              "    <tr>\n",
              "      <th>350</th>\n",
              "      <td>3</td>\n",
              "      <td>1</td>\n",
              "      <td>15.0</td>\n",
              "      <td>1</td>\n",
              "      <td>1</td>\n",
              "    </tr>\n",
              "    <tr>\n",
              "      <th>124</th>\n",
              "      <td>3</td>\n",
              "      <td>1</td>\n",
              "      <td>12.0</td>\n",
              "      <td>1</td>\n",
              "      <td>0</td>\n",
              "    </tr>\n",
              "    <tr>\n",
              "      <th>577</th>\n",
              "      <td>2</td>\n",
              "      <td>0</td>\n",
              "      <td>25.0</td>\n",
              "      <td>1</td>\n",
              "      <td>1</td>\n",
              "    </tr>\n",
              "    <tr>\n",
              "      <th>422</th>\n",
              "      <td>3</td>\n",
              "      <td>1</td>\n",
              "      <td>54.0</td>\n",
              "      <td>0</td>\n",
              "      <td>0</td>\n",
              "    </tr>\n",
              "    <tr>\n",
              "      <th>118</th>\n",
              "      <td>3</td>\n",
              "      <td>0</td>\n",
              "      <td>2.0</td>\n",
              "      <td>4</td>\n",
              "      <td>2</td>\n",
              "    </tr>\n",
              "    <tr>\n",
              "      <th>12</th>\n",
              "      <td>3</td>\n",
              "      <td>1</td>\n",
              "      <td>20.0</td>\n",
              "      <td>0</td>\n",
              "      <td>0</td>\n",
              "    </tr>\n",
              "    <tr>\n",
              "      <th>157</th>\n",
              "      <td>3</td>\n",
              "      <td>1</td>\n",
              "      <td>37.0</td>\n",
              "      <td>0</td>\n",
              "      <td>0</td>\n",
              "    </tr>\n",
              "    <tr>\n",
              "      <th>127</th>\n",
              "      <td>3</td>\n",
              "      <td>0</td>\n",
              "      <td>2.0</td>\n",
              "      <td>1</td>\n",
              "      <td>1</td>\n",
              "    </tr>\n",
              "    <tr>\n",
              "      <th>424</th>\n",
              "      <td>2</td>\n",
              "      <td>0</td>\n",
              "      <td>19.0</td>\n",
              "      <td>0</td>\n",
              "      <td>0</td>\n",
              "    </tr>\n",
              "    <tr>\n",
              "      <th>235</th>\n",
              "      <td>2</td>\n",
              "      <td>1</td>\n",
              "      <td>44.0</td>\n",
              "      <td>1</td>\n",
              "      <td>0</td>\n",
              "    </tr>\n",
              "  </tbody>\n",
              "</table>\n",
              "</div>\n",
              "      <button class=\"colab-df-convert\" onclick=\"convertToInteractive('df-8589e901-1731-4569-9517-a43996ce1065')\"\n",
              "              title=\"Convert this dataframe to an interactive table.\"\n",
              "              style=\"display:none;\">\n",
              "        \n",
              "  <svg xmlns=\"http://www.w3.org/2000/svg\" height=\"24px\"viewBox=\"0 0 24 24\"\n",
              "       width=\"24px\">\n",
              "    <path d=\"M0 0h24v24H0V0z\" fill=\"none\"/>\n",
              "    <path d=\"M18.56 5.44l.94 2.06.94-2.06 2.06-.94-2.06-.94-.94-2.06-.94 2.06-2.06.94zm-11 1L8.5 8.5l.94-2.06 2.06-.94-2.06-.94L8.5 2.5l-.94 2.06-2.06.94zm10 10l.94 2.06.94-2.06 2.06-.94-2.06-.94-.94-2.06-.94 2.06-2.06.94z\"/><path d=\"M17.41 7.96l-1.37-1.37c-.4-.4-.92-.59-1.43-.59-.52 0-1.04.2-1.43.59L10.3 9.45l-7.72 7.72c-.78.78-.78 2.05 0 2.83L4 21.41c.39.39.9.59 1.41.59.51 0 1.02-.2 1.41-.59l7.78-7.78 2.81-2.81c.8-.78.8-2.07 0-2.86zM5.41 20L4 18.59l7.72-7.72 1.47 1.35L5.41 20z\"/>\n",
              "  </svg>\n",
              "      </button>\n",
              "      \n",
              "  <style>\n",
              "    .colab-df-container {\n",
              "      display:flex;\n",
              "      flex-wrap:wrap;\n",
              "      gap: 12px;\n",
              "    }\n",
              "\n",
              "    .colab-df-convert {\n",
              "      background-color: #E8F0FE;\n",
              "      border: none;\n",
              "      border-radius: 50%;\n",
              "      cursor: pointer;\n",
              "      display: none;\n",
              "      fill: #1967D2;\n",
              "      height: 32px;\n",
              "      padding: 0 0 0 0;\n",
              "      width: 32px;\n",
              "    }\n",
              "\n",
              "    .colab-df-convert:hover {\n",
              "      background-color: #E2EBFA;\n",
              "      box-shadow: 0px 1px 2px rgba(60, 64, 67, 0.3), 0px 1px 3px 1px rgba(60, 64, 67, 0.15);\n",
              "      fill: #174EA6;\n",
              "    }\n",
              "\n",
              "    [theme=dark] .colab-df-convert {\n",
              "      background-color: #3B4455;\n",
              "      fill: #D2E3FC;\n",
              "    }\n",
              "\n",
              "    [theme=dark] .colab-df-convert:hover {\n",
              "      background-color: #434B5C;\n",
              "      box-shadow: 0px 1px 3px 1px rgba(0, 0, 0, 0.15);\n",
              "      filter: drop-shadow(0px 1px 2px rgba(0, 0, 0, 0.3));\n",
              "      fill: #FFFFFF;\n",
              "    }\n",
              "  </style>\n",
              "\n",
              "      <script>\n",
              "        const buttonEl =\n",
              "          document.querySelector('#df-8589e901-1731-4569-9517-a43996ce1065 button.colab-df-convert');\n",
              "        buttonEl.style.display =\n",
              "          google.colab.kernel.accessAllowed ? 'block' : 'none';\n",
              "\n",
              "        async function convertToInteractive(key) {\n",
              "          const element = document.querySelector('#df-8589e901-1731-4569-9517-a43996ce1065');\n",
              "          const dataTable =\n",
              "            await google.colab.kernel.invokeFunction('convertToInteractive',\n",
              "                                                     [key], {});\n",
              "          if (!dataTable) return;\n",
              "\n",
              "          const docLinkHtml = 'Like what you see? Visit the ' +\n",
              "            '<a target=\"_blank\" href=https://colab.research.google.com/notebooks/data_table.ipynb>data table notebook</a>'\n",
              "            + ' to learn more about interactive tables.';\n",
              "          element.innerHTML = '';\n",
              "          dataTable['output_type'] = 'display_data';\n",
              "          await google.colab.output.renderOutput(dataTable, element);\n",
              "          const docLink = document.createElement('div');\n",
              "          docLink.innerHTML = docLinkHtml;\n",
              "          element.appendChild(docLink);\n",
              "        }\n",
              "      </script>\n",
              "    </div>\n",
              "  </div>\n",
              "  "
            ]
          },
          "metadata": {},
          "execution_count": 16
        }
      ]
    },
    {
      "cell_type": "markdown",
      "source": [
        "<div align=\"center\">\n",
        "    Tabla 2. Datos dependientes de entrenamiento\n",
        "</div>"
      ],
      "metadata": {
        "id": "NlcoXav0zIeP"
      }
    },
    {
      "cell_type": "markdown",
      "source": [
        "### 4.2. Árboles de decisión"
      ],
      "metadata": {
        "id": "yNC1dU-ZzitR"
      }
    },
    {
      "cell_type": "markdown",
      "source": [
        "Definición, entrenamiento y predicción del modelo"
      ],
      "metadata": {
        "id": "l7cHpBRYzx7H"
      }
    },
    {
      "cell_type": "code",
      "source": [
        "tree, y_train_pred, y_test_pred = decision_tree_model(X_train, X_test, y_train, y_test)"
      ],
      "metadata": {
        "id": "xmk9Gv9Pz457"
      },
      "execution_count": null,
      "outputs": []
    },
    {
      "cell_type": "code",
      "source": [
        "decision_tree_plot(tree, X_train)"
      ],
      "metadata": {
        "colab": {
          "base_uri": "https://localhost:8080/",
          "height": 466
        },
        "id": "b5fBbfFZ0Xkl",
        "outputId": "501f8cf0-d1b4-4d1e-b472-ba424e5f048c"
      },
      "execution_count": null,
      "outputs": [
        {
          "output_type": "display_data",
          "data": {
            "text/plain": [
              "<Figure size 1008x576 with 1 Axes>"
            ],
            "image/png": "[encoded data removed]"
          },
          "metadata": {
            "needs_background": "light"
          }
        }
      ]
    },
    {
      "cell_type": "markdown",
      "source": [
        "<div align=\"center\">\n",
        "    Imagen 3. Árbol de decisión\n",
        "</div>"
      ],
      "metadata": {
        "id": "cHFJ7vPc0vUR"
      }
    },
    {
      "cell_type": "markdown",
      "source": [
        "Métricas del modelo del árbol de decisión."
      ],
      "metadata": {
        "id": "ahUYsZZE06c2"
      }
    },
    {
      "cell_type": "code",
      "source": [
        "decision_tree_metrics(y_train, y_train_pred, y_test, y_test_pred)"
      ],
      "metadata": {
        "colab": {
          "base_uri": "https://localhost:8080/"
        },
        "id": "66xVjR2B1BV-",
        "outputId": "616d537c-31ab-43a7-d92f-18f490477eeb"
      },
      "execution_count": null,
      "outputs": [
        {
          "output_type": "stream",
          "name": "stdout",
          "text": [
            "El accuracy en train es: 0.8032258064516129\n",
            "El accuracy en test es: 0.7640449438202247\n"
          ]
        }
      ]
    },
    {
      "cell_type": "markdown",
      "source": [
        "Variables dependientes con importancias en el modelo."
      ],
      "metadata": {
        "id": "U4dzkDMx1Ufn"
      }
    },
    {
      "cell_type": "code",
      "source": [
        "decision_tree_feature_importance(tree, X_train)"
      ],
      "metadata": {
        "colab": {
          "base_uri": "https://localhost:8080/",
          "height": 281
        },
        "id": "tCLJjMXM1fVC",
        "outputId": "65cece43-d16c-4994-c84d-4dfc2ec816b7"
      },
      "execution_count": null,
      "outputs": [
        {
          "output_type": "display_data",
          "data": {
            "text/plain": [
              "<Figure size 432x288 with 1 Axes>"
            ],
            "image/png": "[encoded data removed]"
          },
          "metadata": {
            "needs_background": "light"
          }
        }
      ]
    },
    {
      "cell_type": "markdown",
      "source": [
        "<div align=\"center\">\n",
        "    Imagen 4. Feature importance del modelo de árbol de decisión\n",
        "</div>"
      ],
      "metadata": {
        "id": "r_6hIyYU4avD"
      }
    },
    {
      "cell_type": "markdown",
      "source": [
        "### 4.3. Random Forest"
      ],
      "metadata": {
        "id": "o_6_M0uN7G6F"
      }
    },
    {
      "cell_type": "markdown",
      "source": [
        "Definición, entrenamiento y predicción del modelo"
      ],
      "metadata": {
        "id": "R86sejfH7q5Q"
      }
    },
    {
      "cell_type": "code",
      "source": [
        "rf, y_train_pred, y_test_pred = random_forest_model(X_train, X_test, y_train, y_test)"
      ],
      "metadata": {
        "id": "K51YHH1S7rqR"
      },
      "execution_count": null,
      "outputs": []
    },
    {
      "cell_type": "code",
      "source": [
        "random_forest_plot(rf, X_train)"
      ],
      "metadata": {
        "colab": {
          "base_uri": "https://localhost:8080/",
          "height": 466
        },
        "id": "gs3hN4YcL5DF",
        "outputId": "61e59471-8a2c-44db-fcbe-13a91aea7d93"
      },
      "execution_count": null,
      "outputs": [
        {
          "output_type": "display_data",
          "data": {
            "text/plain": [
              "<Figure size 1008x576 with 1 Axes>"
            ],
            "image/png": "[encoded data removed]"
          },
          "metadata": {
            "needs_background": "light"
          }
        }
      ]
    },
    {
      "cell_type": "markdown",
      "source": [
        "<div align=\"center\">\n",
        "    Imagen 5. Primer árbol de decisión del modelo random forest\n",
        "</div>"
      ],
      "metadata": {
        "id": "VhViCcJpMpr1"
      }
    },
    {
      "cell_type": "markdown",
      "source": [
        "Métricas del modelo del árbol de decisión."
      ],
      "metadata": {
        "id": "yblLJ2N08NOA"
      }
    },
    {
      "cell_type": "code",
      "source": [
        "random_forest_metrics(y_train, y_train_pred, y_test, y_test_pred)"
      ],
      "metadata": {
        "colab": {
          "base_uri": "https://localhost:8080/"
        },
        "id": "VCZMIfIp8OUd",
        "outputId": "2f27b449-bb6a-4a74-e80c-b44806e56cf3"
      },
      "execution_count": null,
      "outputs": [
        {
          "output_type": "stream",
          "name": "stdout",
          "text": [
            "El accuracy en train es: 0.8064516129032258\n",
            "El accuracy en test es: 0.7752808988764045\n"
          ]
        }
      ]
    },
    {
      "cell_type": "markdown",
      "source": [
        "Variables dependientes con importancias en el modelo."
      ],
      "metadata": {
        "id": "QjqI1uBH8Wfe"
      }
    },
    {
      "cell_type": "code",
      "source": [
        "random_forest_feature_importance(rf, X_train)"
      ],
      "metadata": {
        "colab": {
          "base_uri": "https://localhost:8080/",
          "height": 295
        },
        "id": "jN_DZ-mx8ZqG",
        "outputId": "874070c2-01b9-4ca5-afc0-01fe5977ea88"
      },
      "execution_count": null,
      "outputs": [
        {
          "output_type": "display_data",
          "data": {
            "text/plain": [
              "<Figure size 432x288 with 1 Axes>"
            ],
            "image/png": "[encoded data removed]"
          },
          "metadata": {
            "needs_background": "light"
          }
        }
      ]
    },
    {
      "cell_type": "markdown",
      "source": [
        "<div align=\"center\">\n",
        "    Imagen 6. Feature importance del modelo de random forest\n",
        "</div>"
      ],
      "metadata": {
        "id": "7JThWSq88vWQ"
      }
    },
    {
      "cell_type": "markdown",
      "source": [
        "### 4.4. KNN (K-Nearest Neighbors)"
      ],
      "metadata": {
        "id": "40RYo1k27NBA"
      }
    },
    {
      "cell_type": "markdown",
      "source": [
        "Definición, entrenamiento y predicción del modelo"
      ],
      "metadata": {
        "id": "S78ke4pjRWg9"
      }
    },
    {
      "cell_type": "code",
      "source": [
        "knn, y_train_pred, y_test_pred = knn_model(X_train, X_test, y_train, y_test)"
      ],
      "metadata": {
        "id": "S3t-7sRpRWg-"
      },
      "execution_count": null,
      "outputs": []
    },
    {
      "cell_type": "markdown",
      "source": [
        "Métricas del modelo del árbol de decisión."
      ],
      "metadata": {
        "id": "eKuB8wqRRWg-"
      }
    },
    {
      "cell_type": "code",
      "source": [
        "knn_metrics(y_train, y_train_pred, y_test, y_test_pred)"
      ],
      "metadata": {
        "colab": {
          "base_uri": "https://localhost:8080/"
        },
        "outputId": "ebd9984f-7e0c-4835-ec37-0f4eb311b619",
        "id": "SutdK8uJRWg_"
      },
      "execution_count": null,
      "outputs": [
        {
          "output_type": "stream",
          "name": "stdout",
          "text": [
            "El accuracy en train es: 0.8419354838709677\n",
            "El accuracy en test es: 0.7340823970037453\n"
          ]
        }
      ]
    },
    {
      "cell_type": "markdown",
      "source": [
        "### 4.5. Benchmarking"
      ],
      "metadata": {
        "id": "_wnZaDvC7XD5"
      }
    },
    {
      "cell_type": "markdown",
      "source": [
        "Se evalua gráficamente los resultados de las métricas de los tres modelos."
      ],
      "metadata": {
        "id": "zfsYLf6C9Ba-"
      }
    },
    {
      "cell_type": "code",
      "source": [
        "features_scores = pd.Series(\n",
        "    [\n",
        "        0.8032258064516129, 0.7640449438202247,\n",
        "        0.9064516129032258, 0.7902621722846442,\n",
        "        0.8419354838709677, 0.7340823970037453\n",
        "\n",
        "     ], index=[\n",
        "        'Decision Tree (train)',\n",
        "        'Decision Tree (test)',\n",
        "        'Random Forest (train)', \n",
        "        'Random Forest (test)', \n",
        "        'KNN (train)',\n",
        "        'KNN (test)'\n",
        "    ]\n",
        ")\n",
        "\n",
        "sns.barplot(\n",
        "    x=features_scores,\n",
        "    y=features_scores.index,\n",
        "    palette='bright',\n",
        "    saturation=2.0,\n",
        "    edgecolor='black',\n",
        "    linewidth=2\n",
        ")\n",
        "plt.xlabel('Métrica')\n",
        "plt.ylabel('Modelo')\n",
        "plt.title('Benchmarcking de métricas')\n",
        "plt.show()"
      ],
      "metadata": {
        "colab": {
          "base_uri": "https://localhost:8080/",
          "height": 295
        },
        "id": "n-W0BqCt9YTt",
        "outputId": "caaa952c-e03e-45ad-d086-4318c64fd97d"
      },
      "execution_count": null,
      "outputs": [
        {
          "output_type": "display_data",
          "data": {
            "text/plain": [
              "<Figure size 432x288 with 1 Axes>"
            ],
            "image/png": "[encoded data removed]"
          },
          "metadata": {
            "needs_background": "light"
          }
        }
      ]
    },
    {
      "cell_type": "markdown",
      "source": [
        "<div align=\"center\">\n",
        "    Imagen 7. Benchmarking de las métricas\n",
        "</div>"
      ],
      "metadata": {
        "id": "EP3gBBss-j_y"
      }
    },
    {
      "cell_type": "markdown",
      "source": [
        "## 5. Conclusiones\n",
        "\n",
        "Después de realizar la clasificación del dataset *Titanic* en cada uno de los tres modelos expuestos con anterioridad, se puede concluir lo siguiente:\n",
        "\n",
        "* El árbol de decisión es una técnica sencilla que funciona bien para conjuntos de datos pequeños; aunque sus metricas se evidencian en un rango menor al de los otros modelos, este brinda más seguridad en los supositorios entrenados ya que sus datos de entrenamiento y prueba se distancian con un intevalo mínimo. También se puede apreciar en la imagen 4, que le da demasiada importancia a una sola variable dependiente.\n",
        "\n",
        "* El random forest es una técnica que combina varios árboles de decisión para mejorar la precisión y reducir el sobreajuste; sus métricas evidencian un alto nivel de predicción en sus clasificaciones, pero, dista mucho de las métricas de entrenamiento y prueba, dando así un porcentaje mayor de supositorio falsos, en comparación al modelo anterior, esto hace que brinde una menor seguridad en las predicciones. A diferencia del modelo anterior, este modelo da importancia a más de una variable dependiente con se refleja en la imagen 5.\n",
        "\n",
        "* El k-nearest neighbors es una técnica que se basa en la cercanía entre los datos para realizar las predicciones; las métricas resultantes en la empleabilidad de este modelo nos indica que tiene una buena seguridad en las predicciones de clasificación, pero, su intervalo entre las métricas de entrenamiento y prueban distan, no demasiado como se aprecio en Random Forest, ni poco como se evidencio en árboles de decisión.\n",
        "\n",
        "En general, la precisión de las métricas de cada uno de los tres modelos nos indican cual sería el modelo predilecto a usar, brindanos así una mejor calidad en las predicciones a emplear en la clasificación de los datos del dataset.\n",
        "\n",
        "Teniendo en cuenta lo anterior mencionado, se puede afirmar que el modelo más eficiente para el dataset *Titanic* es **Árboles de decisión**."
      ],
      "metadata": {
        "id": "g70erUJwTVzS"
      }
    },
    {
      "cell_type": "markdown",
      "source": [
        "## 6. Referencias"
      ],
      "metadata": {
        "id": "ZWNsDM-yTYVV"
      }
    },
    {
      "cell_type": "markdown",
      "source": [
        "* [A Titanic Probability - Standford CS109](https://web.stanford.edu/class/archive/cs/cs109/cs109.1166/problem12.html)\n",
        "\n",
        "* [Scikit-learn: Machine Learning in Python](https://jmlr.csail.mit.edu/papers/v12/pedregosa11a.html), Pedregosa et al., JMLR 12, pp. 2825-2830, 2011.\n",
        "* [Random Forest](https://interactivechaos.com/es/wiki/random-forest)\n",
        "* [Árboles de decisión: en qué consisten y aplicación en Big Data](https://www.unir.net/ingenieria/revista/arboles-de-decision/)\n",
        "* [QUÉ SON LOS ÁRBOLES DE DECISIÓN Y PARA QUÉ SIRVEN](https://www.maximaformacion.es/blog-dat/que-son-los-arboles-de-decision-y-para-que-sirven/)\n",
        "* [K Vecinos más Cercanos – Teoría](https://aprendeia.com/algoritmo-k-vecinos-mas-cercanos-teoria-machine-learning/)"
      ],
      "metadata": {
        "id": "JwYSFRnYa3Gm"
      }
    }
  ]
}